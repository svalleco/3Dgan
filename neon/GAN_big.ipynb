{
 "cells": [
  {
   "cell_type": "code",
   "execution_count": 214,
   "metadata": {
    "collapsed": true
   },
   "outputs": [],
   "source": [
    "import numpy as np\n",
    "import matplotlib.pyplot as plt\n",
    "%matplotlib inline"
   ]
  },
  {
   "cell_type": "code",
   "execution_count": 215,
   "metadata": {
    "collapsed": true
   },
   "outputs": [],
   "source": [
    "dat = np.load(\"tiny_data.npz\")"
   ]
  },
  {
   "cell_type": "code",
   "execution_count": 216,
   "metadata": {
    "collapsed": true
   },
   "outputs": [],
   "source": [
    "arr = dat.items()[0][1][:200, :]"
   ]
  },
  {
   "cell_type": "code",
   "execution_count": 217,
   "metadata": {
    "collapsed": false
   },
   "outputs": [
    {
     "data": {
      "text/plain": [
       "<matplotlib.image.AxesImage at 0x739e8f550>"
      ]
     },
     "execution_count": 217,
     "metadata": {},
     "output_type": "execute_result"
    },
    {
     "data": {
      "image/png": "[encoded data removed]",
      "text/plain": [
       "<matplotlib.figure.Figure at 0x739cce610>"
      ]
     },
     "metadata": {},
     "output_type": "display_data"
    }
   ],
   "source": [
    "plt.imshow(arr[2].reshape((25, 25, 25))[:, 12, :])"
   ]
  },
  {
   "cell_type": "code",
   "execution_count": 218,
   "metadata": {
    "collapsed": false
   },
   "outputs": [],
   "source": [
    "import os\n",
    "from datetime import datetime\n",
    "from neon.callbacks.callbacks import Callbacks, GANCostCallback, LossCallback\n",
    "#from neon.callbacks.plotting_callbacks import GANPlotCallback\n",
    "from neon.initializers import Gaussian\n",
    "from neon.layers import GeneralizedGANCost, Affine, Sequential, Conv, Deconv, Dropout, Pooling, BatchNorm\n",
    "from neon.layers.layer import Linear, Reshape\n",
    "from neon.layers.container import GenerativeAdversarial\n",
    "from neon.models.model import GAN, Model\n",
    "from neon.transforms import Rectlin, Logistic, GANCost, Tanh\n",
    "from neon.util.argparser import NeonArgparser\n",
    "from neon.util.persist import ensure_dirs_exist\n",
    "from neon.layers.layer import Dropout\n",
    "from neon.data.dataiterator import ArrayIterator\n",
    "from neon.optimizers import GradientDescentMomentum, RMSProp\n",
    "from neon.backends import gen_backend\n",
    "import numpy as np\n",
    "from sklearn.cross_validation import train_test_split"
   ]
  },
  {
   "cell_type": "code",
   "execution_count": 219,
   "metadata": {
    "collapsed": true
   },
   "outputs": [],
   "source": [
    "X = arr.copy()\n",
    "y = np.ones(arr.shape[0])\n"
   ]
  },
  {
   "cell_type": "code",
   "execution_count": 220,
   "metadata": {
    "collapsed": true
   },
   "outputs": [],
   "source": [
    "mean = np.mean(X, axis=0, keepdims=True) \n",
    "X-=mean\n",
    "max_elem = np.max(np.abs(X))"
   ]
  },
  {
   "cell_type": "code",
   "execution_count": 221,
   "metadata": {
    "collapsed": true
   },
   "outputs": [],
   "source": [
    "X = (X)/max_elem"
   ]
  },
  {
   "cell_type": "code",
   "execution_count": 222,
   "metadata": {
    "collapsed": false
   },
   "outputs": [
    {
     "data": {
      "text/plain": [
       "(1.0, -0.70241272)"
      ]
     },
     "execution_count": 222,
     "metadata": {},
     "output_type": "execute_result"
    }
   ],
   "source": [
    "np.max(X), np.min(X)"
   ]
  },
  {
   "cell_type": "code",
   "execution_count": 223,
   "metadata": {
    "collapsed": false
   },
   "outputs": [
    {
     "data": {
      "text/plain": [
       "[<matplotlib.lines.Line2D at 0x739f57b50>]"
      ]
     },
     "execution_count": 223,
     "metadata": {},
     "output_type": "execute_result"
    },
    {
     "data": {
      "image/png": "[encoded data removed]",
      "text/plain": [
       "<matplotlib.figure.Figure at 0x625562050>"
      ]
     },
     "metadata": {},
     "output_type": "display_data"
    }
   ],
   "source": [
    "plt.plot(X[20].reshape((25, 25, 25))[12, 12, :])"
   ]
  },
  {
   "cell_type": "code",
   "execution_count": 224,
   "metadata": {
    "collapsed": false
   },
   "outputs": [
    {
     "name": "stdout",
     "output_type": "stream",
     "text": [
      "((180, 15625), 'X train shape')\n",
      "((180,), 'y train shape')\n"
     ]
    }
   ],
   "source": [
    "X_train, X_test, y_train, y_test = train_test_split(X, y, train_size=0.9, random_state=42)\n",
    "print(X_train.shape, 'X train shape')\n",
    "print(y_train.shape, 'y train shape')"
   ]
  },
  {
   "cell_type": "code",
   "execution_count": 226,
   "metadata": {
    "collapsed": false
   },
   "outputs": [],
   "source": [
    "gen_backend(backend='cpu', batch_size=10)\n",
    "train_set = ArrayIterator(X=X_train, y=y_train, nclass=2, lshape=(1, 25, 25, 25))\n",
    "valid_set = ArrayIterator(X=X_test, y=y_test, nclass=2)"
   ]
  },
  {
   "cell_type": "code",
   "execution_count": 228,
   "metadata": {
    "collapsed": false
   },
   "outputs": [
    {
     "name": "stdout",
     "output_type": "stream",
     "text": [
      "Epoch 0   [Train |████████            |    8/18   batches, 0.00 cost, 77.28s]"
     ]
    },
    {
     "ename": "KeyboardInterrupt",
     "evalue": "",
     "output_type": "error",
     "traceback": [
      "\u001b[0;31m---------------------------------------------------------------------------\u001b[0m",
      "\u001b[0;31mKeyboardInterrupt\u001b[0m                         Traceback (most recent call last)",
      "\u001b[0;32m<ipython-input-228-efeeb8165347>\u001b[0m in \u001b[0;36m<module>\u001b[0;34m()\u001b[0m\n\u001b[1;32m     72\u001b[0m \u001b[0;31m# run fit\u001b[0m\u001b[0;34m\u001b[0m\u001b[0;34m\u001b[0m\u001b[0m\n\u001b[1;32m     73\u001b[0m gan.fit(train_set, num_epochs=nb_epochs, optimizer=optimizer,\n\u001b[0;32m---> 74\u001b[0;31m         cost=cost, callbacks=callbacks)\n\u001b[0m",
      "\u001b[0;32m/Users/valentin.khrulkov/anaconda3/envs/neon/lib/python2.7/site-packages/neon-2.0.0-py2.7.egg/neon/models/model.pyc\u001b[0m in \u001b[0;36mfit\u001b[0;34m(self, dataset, cost, optimizer, num_epochs, callbacks)\u001b[0m\n\u001b[1;32m    181\u001b[0m             \u001b[0mcallbacks\u001b[0m\u001b[0;34m.\u001b[0m\u001b[0mon_epoch_begin\u001b[0m\u001b[0;34m(\u001b[0m\u001b[0mself\u001b[0m\u001b[0;34m.\u001b[0m\u001b[0mepoch_index\u001b[0m\u001b[0;34m)\u001b[0m\u001b[0;34m\u001b[0m\u001b[0m\n\u001b[1;32m    182\u001b[0m \u001b[0;34m\u001b[0m\u001b[0m\n\u001b[0;32m--> 183\u001b[0;31m             \u001b[0mself\u001b[0m\u001b[0;34m.\u001b[0m\u001b[0m_epoch_fit\u001b[0m\u001b[0;34m(\u001b[0m\u001b[0mdataset\u001b[0m\u001b[0;34m,\u001b[0m \u001b[0mcallbacks\u001b[0m\u001b[0;34m)\u001b[0m\u001b[0;34m\u001b[0m\u001b[0m\n\u001b[0m\u001b[1;32m    184\u001b[0m \u001b[0;34m\u001b[0m\u001b[0m\n\u001b[1;32m    185\u001b[0m             \u001b[0mcallbacks\u001b[0m\u001b[0;34m.\u001b[0m\u001b[0mon_epoch_end\u001b[0m\u001b[0;34m(\u001b[0m\u001b[0mself\u001b[0m\u001b[0;34m.\u001b[0m\u001b[0mepoch_index\u001b[0m\u001b[0;34m)\u001b[0m\u001b[0;34m\u001b[0m\u001b[0m\n",
      "\u001b[0;32m/Users/valentin.khrulkov/anaconda3/envs/neon/lib/python2.7/site-packages/neon-2.0.0-py2.7.egg/neon/models/model.pyc\u001b[0m in \u001b[0;36m_epoch_fit\u001b[0;34m(self, dataset, callbacks)\u001b[0m\n\u001b[1;32m    773\u001b[0m \u001b[0;34m\u001b[0m\u001b[0m\n\u001b[1;32m    774\u001b[0m             \u001b[0;31m# train discriminator on data\u001b[0m\u001b[0;34m\u001b[0m\u001b[0;34m\u001b[0m\u001b[0m\n\u001b[0;32m--> 775\u001b[0;31m             \u001b[0my_data\u001b[0m \u001b[0;34m=\u001b[0m \u001b[0mself\u001b[0m\u001b[0;34m.\u001b[0m\u001b[0mfprop_dis\u001b[0m\u001b[0;34m(\u001b[0m\u001b[0mx\u001b[0m\u001b[0;34m)\u001b[0m\u001b[0;34m\u001b[0m\u001b[0m\n\u001b[0m\u001b[1;32m    776\u001b[0m             \u001b[0mdelta_data\u001b[0m \u001b[0;34m=\u001b[0m \u001b[0mself\u001b[0m\u001b[0;34m.\u001b[0m\u001b[0mcost\u001b[0m\u001b[0;34m.\u001b[0m\u001b[0mcostfunc\u001b[0m\u001b[0;34m.\u001b[0m\u001b[0mbprop_data\u001b[0m\u001b[0;34m(\u001b[0m\u001b[0my_data\u001b[0m\u001b[0;34m)\u001b[0m\u001b[0;34m\u001b[0m\u001b[0m\n\u001b[1;32m    777\u001b[0m             \u001b[0mself\u001b[0m\u001b[0;34m.\u001b[0m\u001b[0mbprop_dis\u001b[0m\u001b[0;34m(\u001b[0m\u001b[0mdelta_data\u001b[0m\u001b[0;34m)\u001b[0m\u001b[0;34m\u001b[0m\u001b[0m\n",
      "\u001b[0;32m/Users/valentin.khrulkov/anaconda3/envs/neon/lib/python2.7/site-packages/neon-2.0.0-py2.7.egg/neon/models/model.pyc\u001b[0m in \u001b[0;36mfprop_dis\u001b[0;34m(self, x, inference)\u001b[0m\n\u001b[1;32m    824\u001b[0m         \u001b[0mfprop\u001b[0m \u001b[0mthe\u001b[0m \u001b[0mdiscriminator\u001b[0m \u001b[0mlayer\u001b[0m \u001b[0mstack\u001b[0m\u001b[0;34m\u001b[0m\u001b[0m\n\u001b[1;32m    825\u001b[0m         \"\"\"\n\u001b[0;32m--> 826\u001b[0;31m         \u001b[0;32mreturn\u001b[0m \u001b[0mself\u001b[0m\u001b[0;34m.\u001b[0m\u001b[0mlayers\u001b[0m\u001b[0;34m.\u001b[0m\u001b[0mdiscriminator\u001b[0m\u001b[0;34m.\u001b[0m\u001b[0mfprop\u001b[0m\u001b[0;34m(\u001b[0m\u001b[0mx\u001b[0m\u001b[0;34m,\u001b[0m \u001b[0minference\u001b[0m\u001b[0;34m)\u001b[0m\u001b[0;34m\u001b[0m\u001b[0m\n\u001b[0m\u001b[1;32m    827\u001b[0m \u001b[0;34m\u001b[0m\u001b[0m\n\u001b[1;32m    828\u001b[0m     \u001b[0;32mdef\u001b[0m \u001b[0mbprop_dis\u001b[0m\u001b[0;34m(\u001b[0m\u001b[0mself\u001b[0m\u001b[0;34m,\u001b[0m \u001b[0mdelta\u001b[0m\u001b[0;34m)\u001b[0m\u001b[0;34m:\u001b[0m\u001b[0;34m\u001b[0m\u001b[0m\n",
      "\u001b[0;32m/Users/valentin.khrulkov/anaconda3/envs/neon/lib/python2.7/site-packages/neon-2.0.0-py2.7.egg/neon/layers/container.pyc\u001b[0m in \u001b[0;36mfprop\u001b[0;34m(self, inputs, inference, beta)\u001b[0m\n\u001b[1;32m    361\u001b[0m                 \u001b[0mx\u001b[0m \u001b[0;34m=\u001b[0m \u001b[0ml\u001b[0m\u001b[0;34m.\u001b[0m\u001b[0mfprop\u001b[0m\u001b[0;34m(\u001b[0m\u001b[0mx\u001b[0m\u001b[0;34m,\u001b[0m \u001b[0minference\u001b[0m\u001b[0;34m=\u001b[0m\u001b[0minference\u001b[0m\u001b[0;34m,\u001b[0m \u001b[0mbeta\u001b[0m\u001b[0;34m=\u001b[0m\u001b[0mbeta\u001b[0m\u001b[0;34m)\u001b[0m\u001b[0;34m\u001b[0m\u001b[0m\n\u001b[1;32m    362\u001b[0m             \u001b[0;32melse\u001b[0m\u001b[0;34m:\u001b[0m\u001b[0;34m\u001b[0m\u001b[0m\n\u001b[0;32m--> 363\u001b[0;31m                 \u001b[0mx\u001b[0m \u001b[0;34m=\u001b[0m \u001b[0ml\u001b[0m\u001b[0;34m.\u001b[0m\u001b[0mfprop\u001b[0m\u001b[0;34m(\u001b[0m\u001b[0mx\u001b[0m\u001b[0;34m,\u001b[0m \u001b[0minference\u001b[0m\u001b[0;34m=\u001b[0m\u001b[0minference\u001b[0m\u001b[0;34m)\u001b[0m\u001b[0;34m\u001b[0m\u001b[0m\n\u001b[0m\u001b[1;32m    364\u001b[0m \u001b[0;34m\u001b[0m\u001b[0m\n\u001b[1;32m    365\u001b[0m         \u001b[0;32mif\u001b[0m \u001b[0minference\u001b[0m\u001b[0;34m:\u001b[0m\u001b[0;34m\u001b[0m\u001b[0m\n",
      "\u001b[0;32m/Users/valentin.khrulkov/anaconda3/envs/neon/lib/python2.7/site-packages/neon-2.0.0-py2.7.egg/neon/layers/layer.pyc\u001b[0m in \u001b[0;36mfprop\u001b[0;34m(self, inputs, inference, beta)\u001b[0m\n\u001b[1;32m    873\u001b[0m         \u001b[0mself\u001b[0m\u001b[0;34m.\u001b[0m\u001b[0minputs\u001b[0m \u001b[0;34m=\u001b[0m \u001b[0minputs\u001b[0m\u001b[0;34m\u001b[0m\u001b[0m\n\u001b[1;32m    874\u001b[0m         self.be.fprop_conv(self.nglayer, inputs, self.W, self.outputs, beta=beta,\n\u001b[0;32m--> 875\u001b[0;31m                            bsum=self.batch_sum)\n\u001b[0m\u001b[1;32m    876\u001b[0m         \u001b[0;32mreturn\u001b[0m \u001b[0mself\u001b[0m\u001b[0;34m.\u001b[0m\u001b[0moutputs\u001b[0m\u001b[0;34m\u001b[0m\u001b[0m\n\u001b[1;32m    877\u001b[0m \u001b[0;34m\u001b[0m\u001b[0m\n",
      "\u001b[0;32m/Users/valentin.khrulkov/anaconda3/envs/neon/lib/python2.7/site-packages/neon-2.0.0-py2.7.egg/neon/backends/nervanacpu.pyc\u001b[0m in \u001b[0;36mfprop_conv\u001b[0;34m(self, layer, I, F, O, X, bias, bsum, alpha, beta, relu, brelu, slope)\u001b[0m\n\u001b[1;32m   1130\u001b[0m                 \u001b[0mcan\u001b[0m \u001b[0mbe\u001b[0m \u001b[0mcombined\u001b[0m \u001b[0;32mwith\u001b[0m \u001b[0mbsum\u001b[0m \u001b[0mtensor\u001b[0m \u001b[0mto\u001b[0m \u001b[0moutput\u001b[0m \u001b[0mbprop_bias\u001b[0m\u001b[0;34m\u001b[0m\u001b[0m\n\u001b[1;32m   1131\u001b[0m         \"\"\"\n\u001b[0;32m-> 1132\u001b[0;31m         \u001b[0mlayer\u001b[0m\u001b[0;34m.\u001b[0m\u001b[0mxprop_conv\u001b[0m\u001b[0;34m(\u001b[0m\u001b[0mI\u001b[0m\u001b[0;34m,\u001b[0m \u001b[0mF\u001b[0m\u001b[0;34m,\u001b[0m \u001b[0mO\u001b[0m\u001b[0;34m,\u001b[0m \u001b[0mX\u001b[0m\u001b[0;34m,\u001b[0m \u001b[0mbias\u001b[0m\u001b[0;34m,\u001b[0m \u001b[0mbsum\u001b[0m\u001b[0;34m,\u001b[0m \u001b[0malpha\u001b[0m\u001b[0;34m,\u001b[0m \u001b[0mbeta\u001b[0m\u001b[0;34m,\u001b[0m \u001b[0mrelu\u001b[0m\u001b[0;34m,\u001b[0m \u001b[0mbrelu\u001b[0m\u001b[0;34m,\u001b[0m \u001b[0mslope\u001b[0m\u001b[0;34m)\u001b[0m\u001b[0;34m\u001b[0m\u001b[0m\n\u001b[0m\u001b[1;32m   1133\u001b[0m \u001b[0;34m\u001b[0m\u001b[0m\n\u001b[1;32m   1134\u001b[0m     def bprop_conv(self, layer, F, E, grad_I,\n",
      "\u001b[0;32m/Users/valentin.khrulkov/anaconda3/envs/neon/lib/python2.7/site-packages/neon-2.0.0-py2.7.egg/neon/backends/layer_cpu.pyc\u001b[0m in \u001b[0;36mxprop_conv\u001b[0;34m(self, I, F, O, X, bias, bsum, alpha, beta, relu, brelu, slope, backward)\u001b[0m\n\u001b[1;32m    224\u001b[0m                             \u001b[0mbeta\u001b[0m \u001b[0;34m*\u001b[0m \u001b[0mX\u001b[0m\u001b[0;34m[\u001b[0m\u001b[0;34m:\u001b[0m\u001b[0;34m,\u001b[0m \u001b[0mm\u001b[0m\u001b[0;34m,\u001b[0m \u001b[0mp\u001b[0m\u001b[0;34m,\u001b[0m \u001b[0mq\u001b[0m\u001b[0;34m]\u001b[0m\u001b[0;34m\u001b[0m\u001b[0m\n\u001b[1;32m    225\u001b[0m                     \u001b[0;32melse\u001b[0m\u001b[0;34m:\u001b[0m\u001b[0;34m\u001b[0m\u001b[0m\n\u001b[0;32m--> 226\u001b[0;31m                         \u001b[0mO\u001b[0m\u001b[0;34m[\u001b[0m\u001b[0;34m:\u001b[0m\u001b[0;34m,\u001b[0m \u001b[0mm\u001b[0m\u001b[0;34m,\u001b[0m \u001b[0mp\u001b[0m\u001b[0;34m,\u001b[0m \u001b[0mq\u001b[0m\u001b[0;34m]\u001b[0m \u001b[0;34m=\u001b[0m \u001b[0mnp\u001b[0m\u001b[0;34m.\u001b[0m\u001b[0mdot\u001b[0m\u001b[0;34m(\u001b[0m\u001b[0mslicedF\u001b[0m\u001b[0;34m.\u001b[0m\u001b[0mT\u001b[0m\u001b[0;34m,\u001b[0m \u001b[0mslicedI\u001b[0m\u001b[0;34m)\u001b[0m\u001b[0;34m\u001b[0m\u001b[0m\n\u001b[0m\u001b[1;32m    227\u001b[0m \u001b[0;34m\u001b[0m\u001b[0m\n\u001b[1;32m    228\u001b[0m         \u001b[0;32mif\u001b[0m \u001b[0;32mnot\u001b[0m \u001b[0mbeta\u001b[0m\u001b[0;34m:\u001b[0m\u001b[0;34m\u001b[0m\u001b[0m\n",
      "\u001b[0;32m/Users/valentin.khrulkov/anaconda3/envs/neon/lib/python2.7/site-packages/neon-2.0.0-py2.7.egg/neon/callbacks/callbacks.pyc\u001b[0m in \u001b[0;36mon_sigint_catch\u001b[0;34m(self, epoch, minibatch)\u001b[0m\n\u001b[1;32m    353\u001b[0m             \u001b[0;32mraise\u001b[0m \u001b[0mKeyboardInterrupt\u001b[0m\u001b[0;34m(\u001b[0m\u001b[0;34m'Checkpoint file saved to {0}'\u001b[0m\u001b[0;34m.\u001b[0m\u001b[0mformat\u001b[0m\u001b[0;34m(\u001b[0m\u001b[0mself\u001b[0m\u001b[0;34m.\u001b[0m\u001b[0msave_path\u001b[0m\u001b[0;34m)\u001b[0m\u001b[0;34m)\u001b[0m\u001b[0;34m\u001b[0m\u001b[0m\n\u001b[1;32m    354\u001b[0m         \u001b[0;32melse\u001b[0m\u001b[0;34m:\u001b[0m\u001b[0;34m\u001b[0m\u001b[0m\n\u001b[0;32m--> 355\u001b[0;31m             \u001b[0;32mraise\u001b[0m \u001b[0mKeyboardInterrupt\u001b[0m\u001b[0;34m\u001b[0m\u001b[0m\n\u001b[0m\u001b[1;32m    356\u001b[0m \u001b[0;34m\u001b[0m\u001b[0m\n\u001b[1;32m    357\u001b[0m \u001b[0;34m\u001b[0m\u001b[0m\n",
      "\u001b[0;31mKeyboardInterrupt\u001b[0m: "
     ]
    }
   ],
   "source": [
    "# setup weight initialization function\n",
    "init = Gaussian(scale=0.01)\n",
    "\n",
    "# discriminiator using convolution layers\n",
    "lrelu = Rectlin(slope=0.1)  # leaky relu for discriminator\n",
    "# sigmoid = Logistic() # sigmoid activation function\n",
    "conv1 = dict(init=init, batch_norm=False, activation=lrelu, padding=2, bias=init) # what's about BatchNorm Layer and batch_norm parameter?\n",
    "conv2 = dict(init=init, batch_norm=False, activation=lrelu, padding=2, bias=init)\n",
    "conv3 = dict(init=init, batch_norm=False, activation=lrelu, padding=2, bias=init)\n",
    "D_layers = [\n",
    "            Conv((5, 5, 5, 16), **conv1),\n",
    "            Conv((5, 5, 5, 16), **conv2),\n",
    "            Pooling((2, 2, 2), strides=2),\n",
    "            Conv((5, 5, 5, 16), **conv1),\n",
    "            Conv((5, 5, 5, 16), **conv2),\n",
    "            Pooling((2, 2, 2), strides=2),\n",
    "            Affine(1024, init=init, activation=lrelu),\n",
    "            Affine(1, init=init, activation=Logistic())\n",
    "            ]\n",
    "\n",
    "# generator using convolution layers\n",
    "init_gen = Gaussian(scale=0.01)\n",
    "relu = Rectlin(slope=0)  # relu for generator\n",
    "pad1 = dict(pad_h=0, pad_w=0, pad_d=0)\n",
    "str1 = dict(str_h=1, str_w=1, str_d=1)\n",
    "conv1 = dict(init=init_gen, batch_norm=False, activation=relu, padding=pad1, strides=str1, bias=init_gen)\n",
    "pad2 = dict(pad_h=0, pad_w=0, pad_d=0)\n",
    "str2 = dict(str_h=2, str_w=2, str_d=2)\n",
    "conv2 = dict(init=init_gen, batch_norm=False, activation=relu, padding=pad2, strides=str2, bias=init_gen)\n",
    "pad3 = dict(pad_h=0, pad_w=0, pad_d=0)\n",
    "str3 = dict(str_h=1, str_w=1, str_d=1)\n",
    "conv3 = dict(init=init_gen, batch_norm=False, activation=Tanh(), padding=pad3, strides=str3, bias=init_gen)\n",
    "G_layers = [\n",
    "            Affine(1024, init=init_gen, bias=init_gen, activation=relu),\n",
    "            BatchNorm(),\n",
    "            Affine(8 * 9 * 9 * 9, init=init_gen, bias=init_gen, activation=relu),\n",
    "            BatchNorm(),\n",
    "            Reshape((8, 9, 9, 9)),\n",
    "            Deconv((5, 5, 5, 16), **conv1), #14x14x14\n",
    "            BatchNorm(),\n",
    "            Deconv((5, 5, 5, 16), **conv1), #14x14x14\n",
    "            BatchNorm(),\n",
    "            Deconv((5, 5, 5, 16), **conv1), #14x14x14\n",
    "            BatchNorm(),\n",
    "            Deconv((5, 5, 5, 1), **conv3), #27x27x27\n",
    "            ]\n",
    "\n",
    "layers = GenerativeAdversarial(generator=Sequential(G_layers, name=\"Generator\"),\n",
    "                               discriminator=Sequential(D_layers, name=\"Discriminator\"))\n",
    "\n",
    "# setup optimizer\n",
    "optimizer = RMSProp(learning_rate=1e-2, decay_rate=0.9, epsilon=1e-8)\n",
    "#optimizer = GradientDescentMomentum(learning_rate=1e-3, momentum_coef = 0.9)\n",
    "\n",
    "# setup cost function as Binary CrossEntropy\n",
    "cost = GeneralizedGANCost(costfunc=GANCost(func=\"wasserstein\"))\n",
    "\n",
    "nb_epochs = 13\n",
    "latent_size = 200\n",
    "inb_classes = 2\n",
    "nb_test = 100\n",
    "\n",
    "# initialize model\n",
    "noise_dim = (latent_size)\n",
    "gan = GAN(layers=layers, noise_dim=noise_dim, k=5)\n",
    "\n",
    "# configure callbacks\n",
    "callbacks = Callbacks(gan, eval_set=valid_set)\n",
    "callbacks.add_callback(GANCostCallback())\n",
    "#callbacks.add_save_best_state_callback(\"./best_state.pkl\")\n",
    "\n",
    "# run fit\n",
    "gan.fit(train_set, num_epochs=nb_epochs, optimizer=optimizer,\n",
    "        cost=cost, callbacks=callbacks)"
   ]
  },
  {
   "cell_type": "code",
   "execution_count": 202,
   "metadata": {
    "collapsed": true
   },
   "outputs": [],
   "source": [
    "x_new = np.random.standard_normal((64, latent_size))\n",
    "inference_set = ArrayIterator(x_new, None, nclass=2, lshape=(latent_size))\n",
    "my_generator = Model(gan.layers.generator)"
   ]
  },
  {
   "cell_type": "code",
   "execution_count": 203,
   "metadata": {
    "collapsed": false
   },
   "outputs": [],
   "source": [
    "test = my_generator.get_outputs(inference_set)\n",
    "\n",
    "test = test * max_elem \n",
    "test += mean\n",
    "test =  test.reshape((64, 25, 25, 25))"
   ]
  },
  {
   "cell_type": "code",
   "execution_count": 204,
   "metadata": {
    "collapsed": false
   },
   "outputs": [
    {
     "data": {
      "text/plain": [
       "<matplotlib.image.AxesImage at 0x615cba590>"
      ]
     },
     "execution_count": 204,
     "metadata": {},
     "output_type": "execute_result"
    },
    {
     "data": {
      "image/png": "[encoded data removed]",
      "text/plain": [
       "<matplotlib.figure.Figure at 0x5a66f0890>"
      ]
     },
     "metadata": {},
     "output_type": "display_data"
    }
   ],
   "source": [
    "plt.imshow(test[0, 12, :, :])"
   ]
  },
  {
   "cell_type": "code",
   "execution_count": 205,
   "metadata": {
    "collapsed": false
   },
   "outputs": [
    {
     "data": {
      "text/plain": [
       "<matplotlib.image.AxesImage at 0x615bfe310>"
      ]
     },
     "execution_count": 205,
     "metadata": {},
     "output_type": "execute_result"
    },
    {
     "data": {
      "image/png": "[encoded data removed]",
      "text/plain": [
       "<matplotlib.figure.Figure at 0x6ea044bd0>"
      ]
     },
     "metadata": {},
     "output_type": "display_data"
    }
   ],
   "source": [
    "plt.imshow(test[12, :, 12, :])"
   ]
  },
  {
   "cell_type": "code",
   "execution_count": 206,
   "metadata": {
    "collapsed": false
   },
   "outputs": [
    {
     "data": {
      "text/plain": [
       "array([[ -4.21631703e-04,  -3.92258109e-04,  -4.17067145e-04,\n",
       "         -4.08505468e-04,  -5.04036958e-04,  -3.95464362e-04,\n",
       "         -3.94917530e-04,  -3.65543470e-04,  -3.65671323e-04,\n",
       "         -1.91657047e-04,  -3.13673227e-04,  -3.54069198e-04,\n",
       "         -3.13349825e-04,  -2.94906669e-04,  -2.49915814e-04,\n",
       "         -3.86789528e-04,  -3.49208014e-04,  -3.30366020e-04,\n",
       "         -5.06974815e-04,  -4.94324311e-04,  -4.23493533e-04,\n",
       "         -4.32488188e-04,  -4.55405272e-04,  -4.31842025e-04,\n",
       "         -3.94678762e-04],\n",
       "       [ -4.01036436e-04,  -3.28170921e-04,  -3.11847252e-04,\n",
       "         -3.76174576e-04,  -3.84139770e-04,  -3.65032407e-04,\n",
       "         -3.61984916e-04,  -2.90741096e-04,  -4.46456979e-04,\n",
       "         -2.04422235e-04,  -2.52050842e-04,  -4.67607402e-04,\n",
       "         -3.73561750e-04,  -1.05016523e-04,  -5.70192293e-04,\n",
       "         -4.23424353e-04,  -1.72517641e-04,  -6.70637703e-04,\n",
       "         -5.21914859e-04,  -3.52792413e-04,  -4.87068406e-04,\n",
       "         -4.16481576e-04,  -5.04186028e-04,  -4.72398388e-04,\n",
       "         -4.39344993e-04],\n",
       "       [ -4.30614688e-04,  -3.79767793e-04,  -4.87007463e-04,\n",
       "         -6.40072511e-04,  -6.93942595e-04,  -6.80484460e-04,\n",
       "         -1.53144938e-04,  -5.22248505e-04,  -8.62370362e-05,\n",
       "          1.18122996e-04,  -5.59850247e-04,  -3.17007856e-04,\n",
       "          3.13277793e-04,   1.20780824e-04,  -3.56369244e-04,\n",
       "         -3.32158699e-04,  -5.23564289e-04,  -5.15462772e-04,\n",
       "         -5.93217963e-04,  -5.91274933e-04,  -4.05242492e-04,\n",
       "         -4.45078884e-04,  -5.42538997e-04,  -4.12615918e-04,\n",
       "         -4.46854450e-04],\n",
       "       [ -4.51422238e-04,  -4.11437184e-04,  -4.59989795e-04,\n",
       "         -6.31343864e-04,  -2.60289409e-04,  -5.24683855e-04,\n",
       "         -4.02285368e-04,  -1.06144464e-04,  -1.78237475e-04,\n",
       "         -3.32477095e-04,  -2.34448060e-04,   1.54165726e-04,\n",
       "         -5.89953706e-05,  -4.23974649e-04,  -5.97319158e-04,\n",
       "         -7.28564046e-04,  -4.27636842e-05,  -1.33089023e-04,\n",
       "         -5.70159522e-04,  -7.22179830e-04,  -3.62619874e-04,\n",
       "         -4.87133948e-04,  -2.32468505e-04,  -4.39364434e-04,\n",
       "         -3.13955476e-04],\n",
       "       [ -4.26675775e-04,  -3.05272173e-04,  -4.15895018e-04,\n",
       "         -6.55303884e-04,  -2.42654729e-04,  -2.03743810e-04,\n",
       "          2.84208043e-04,   1.91991814e-04,   2.93570978e-04,\n",
       "          5.06127835e-04,  -2.28598597e-04,   2.81379151e-04,\n",
       "         -5.78263658e-04,  -2.23467228e-04,  -4.32984350e-04,\n",
       "          2.34039224e-04,   1.14076967e-04,  -1.73047825e-04,\n",
       "         -4.00407735e-04,  -5.17407316e-04,  -5.92857425e-04,\n",
       "          7.55744913e-05,  -2.77715852e-04,  -3.07980052e-04,\n",
       "         -3.51100753e-04],\n",
       "       [ -4.49029496e-04,  -1.72019267e-04,  -4.71213629e-04,\n",
       "         -5.33002196e-04,  -2.33020182e-04,   1.13328861e-05,\n",
       "         -1.40656193e-04,   2.20486894e-04,   1.06748822e-03,\n",
       "          8.23961454e-06,  -7.09368265e-04,   7.43618293e-05,\n",
       "          2.07504185e-04,  -5.41453948e-04,   2.46015727e-04,\n",
       "          4.01262863e-04,   1.41114797e-04,  -6.69508590e-05,\n",
       "         -8.51319055e-04,  -5.53720456e-04,  -2.48087395e-04,\n",
       "          3.17708531e-04,  -3.43799096e-04,  -1.02331061e-04,\n",
       "         -2.85417656e-04],\n",
       "       [ -4.22818674e-04,  -2.67134077e-04,  -8.49873177e-05,\n",
       "         -2.65858253e-04,  -6.24020060e-04,  -1.17412623e-04,\n",
       "          1.10532204e-03,   6.31525996e-04,  -3.25185305e-04,\n",
       "          2.06926401e-04,  -4.02024423e-04,   2.82975525e-04,\n",
       "          4.69317660e-04,  -5.82303852e-04,   2.80822860e-06,\n",
       "          1.00021833e-03,   1.23256352e-03,   3.00206011e-07,\n",
       "         -6.72121940e-04,  -2.23500771e-04,   1.20959099e-04,\n",
       "          3.13296623e-04,  -8.73205572e-05,  -2.80467037e-04,\n",
       "         -2.06127501e-04],\n",
       "       [ -3.55033961e-04,  -5.81182430e-05,  -2.35257728e-04,\n",
       "         -3.63210333e-04,  -6.10248651e-04,  -7.01716985e-04,\n",
       "         -1.11435121e-03,   2.92728946e-04,   8.97571212e-04,\n",
       "         -2.24922900e-04,   4.21470788e-04,   8.50798562e-04,\n",
       "          9.59435361e-04,   1.47337280e-03,  -5.75468526e-04,\n",
       "         -7.75401131e-05,   1.67448714e-04,   5.85114292e-04,\n",
       "          5.26374264e-04,   2.56099302e-04,   2.06451194e-04,\n",
       "          2.96525366e-04,  -7.83155556e-05,  -2.77819141e-04,\n",
       "          7.78434332e-06],\n",
       "       [ -5.74798731e-04,  -3.82119615e-04,  -4.25449573e-04,\n",
       "         -2.25498501e-04,   2.64572300e-04,   2.13342166e-04,\n",
       "          1.31728570e-03,   1.64662488e-05,  -1.41219015e-03,\n",
       "          4.56096983e-04,   1.89729361e-03,   1.01744290e-03,\n",
       "          1.05367298e-03,   1.43262208e-03,   5.37960266e-04,\n",
       "          3.66254360e-04,   1.25409081e-03,   2.44080089e-04,\n",
       "          4.94752428e-04,   7.84806674e-04,   1.18482218e-03,\n",
       "          3.31833406e-04,   8.63758323e-05,   1.15907285e-04,\n",
       "          1.66726153e-04],\n",
       "       [ -3.66483320e-04,  -2.26983364e-04,  -8.74613470e-05,\n",
       "         -2.69765878e-04,  -1.46242441e-04,   1.14123942e-03,\n",
       "         -2.41541537e-04,   1.42475462e-03,   2.17392179e-03,\n",
       "          2.60427315e-03,   2.48898240e-03,   2.62753712e-03,\n",
       "          3.23172845e-03,   2.16576038e-03,   4.39096242e-03,\n",
       "          3.93616548e-03,   2.39059981e-03,   3.35016008e-03,\n",
       "          2.50129774e-03,   2.20261700e-03,   2.22753920e-03,\n",
       "          1.27522578e-03,   8.99060280e-04,   4.73447406e-04,\n",
       "          6.67745015e-04],\n",
       "       [ -4.25114587e-04,  -1.38949545e-04,  -3.98870528e-04,\n",
       "          7.83631287e-04,   1.18486059e-03,   2.54264334e-03,\n",
       "          2.74648098e-03,   5.48843434e-03,   6.59866352e-03,\n",
       "          8.29532091e-03,   1.14046102e-02,   1.01265265e-02,\n",
       "          1.16072539e-02,   1.21422037e-02,   1.26398914e-02,\n",
       "          1.18035199e-02,   1.28130903e-02,   1.09365424e-02,\n",
       "          9.34575405e-03,   7.12896418e-03,   5.13404049e-03,\n",
       "          4.11104970e-03,   2.55295355e-03,   2.17355392e-03,\n",
       "          1.63094164e-03],\n",
       "       [ -1.68247789e-04,   6.65377476e-04,   2.68935668e-03,\n",
       "          5.95021620e-03,   1.08938310e-02,   1.63655188e-02,\n",
       "          2.41330396e-02,   3.39464694e-02,   4.27663960e-02,\n",
       "          4.97849286e-02,   5.84726483e-02,   6.13485165e-02,\n",
       "          6.58016577e-02,   6.63333535e-02,   6.63099140e-02,\n",
       "          6.25748262e-02,   5.93239926e-02,   5.24407960e-02,\n",
       "          4.17201370e-02,   3.24633941e-02,   2.34190561e-02,\n",
       "          1.53790517e-02,   1.05767120e-02,   7.24021904e-03,\n",
       "          4.44881944e-03],\n",
       "       [  3.92493466e-03,   1.54890073e-02,   4.04950716e-02,\n",
       "          8.13228190e-02,   1.39512971e-01,   2.07455516e-01,\n",
       "          2.83111930e-01,   3.51234555e-01,   4.06059355e-01,\n",
       "          4.46658850e-01,   4.68456566e-01,   4.69556391e-01,\n",
       "          4.53879535e-01,   4.24143404e-01,   3.87005240e-01,\n",
       "          3.48658770e-01,   3.04064602e-01,   2.39194393e-01,\n",
       "          1.72929451e-01,   1.16788968e-01,   7.64604956e-02,\n",
       "          4.93404083e-02,   2.94856355e-02,   1.80119798e-02,\n",
       "          1.06187193e-02],\n",
       "       [  3.41529958e-04,   2.15351977e-03,   6.45236531e-03,\n",
       "          1.35826757e-02,   2.58259345e-02,   4.01707701e-02,\n",
       "          5.78618720e-02,   7.39882365e-02,   9.00017917e-02,\n",
       "          9.67908278e-02,   1.07403889e-01,   1.10717073e-01,\n",
       "          1.12054922e-01,   1.03510857e-01,   9.92757976e-02,\n",
       "          8.77960920e-02,   8.08921531e-02,   6.14783689e-02,\n",
       "          4.71028090e-02,   3.30454074e-02,   2.23137308e-02,\n",
       "          1.35851372e-02,   9.25644767e-03,   5.68444328e-03,\n",
       "          4.07904666e-03],\n",
       "       [ -2.40912923e-04,   4.84171615e-04,   1.68743741e-03,\n",
       "          3.53571074e-03,   5.93115017e-03,   9.67060961e-03,\n",
       "          1.36720240e-02,   1.85319427e-02,   1.96368881e-02,\n",
       "          2.17075292e-02,   2.51618847e-02,   2.50377152e-02,\n",
       "          2.65621170e-02,   2.61213053e-02,   2.40842775e-02,\n",
       "          2.52244007e-02,   2.03856360e-02,   1.63218770e-02,\n",
       "          1.35784335e-02,   9.46851075e-03,   7.07903365e-03,\n",
       "          4.89160372e-03,   3.41523625e-03,   2.10890966e-03,\n",
       "          1.99022470e-03],\n",
       "       [ -2.82963214e-04,   6.83909457e-05,   2.36743246e-04,\n",
       "          2.02026055e-03,   2.70038657e-03,   4.64480370e-03,\n",
       "          6.63571153e-03,   7.75028067e-03,   8.20345338e-03,\n",
       "          8.05686228e-03,   1.01339221e-02,   1.15416041e-02,\n",
       "          1.34057002e-02,   1.10350354e-02,   1.22571094e-02,\n",
       "          1.08654220e-02,   1.00912685e-02,   7.49198068e-03,\n",
       "          4.63950681e-03,   4.10278421e-03,   2.76433351e-03,\n",
       "          2.35594180e-03,   1.44815608e-03,   9.19418526e-04,\n",
       "          9.53571289e-04],\n",
       "       [ -4.22604411e-04,  -2.60109053e-04,  -2.81787681e-04,\n",
       "         -7.55962450e-04,  -4.73089749e-05,   1.83270837e-04,\n",
       "          6.38438272e-04,   5.10041136e-05,   8.69240554e-04,\n",
       "          2.38774624e-03,   1.03411020e-03,   1.26858603e-03,\n",
       "          1.82928808e-03,   8.93794582e-04,   2.96334224e-03,\n",
       "          2.13193498e-03,   2.04722770e-03,   1.66217308e-03,\n",
       "          1.22674694e-03,   7.57002388e-04,   7.26942031e-04,\n",
       "          6.07153808e-04,   4.28621017e-04,   2.08273443e-04,\n",
       "          2.41496717e-04],\n",
       "       [ -4.38393938e-04,  -2.91950710e-04,  -3.27026617e-04,\n",
       "         -7.85444863e-05,  -1.35533992e-04,  -6.94825198e-04,\n",
       "         -5.44992217e-05,  -1.58865936e-04,  -9.11223469e-06,\n",
       "         -1.86382537e-03,   3.07235518e-04,   7.80484523e-04,\n",
       "          4.47210972e-04,   1.08119554e-03,  -1.53042120e-03,\n",
       "          6.59745419e-04,  -1.14269822e-03,   3.56074539e-04,\n",
       "          3.32177820e-04,  -4.00544493e-04,   3.28413356e-04,\n",
       "          1.33400754e-04,   1.03384955e-05,  -5.85764064e-05,\n",
       "         -9.86022642e-05],\n",
       "       [ -4.41211625e-04,  -2.60227622e-04,  -3.74065741e-04,\n",
       "         -2.48109543e-04,  -6.50147442e-04,  -2.20899994e-04,\n",
       "         -8.47390329e-04,  -4.00391029e-04,  -4.89308964e-04,\n",
       "         -7.41332478e-04,  -8.12559854e-04,   3.07567068e-04,\n",
       "         -9.49669746e-04,   1.01029378e-04,  -6.98675169e-04,\n",
       "         -6.67292741e-04,  -3.78883764e-04,  -8.19165143e-04,\n",
       "          1.48999388e-05,  -5.03597083e-04,  -4.04343009e-05,\n",
       "          1.81198149e-04,  -2.44873401e-04,  -2.57346983e-05,\n",
       "         -1.73375622e-04],\n",
       "       [ -3.88410612e-04,  -4.94249049e-04,  -5.50885743e-04,\n",
       "         -7.17221585e-04,  -3.58285586e-04,  -3.32310388e-04,\n",
       "         -1.02213479e-03,  -1.06339133e-03,  -4.45837737e-04,\n",
       "         -1.67479110e-03,  -1.49673840e-04,  -2.25269512e-04,\n",
       "          7.10633685e-05,  -5.16590080e-04,  -5.68768592e-04,\n",
       "         -1.12681498e-03,  -1.06870988e-03,  -6.65744534e-04,\n",
       "         -6.97320967e-04,  -2.18469795e-05,  -3.57300043e-04,\n",
       "         -2.55037099e-04,   1.73026638e-05,  -2.40622408e-04,\n",
       "         -2.55218154e-04],\n",
       "       [ -4.52241889e-04,  -3.32824595e-04,  -4.92056191e-04,\n",
       "         -3.05052177e-04,  -6.10661402e-04,  -6.31998177e-04,\n",
       "         -8.03895935e-04,  -3.44357482e-04,  -1.60594078e-04,\n",
       "         -7.52406428e-04,  -1.17760571e-03,  -5.93277859e-04,\n",
       "         -3.94057308e-04,  -4.78157250e-04,   2.10918734e-04,\n",
       "         -5.58913220e-04,  -9.48980625e-04,   4.31367836e-04,\n",
       "         -1.95540953e-04,  -8.42438603e-05,  -2.55105493e-04,\n",
       "         -1.02521044e-04,  -3.43756925e-04,  -2.06591198e-04,\n",
       "         -3.20574472e-04],\n",
       "       [ -3.61298095e-04,  -3.59385973e-04,  -3.60508740e-04,\n",
       "         -3.94023868e-04,  -4.13682836e-04,  -5.01851842e-04,\n",
       "         -3.04648420e-04,  -4.45078302e-04,  -5.50453144e-04,\n",
       "         -1.26121973e-04,  -1.78302522e-04,  -2.64021393e-04,\n",
       "         -1.45399943e-04,  -6.12988428e-04,   1.85570447e-04,\n",
       "         -8.91412725e-04,  -1.00962224e-03,  -9.72323411e-04,\n",
       "         -2.78691965e-04,  -1.33201363e-04,  -2.10740589e-04,\n",
       "         -3.61439248e-04,  -3.13305907e-04,  -4.62977710e-04,\n",
       "         -3.95896670e-04],\n",
       "       [ -4.10353037e-04,  -4.11641289e-04,  -3.12672200e-04,\n",
       "         -4.19047341e-04,  -2.61966896e-04,  -3.45492503e-04,\n",
       "         -4.82660980e-04,  -4.81615891e-04,  -3.63292143e-04,\n",
       "         -7.25348538e-04,  -3.17171623e-04,  -3.90476518e-04,\n",
       "         -5.58071188e-04,  -5.27406810e-04,  -2.51983263e-04,\n",
       "         -6.94968330e-05,  -4.75564768e-04,  -1.84686360e-04,\n",
       "         -2.56318541e-04,  -4.87295707e-04,  -1.20994882e-04,\n",
       "         -3.62903520e-04,  -3.45864188e-04,  -4.01792582e-04,\n",
       "         -3.56378732e-04],\n",
       "       [ -3.72596027e-04,  -3.31992604e-04,  -3.37157660e-04,\n",
       "         -2.90880591e-04,  -2.61390232e-04,  -3.44177301e-04,\n",
       "         -2.93607183e-04,  -4.25835082e-04,  -3.20342137e-04,\n",
       "         -3.77319026e-04,  -2.58249172e-04,  -3.99467477e-04,\n",
       "         -4.97914269e-04,  -3.95089010e-04,  -1.06501568e-04,\n",
       "         -1.98687179e-04,  -2.73702637e-04,  -2.87352130e-04,\n",
       "         -3.45175096e-04,  -3.32658325e-04,  -3.21709871e-04,\n",
       "         -2.84244219e-04,  -3.53662734e-04,  -3.68736073e-04,\n",
       "         -3.53944401e-04],\n",
       "       [ -3.93793074e-04,  -3.78148921e-04,  -3.74696829e-04,\n",
       "         -3.18416016e-04,  -3.41280829e-04,  -3.33936914e-04,\n",
       "         -2.95786856e-04,  -2.91208446e-04,  -4.26059007e-04,\n",
       "         -2.41795758e-04,  -2.14637621e-04,  -3.71766248e-04,\n",
       "         -3.70153430e-04,  -2.09545906e-04,  -3.45356326e-04,\n",
       "         -2.92870245e-04,  -2.44530005e-04,  -3.88722430e-04,\n",
       "         -3.89875291e-04,  -3.07387876e-04,  -3.85032239e-04,\n",
       "         -3.94057628e-04,  -3.59718193e-04,  -3.55908385e-04,\n",
       "         -3.89879802e-04]], dtype=float32)"
      ]
     },
     "execution_count": 206,
     "metadata": {},
     "output_type": "execute_result"
    }
   ],
   "source": [
    "test[0, :, 12, :]"
   ]
  },
  {
   "cell_type": "code",
   "execution_count": 213,
   "metadata": {
    "collapsed": false
   },
   "outputs": [
    {
     "data": {
      "image/png": "[encoded data removed]",
      "text/plain": [
       "<matplotlib.figure.Figure at 0x728054890>"
      ]
     },
     "metadata": {},
     "output_type": "display_data"
    }
   ],
   "source": [
    "for i in range(10):\n",
    "    plt.plot(test[i, 12, :, 12])"
   ]
  },
  {
   "cell_type": "code",
   "execution_count": 208,
   "metadata": {
    "collapsed": false
   },
   "outputs": [
    {
     "data": {
      "image/png": "[encoded data removed]",
      "text/plain": [
       "<matplotlib.figure.Figure at 0x615b6c9d0>"
      ]
     },
     "metadata": {},
     "output_type": "display_data"
    }
   ],
   "source": [
    "for i in range(20):\n",
    "    plt.plot(arr[i].reshape((25, 25, 25))[12, :, 12])"
   ]
  },
  {
   "cell_type": "code",
   "execution_count": null,
   "metadata": {
    "collapsed": true
   },
   "outputs": [],
   "source": []
  },
  {
   "cell_type": "code",
   "execution_count": null,
   "metadata": {
    "collapsed": true
   },
   "outputs": [],
   "source": [
    "x_new = np.random.randn(100, latent_size)\n",
    "inference_set = ArrayIterator(x_new, None, nclass=2, lshape=(latent_size))\n",
    "my_generator = Model(gan.layers.generator)"
   ]
  },
  {
   "cell_type": "code",
   "execution_count": null,
   "metadata": {
    "collapsed": false
   },
   "outputs": [],
   "source": [
    "test1 = my_generator.get_outputs(inference_set)\n",
    "test1 = test1 * max_elem +  mean\n",
    "test1 =  test1.reshape((100, 25, 25, 25))"
   ]
  },
  {
   "cell_type": "markdown",
   "metadata": {},
   "source": [
    "Last activation function - Logistic() -test1"
   ]
  },
  {
   "cell_type": "code",
   "execution_count": null,
   "metadata": {
    "collapsed": false
   },
   "outputs": [],
   "source": [
    "plt.imshow(test1[0, :, 12, :])"
   ]
  },
  {
   "cell_type": "code",
   "execution_count": null,
   "metadata": {
    "collapsed": false
   },
   "outputs": [],
   "source": [
    "test1[0, :, 12, :]"
   ]
  },
  {
   "cell_type": "code",
   "execution_count": null,
   "metadata": {
    "collapsed": false
   },
   "outputs": [],
   "source": [
    "np.max(test1)"
   ]
  },
  {
   "cell_type": "code",
   "execution_count": null,
   "metadata": {
    "collapsed": false
   },
   "outputs": [],
   "source": [
    "plt.plot(test1[10, 12, 12, :])"
   ]
  },
  {
   "cell_type": "markdown",
   "metadata": {},
   "source": [
    "Last activation function - Tanh() -test"
   ]
  },
  {
   "cell_type": "code",
   "execution_count": null,
   "metadata": {
    "collapsed": false
   },
   "outputs": [],
   "source": [
    "plt.imshow(test[0, :, 12, :])"
   ]
  },
  {
   "cell_type": "code",
   "execution_count": null,
   "metadata": {
    "collapsed": false
   },
   "outputs": [],
   "source": [
    "test[0, :, 12, :]"
   ]
  },
  {
   "cell_type": "code",
   "execution_count": null,
   "metadata": {
    "collapsed": false
   },
   "outputs": [],
   "source": [
    "plt.plot(test[20, 13, 12, :])"
   ]
  },
  {
   "cell_type": "code",
   "execution_count": null,
   "metadata": {
    "collapsed": false
   },
   "outputs": [],
   "source": [
    "plt.imshow(test[20, :, :, 12])"
   ]
  },
  {
   "cell_type": "markdown",
   "metadata": {},
   "source": [
    "Last activation function - lrelu()"
   ]
  },
  {
   "cell_type": "code",
   "execution_count": null,
   "metadata": {
    "collapsed": false
   },
   "outputs": [],
   "source": [
    "plt.imshow(test[0, :, 12, :])"
   ]
  },
  {
   "cell_type": "code",
   "execution_count": null,
   "metadata": {
    "collapsed": false
   },
   "outputs": [],
   "source": [
    "test[0, :, 12, :]"
   ]
  },
  {
   "cell_type": "code",
   "execution_count": null,
   "metadata": {
    "collapsed": true
   },
   "outputs": [],
   "source": []
  }
 ],
 "metadata": {
  "anaconda-cloud": {},
  "kernelspec": {
   "display_name": "Python [conda env:neon]",
   "language": "python",
   "name": "conda-env-neon-py"
  },
  "language_info": {
   "codemirror_mode": {
    "name": "ipython",
    "version": 3
   },
   "file_extension": ".py",
   "mimetype": "text/x-python",
   "name": "python",
   "nbconvert_exporter": "python",
   "pygments_lexer": "ipython3",
   "version": "3.6.1"
  }
 },
 "nbformat": 4,
 "nbformat_minor": 1
}
