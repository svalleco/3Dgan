{
 "cells": [
  {
   "cell_type": "code",
   "execution_count": 1,
   "metadata": {
    "collapsed": true
   },
   "outputs": [],
   "source": [
    "import numpy as np\n",
    "import matplotlib.pyplot as plt\n",
    "%matplotlib inline"
   ]
  },
  {
   "cell_type": "code",
   "execution_count": 100,
   "metadata": {
    "collapsed": true
   },
   "outputs": [],
   "source": [
    "dat = np.load(\"tiny_data.npz\")"
   ]
  },
  {
   "cell_type": "code",
   "execution_count": 101,
   "metadata": {
    "collapsed": true
   },
   "outputs": [],
   "source": [
    "arr = dat.items()[0][1][:100, :]"
   ]
  },
  {
   "cell_type": "code",
   "execution_count": 102,
   "metadata": {
    "collapsed": false
   },
   "outputs": [
    {
     "data": {
      "text/plain": [
       "<matplotlib.image.AxesImage at 0x110d74390>"
      ]
     },
     "execution_count": 102,
     "metadata": {},
     "output_type": "execute_result"
    },
    {
     "data": {
      "image/png": "[encoded data removed]",
      "text/plain": [
       "<matplotlib.figure.Figure at 0x110b96240>"
      ]
     },
     "metadata": {},
     "output_type": "display_data"
    }
   ],
   "source": [
    "plt.imshow(arr[2].reshape((25, 25, 25))[:, 12, :])"
   ]
  },
  {
   "cell_type": "code",
   "execution_count": 103,
   "metadata": {
    "collapsed": false
   },
   "outputs": [
    {
     "data": {
      "text/plain": [
       "<matplotlib.image.AxesImage at 0x110e45198>"
      ]
     },
     "execution_count": 103,
     "metadata": {},
     "output_type": "execute_result"
    },
    {
     "data": {
      "image/png": "[encoded data removed]",
      "text/plain": [
       "<matplotlib.figure.Figure at 0x110d2fb38>"
      ]
     },
     "metadata": {},
     "output_type": "display_data"
    }
   ],
   "source": [
    "plt.imshow(arr[10].reshape((25, 25, 25))[:, 17, :])"
   ]
  },
  {
   "cell_type": "code",
   "execution_count": 104,
   "metadata": {
    "collapsed": false
   },
   "outputs": [],
   "source": [
    "import os\n",
    "from datetime import datetime\n",
    "from neon.callbacks.callbacks import Callbacks, GANCostCallback, LossCallback\n",
    "#from neon.callbacks.plotting_callbacks import GANPlotCallback\n",
    "from neon.initializers import Gaussian\n",
    "from neon.layers import GeneralizedGANCost, Affine, Sequential, Conv, Deconv, Dropout, Pooling, BatchNorm\n",
    "from neon.layers.layer import Linear, Reshape\n",
    "from neon.layers.container import GenerativeAdversarial\n",
    "from neon.models.model import GAN, Model\n",
    "from neon.transforms import Rectlin, Logistic, GANCost, Tanh\n",
    "from neon.util.argparser import NeonArgparser\n",
    "from neon.util.persist import ensure_dirs_exist\n",
    "from neon.layers.layer import Dropout\n",
    "from neon.data.dataiterator import ArrayIterator\n",
    "from neon.optimizers import GradientDescentMomentum, RMSProp\n",
    "from neon.backends import gen_backend\n",
    "import numpy as np\n",
    "from sklearn.cross_validation import train_test_split"
   ]
  },
  {
   "cell_type": "code",
   "execution_count": 105,
   "metadata": {
    "collapsed": true
   },
   "outputs": [],
   "source": [
    "X = arr.copy()\n",
    "y = np.ones(arr.shape[0])\n",
    "# X[X < 1e-6] = 0"
   ]
  },
  {
   "cell_type": "code",
   "execution_count": 106,
   "metadata": {
    "collapsed": false
   },
   "outputs": [
    {
     "data": {
      "text/plain": [
       "(0.75065428, 0.0)"
      ]
     },
     "execution_count": 106,
     "metadata": {},
     "output_type": "execute_result"
    }
   ],
   "source": [
    "np.max(arr), np.min(arr)"
   ]
  },
  {
   "cell_type": "code",
   "execution_count": 107,
   "metadata": {
    "collapsed": false
   },
   "outputs": [
    {
     "data": {
      "text/plain": [
       "2.8908387e-08"
      ]
     },
     "execution_count": 107,
     "metadata": {},
     "output_type": "execute_result"
    }
   ],
   "source": [
    "np.min(arr[np.nonzero(arr)])"
   ]
  },
  {
   "cell_type": "code",
   "execution_count": 108,
   "metadata": {
    "collapsed": true
   },
   "outputs": [],
   "source": [
    "mean = np.mean(X, axis=0, keepdims=True) \n",
    "max_elem = np.max(np.abs(X))"
   ]
  },
  {
   "cell_type": "code",
   "execution_count": 109,
   "metadata": {
    "collapsed": true
   },
   "outputs": [],
   "source": [
    "X = (X - mean)/max_elem"
   ]
  },
  {
   "cell_type": "code",
   "execution_count": 110,
   "metadata": {
    "collapsed": false
   },
   "outputs": [
    {
     "data": {
      "text/plain": [
       "(0.87094337, -0.60051805)"
      ]
     },
     "execution_count": 110,
     "metadata": {},
     "output_type": "execute_result"
    }
   ],
   "source": [
    "np.max(X), np.min(X)"
   ]
  },
  {
   "cell_type": "code",
   "execution_count": 111,
   "metadata": {
    "collapsed": false
   },
   "outputs": [
    {
     "data": {
      "text/plain": [
       "[<matplotlib.lines.Line2D at 0x110f4ccf8>]"
      ]
     },
     "execution_count": 111,
     "metadata": {},
     "output_type": "execute_result"
    },
    {
     "data": {
      "image/png": "[encoded data removed]",
      "text/plain": [
       "<matplotlib.figure.Figure at 0x110dbc128>"
      ]
     },
     "metadata": {},
     "output_type": "display_data"
    }
   ],
   "source": [
    "plt.plot(X[20].reshape((25, 25, 25))[12, 12, :])"
   ]
  },
  {
   "cell_type": "code",
   "execution_count": 112,
   "metadata": {
    "collapsed": false
   },
   "outputs": [
    {
     "name": "stdout",
     "output_type": "stream",
     "text": [
      "(90, 15625) X train shape\n",
      "(90,) y train shape\n"
     ]
    }
   ],
   "source": [
    "X_train, X_test, y_train, y_test = train_test_split(X, y, train_size=0.9, random_state=42)\n",
    "print(X_train.shape, 'X train shape')\n",
    "print(y_train.shape, 'y train shape')"
   ]
  },
  {
   "cell_type": "code",
   "execution_count": 113,
   "metadata": {
    "collapsed": false
   },
   "outputs": [],
   "source": [
    "gen_backend(backend='cpu', batch_size=10)\n",
    "train_set = ArrayIterator(X=X_train, y=y_train, nclass=2, lshape=(1, 25, 25, 25))\n",
    "valid_set = ArrayIterator(X=X_test, y=y_test, nclass=2)"
   ]
  },
  {
   "cell_type": "code",
   "execution_count": 114,
   "metadata": {
    "collapsed": false
   },
   "outputs": [
    {
     "name": "stdout",
     "output_type": "stream",
     "text": [
      "Epoch 0   [Train |████████████████████|    9/9    batches, -0.01 cost, 128.50s]\n",
      "Epoch 1   [Train |████████████████████|    9/9    batches, -0.10 cost, 137.28s]\n",
      "Epoch 2   [Train |████████████████████|    9/9    batches, -0.18 cost, 134.87s]\n",
      "Epoch 3   [Train |████████████████████|    9/9    batches, -0.30 cost, 126.87s]\n",
      "Epoch 4   [Train |████████████████████|    9/9    batches, -0.36 cost, 126.69s]\n",
      "Epoch 5   [Train |████████████████████|    9/9    batches, -0.37 cost, 144.71s]\n",
      "Epoch 6   [Train |████████████████████|    9/9    batches, -0.39 cost, 132.88s]\n",
      "Epoch 7   [Train |████████████████████|    9/9    batches, -0.45 cost, 130.99s]\n",
      "Epoch 8   [Train |████████████████████|    9/9    batches, -0.35 cost, 139.40s]\n",
      "Epoch 9   [Train |████████████████████|    9/9    batches, -0.32 cost, 119.02s]\n",
      "Epoch 10  [Train |████████████████████|    9/9    batches, -0.41 cost, 127.16s]\n",
      "Epoch 11  [Train |████████████████████|    9/9    batches, -0.54 cost, 127.36s]\n",
      "Epoch 12  [Train |████████████████████|    9/9    batches, -0.51 cost, 137.77s]\n",
      "Epoch 13  [Train |████████████████████|    9/9    batches, -0.55 cost, 135.76s]\n",
      "Epoch 14  [Train |████████████████████|    9/9    batches, -0.52 cost, 125.33s]\n",
      "Epoch 15  [Train |████████████████████|    9/9    batches, -0.51 cost, 134.96s]\n",
      "Epoch 16  [Train |████████████████████|    9/9    batches, -0.47 cost, 129.62s]\n",
      "Epoch 17  [Train |████████████████████|    9/9    batches, -0.48 cost, 132.03s]\n",
      "Epoch 18  [Train |████████████████████|    9/9    batches, -0.53 cost, 135.29s]\n",
      "Epoch 19  [Train |████████████████████|    9/9    batches, -0.58 cost, 132.31s]\n",
      "Epoch 20  [Train |████████████████████|    9/9    batches, -0.61 cost, 138.22s]\n",
      "Epoch 21  [Train |████████████████████|    9/9    batches, -0.56 cost, 135.87s]\n",
      "Epoch 22  [Train |████████████████████|    9/9    batches, -0.47 cost, 131.07s]\n",
      "Epoch 23  [Train |████████████████████|    9/9    batches, -0.49 cost, 139.97s]\n",
      "Epoch 24  [Train |████████████████████|    9/9    batches, -0.47 cost, 135.44s]\n",
      "Epoch 25  [Train |████████████████████|    9/9    batches, -0.46 cost, 154.34s]\n",
      "Epoch 26  [Train |████████████████████|    9/9    batches, -0.55 cost, 157.96s]\n"
     ]
    }
   ],
   "source": [
    "# setup weight initialization function\n",
    "init = Gaussian(scale=0.01)\n",
    "\n",
    "# discriminiator using convolution layers\n",
    "lrelu = Rectlin(slope=0.1)  # leaky relu for discriminator\n",
    "# sigmoid = Logistic() # sigmoid activation function\n",
    "conv1 = dict(init=init, batch_norm=False, activation=lrelu, bias=init) # what's about BatchNorm Layer and batch_norm parameter?\n",
    "conv2 = dict(init=init, batch_norm=False, activation=lrelu, padding=2, bias=init)\n",
    "conv3 = dict(init=init, batch_norm=False, activation=lrelu, padding=1, bias=init)\n",
    "D_layers = [\n",
    "            Conv((5, 5, 5, 32), **conv1),\n",
    "            Dropout(keep = 0.8),\n",
    "            Conv((5, 5, 5, 8), **conv2),\n",
    "            BatchNorm(),\n",
    "            Dropout(keep = 0.8),\n",
    "            Conv((5, 5, 5, 8), **conv2),\n",
    "            BatchNorm(),\n",
    "            Dropout(keep = 0.8),\n",
    "            Conv((5, 5, 5, 8), **conv3),\n",
    "            BatchNorm(),\n",
    "            Dropout(keep = 0.8),\n",
    "            Pooling((2, 2, 2)),\n",
    "            Affine(1024, init=init, activation=lrelu),\n",
    "            BatchNorm(),\n",
    "            Affine(1024, init=init, activation=lrelu),\n",
    "            BatchNorm(),\n",
    "            Affine(1, init=init, activation=Logistic())\n",
    "            ]\n",
    "\n",
    "# generator using convolution layers\n",
    "init_gen = Gaussian(scale=0.01)\n",
    "relu = Rectlin(slope=0)  # relu for generator\n",
    "pad1 = dict(pad_h=2, pad_w=2, pad_d=2)\n",
    "str1 = dict(str_h=2, str_w=2, str_d=2)\n",
    "conv1 = dict(init=init_gen, batch_norm=False, activation=lrelu, padding=pad1, strides=str1, bias=init_gen)\n",
    "pad2 = dict(pad_h=2, pad_w=2, pad_d=2)\n",
    "str2 = dict(str_h=2, str_w=2, str_d=2)\n",
    "conv2 = dict(init=init_gen, batch_norm=False, activation=lrelu, padding=pad2, strides=str2, bias=init_gen)\n",
    "pad3 = dict(pad_h=0, pad_w=0, pad_d=0)\n",
    "str3 = dict(str_h=1, str_w=1, str_d=1)\n",
    "conv3 = dict(init=init_gen, batch_norm=False, activation=Logistic(), padding=pad3, strides=str3, bias=init_gen)\n",
    "G_layers = [\n",
    "            Affine(1024, init=init_gen, bias=init_gen, activation=relu),\n",
    "            BatchNorm(),\n",
    "            Affine(8 * 7 * 7 * 7, init=init_gen, bias=init_gen),\n",
    "            Reshape((8, 7, 7, 7)),\n",
    "            Deconv((6, 6, 6, 6), **conv1), #14x14x14\n",
    "            BatchNorm(),\n",
    "            Deconv((5, 5, 5, 64), **conv2), #27x27x27\n",
    "            BatchNorm(),\n",
    "            Conv((3, 3, 3, 1), **conv3)\n",
    "            ]\n",
    "\n",
    "layers = GenerativeAdversarial(generator=Sequential(G_layers, name=\"Generator\"),\n",
    "                               discriminator=Sequential(D_layers, name=\"Discriminator\"))\n",
    "\n",
    "# setup optimizer\n",
    "optimizer = RMSProp(learning_rate=1e-3, decay_rate=0.9, epsilon=1e-8)\n",
    "#optimizer = GradientDescentMomentum(learning_rate=1e-3, momentum_coef = 0.9)\n",
    "\n",
    "# setup cost function as Binary CrossEntropy\n",
    "cost = GeneralizedGANCost(costfunc=GANCost(func=\"wasserstein\"))\n",
    "\n",
    "nb_epochs = 27\n",
    "latent_size = 200\n",
    "inb_classes = 2\n",
    "nb_test = 100\n",
    "\n",
    "# initialize model\n",
    "noise_dim = (latent_size)\n",
    "gan = GAN(layers=layers, noise_dim=noise_dim, k=5, wgan_param_clamp=0.9)\n",
    "\n",
    "# configure callbacks\n",
    "callbacks = Callbacks(gan, eval_set=valid_set)\n",
    "callbacks.add_callback(GANCostCallback())\n",
    "#callbacks.add_save_best_state_callback(\"./best_state.pkl\")\n",
    "\n",
    "# run fit\n",
    "gan.fit(train_set, num_epochs=nb_epochs, optimizer=optimizer,\n",
    "        cost=cost, callbacks=callbacks)"
   ]
  },
  {
   "cell_type": "code",
   "execution_count": 115,
   "metadata": {
    "collapsed": true
   },
   "outputs": [],
   "source": [
    "x_new = np.random.standard_normal((64, latent_size))\n",
    "inference_set = ArrayIterator(x_new, None, nclass=2, lshape=(latent_size))\n",
    "my_generator = Model(gan.layers.generator)"
   ]
  },
  {
   "cell_type": "code",
   "execution_count": 116,
   "metadata": {
    "collapsed": true
   },
   "outputs": [],
   "source": [
    "test5 = my_generator.get_outputs(inference_set)\n",
    "test5 = test5 * max_elem + mean\n",
    "test5 =  test5.reshape((64, 25, 25, 25))"
   ]
  },
  {
   "cell_type": "code",
   "execution_count": 121,
   "metadata": {
    "collapsed": false
   },
   "outputs": [
    {
     "data": {
      "text/plain": [
       "<matplotlib.image.AxesImage at 0x110c20e10>"
      ]
     },
     "execution_count": 121,
     "metadata": {},
     "output_type": "execute_result"
    },
    {
     "data": {
      "image/png": "[encoded data removed]",
      "text/plain": [
       "<matplotlib.figure.Figure at 0x11b630c18>"
      ]
     },
     "metadata": {},
     "output_type": "display_data"
    }
   ],
   "source": [
    "plt.imshow(test5[10, 12, :, :])"
   ]
  },
  {
   "cell_type": "code",
   "execution_count": 118,
   "metadata": {
    "collapsed": false
   },
   "outputs": [
    {
     "data": {
      "text/plain": [
       "array([[  1.04569939e-04,   1.23283589e-05,   3.59307194e-07,\n",
       "          3.80401398e-05,   8.37579694e-09,   1.45181387e-08,\n",
       "          3.15123325e-05,   8.96092024e-05,   2.72504349e-05,\n",
       "          1.50823745e-08,   5.75177728e-09,   2.16548372e-07,\n",
       "          2.05160777e-08,   4.33343412e-05,   1.94994740e-08,\n",
       "          4.68365579e-06,   8.84835799e-07,   1.86112065e-05,\n",
       "          2.92816287e-04,   1.45054618e-02,   6.71873167e-02,\n",
       "          3.57248962e-01,   4.38690156e-01,   6.30094707e-01,\n",
       "          6.78107858e-01],\n",
       "       [  5.61473280e-06,   1.58884654e-06,   2.86992705e-08,\n",
       "          2.96055296e-05,   2.86156654e-10,   1.24595356e-09,\n",
       "          9.79834130e-11,   6.80181183e-05,   6.09469558e-11,\n",
       "          1.26758681e-09,   7.98464589e-06,   1.02562367e-07,\n",
       "          1.07145592e-09,   9.57828706e-06,   1.40434377e-05,\n",
       "          1.13576661e-07,   3.32820018e-05,   3.08911731e-05,\n",
       "          3.71583737e-04,   2.05229763e-02,   1.27643436e-01,\n",
       "          4.97471660e-01,   6.40060604e-01,   6.89702451e-01,\n",
       "          7.09273040e-01],\n",
       "       [  6.25211385e-08,   8.95737529e-09,   9.18291068e-11,\n",
       "          8.94613368e-06,   9.65282758e-13,   4.93050392e-12,\n",
       "          2.59680976e-13,   1.90872699e-04,   2.02002975e-05,\n",
       "          3.92816000e-05,   2.53409034e-05,   1.31322522e-10,\n",
       "          7.99729678e-05,   4.86529061e-05,   3.47399837e-05,\n",
       "          9.68244276e-05,   9.22759791e-05,   7.89107944e-05,\n",
       "          6.13594369e-04,   2.43768338e-02,   1.35189846e-01,\n",
       "          6.06202006e-01,   6.86089337e-01,   7.24068999e-01,\n",
       "          7.32379198e-01],\n",
       "       [  1.14244934e-08,   2.98745095e-09,   2.87114898e-11,\n",
       "          4.22498233e-05,   1.69919008e-06,   1.70568164e-05,\n",
       "          9.39064568e-14,   1.19777695e-04,   1.87099195e-05,\n",
       "          8.06500066e-06,   1.05693914e-06,   5.70805896e-05,\n",
       "          4.05526793e-11,   4.20183133e-05,   7.78296017e-05,\n",
       "          1.67234888e-04,   7.21700490e-05,   9.44612475e-05,\n",
       "          2.61237076e-03,   4.49588671e-02,   3.52295578e-01,\n",
       "          6.62461758e-01,   7.23182678e-01,   7.32515931e-01,\n",
       "          7.41005182e-01],\n",
       "       [  2.26507604e-10,   5.87149426e-11,   3.63315230e-05,\n",
       "          5.75152447e-13,   4.37108756e-05,   9.71580084e-05,\n",
       "          7.94943935e-06,   1.96377762e-14,   4.38381097e-15,\n",
       "          6.70767986e-05,   1.53302748e-14,   2.65878363e-04,\n",
       "          2.24067408e-05,   9.52910341e-05,   1.12998743e-04,\n",
       "          5.63202448e-05,   1.26041617e-04,   2.50124460e-04,\n",
       "          1.11248682e-03,   1.61368594e-01,   5.42461336e-01,\n",
       "          7.30973482e-01,   7.38973796e-01,   7.44983315e-01,\n",
       "          7.45595574e-01],\n",
       "       [  3.16013965e-10,   9.24383695e-11,   2.17217421e-05,\n",
       "          5.62970235e-05,   1.10980691e-04,   1.18342134e-04,\n",
       "          3.47471941e-05,   2.36059605e-05,   7.31339460e-05,\n",
       "          2.25025360e-05,   1.10985289e-04,   1.88419523e-04,\n",
       "          1.19990356e-04,   9.61953629e-05,   1.73739114e-04,\n",
       "          1.34157977e-04,   3.02029308e-04,   2.62707379e-03,\n",
       "          6.82758838e-02,   4.53040540e-01,   7.12017953e-01,\n",
       "          7.38591075e-01,   7.45092809e-01,   7.46531010e-01,\n",
       "          7.47438371e-01],\n",
       "       [  2.54640076e-11,   9.66595033e-12,   5.18091781e-07,\n",
       "          1.46702814e-05,   5.58348529e-06,   6.51501032e-05,\n",
       "          6.89858098e-06,   3.46274169e-06,   1.01307836e-04,\n",
       "          1.24204453e-04,   1.62454380e-04,   1.98240261e-04,\n",
       "          4.65199730e-04,   1.39591721e-04,   2.09375736e-04,\n",
       "          2.01371309e-04,   8.74985300e-04,   7.83202946e-02,\n",
       "          2.67849624e-01,   6.89125061e-01,   7.29898572e-01,\n",
       "          7.48258889e-01,   7.48789072e-01,   7.49126852e-01,\n",
       "          7.49188185e-01],\n",
       "       [  2.93779121e-05,   2.41046655e-10,   3.92582857e-13,\n",
       "          1.28000702e-05,   5.56323394e-05,   5.08699923e-05,\n",
       "          1.08044354e-04,   4.34158646e-05,   1.46012273e-04,\n",
       "          1.70966610e-04,   2.87210598e-04,   3.58534395e-04,\n",
       "          2.30460384e-04,   4.12857305e-04,   7.02225021e-04,\n",
       "          9.00039636e-03,   1.05315521e-01,   5.53503990e-01,\n",
       "          7.12043166e-01,   7.37867296e-01,   7.48235464e-01,\n",
       "          7.48449385e-01,   7.49755442e-01,   7.49461770e-01,\n",
       "          7.50125527e-01],\n",
       "       [  1.99205206e-05,   2.88304000e-05,   1.19797660e-05,\n",
       "          4.19003300e-05,   8.34971361e-05,   1.28679399e-04,\n",
       "          3.38751182e-04,   3.62993887e-04,   5.02618786e-04,\n",
       "          5.25878218e-04,   5.97070029e-04,   8.88231152e-04,\n",
       "          1.17905275e-03,   9.82453814e-04,   5.37033705e-03,\n",
       "          3.24722856e-01,   6.78016186e-01,   7.39528775e-01,\n",
       "          7.44529009e-01,   7.49513507e-01,   7.50023365e-01,\n",
       "          7.50702798e-01,   7.50320196e-01,   7.50146210e-01,\n",
       "          7.49974430e-01],\n",
       "       [  2.54161892e-09,   2.83411828e-05,   1.44674482e-06,\n",
       "          1.24509068e-04,   7.14775233e-05,   3.69388959e-04,\n",
       "          7.11544650e-04,   9.94786853e-04,   1.33017194e-03,\n",
       "          9.90643981e-04,   1.95981190e-03,   2.14646431e-03,\n",
       "          3.47175682e-03,   1.35749176e-01,   5.89446485e-01,\n",
       "          7.39842832e-01,   7.51419902e-01,   7.50340462e-01,\n",
       "          7.52193987e-01,   7.51227319e-01,   7.51819730e-01,\n",
       "          7.51592636e-01,   7.51178265e-01,   7.49382973e-01,\n",
       "          7.50563741e-01],\n",
       "       [  2.88663546e-06,   5.84254994e-05,   9.14126649e-05,\n",
       "          5.71486366e-04,   7.06834428e-04,   1.04372378e-03,\n",
       "          2.10896949e-03,   3.48124490e-03,   3.90773779e-03,\n",
       "          6.37089740e-03,   6.05264260e-03,   7.66886072e-03,\n",
       "          1.48571841e-02,   5.82080781e-01,   7.38407135e-01,\n",
       "          7.57351518e-01,   7.59712934e-01,   7.58277416e-01,\n",
       "          7.56587088e-01,   7.55296111e-01,   7.53861487e-01,\n",
       "          7.53653944e-01,   7.52443254e-01,   7.51328409e-01,\n",
       "          7.51052141e-01],\n",
       "       [  1.35109818e-04,   2.94998259e-04,   8.93771125e-04,\n",
       "          2.62262439e-03,   5.99703752e-03,   1.05037354e-02,\n",
       "          1.61280744e-02,   2.18515620e-02,   3.27132903e-02,\n",
       "          3.85807715e-02,   4.74800467e-02,   1.42390579e-01,\n",
       "          5.43467224e-01,   7.84761429e-01,   7.99660802e-01,\n",
       "          7.99524546e-01,   7.97483742e-01,   7.91739821e-01,\n",
       "          7.82628238e-01,   7.73755908e-01,   7.69580483e-01,\n",
       "          7.61215568e-01,   7.58561254e-01,   7.54708707e-01,\n",
       "          7.52847075e-01],\n",
       "       [  3.87022109e-03,   1.53800491e-02,   3.89157161e-02,\n",
       "          7.61237517e-02,   1.35323793e-01,   1.96112931e-01,\n",
       "          2.73726642e-01,   3.38560104e-01,   3.84419471e-01,\n",
       "          4.26606566e-01,   4.93084908e-01,   1.07931209e+00,\n",
       "          1.16809416e+00,   1.16151810e+00,   1.12530017e+00,\n",
       "          1.08948755e+00,   1.05342722e+00,   9.88566756e-01,\n",
       "          9.25644577e-01,   8.70633960e-01,   8.29368174e-01,\n",
       "          8.01343381e-01,   7.83274353e-01,   7.67784119e-01,\n",
       "          7.58854270e-01],\n",
       "       [  5.31828300e-05,   3.01419932e-04,   1.44406687e-03,\n",
       "          3.10826302e-03,   6.30095648e-03,   1.11531867e-02,\n",
       "          1.74308233e-02,   2.52205692e-02,   6.33272827e-02,\n",
       "          5.29539466e-01,   7.65917242e-01,   7.92420566e-01,\n",
       "          7.99191475e-01,   8.03039074e-01,   7.99141169e-01,\n",
       "          7.95243859e-01,   7.97102511e-01,   7.89115846e-01,\n",
       "          7.81129479e-01,   7.72760928e-01,   7.67409682e-01,\n",
       "          7.62995481e-01,   7.58380890e-01,   7.55224705e-01,\n",
       "          7.52005756e-01],\n",
       "       [  2.21348384e-10,   1.00295918e-04,   9.05183479e-05,\n",
       "          3.34721379e-04,   7.98516092e-04,   1.78757193e-03,\n",
       "          3.00532160e-03,   2.49723680e-02,   1.72939211e-01,\n",
       "          7.14871287e-01,   7.49628186e-01,   7.57632017e-01,\n",
       "          7.57946908e-01,   7.58876264e-01,   7.59380758e-01,\n",
       "          7.59343505e-01,   7.58453965e-01,   7.58320034e-01,\n",
       "          7.57510364e-01,   7.55750895e-01,   7.54490852e-01,\n",
       "          7.53003359e-01,   7.51886845e-01,   7.48770416e-01,\n",
       "          7.44778156e-01],\n",
       "       [  1.26698469e-05,   3.43591128e-05,   3.36127705e-05,\n",
       "          2.28712946e-04,   3.75737873e-04,   1.74480993e-02,\n",
       "          1.18349597e-01,   4.91297424e-01,   7.24952579e-01,\n",
       "          7.47292936e-01,   7.51476288e-01,   7.52174139e-01,\n",
       "          7.52480388e-01,   7.53757238e-01,   7.53317177e-01,\n",
       "          7.53447652e-01,   7.52960443e-01,   7.52563834e-01,\n",
       "          7.52532661e-01,   7.52076566e-01,   7.52521455e-01,\n",
       "          7.50170529e-01,   7.50349224e-01,   7.45806098e-01,\n",
       "          7.44818151e-01],\n",
       "       [  1.90886622e-05,   1.35668888e-05,   1.13347094e-04,\n",
       "          7.48929742e-05,   5.04792086e-04,   7.07575455e-02,\n",
       "          3.62217098e-01,   7.23559678e-01,   7.44754612e-01,\n",
       "          7.49772072e-01,   7.50815034e-01,   7.51411378e-01,\n",
       "          7.51355946e-01,   7.51819074e-01,   7.51768291e-01,\n",
       "          7.51402378e-01,   7.51676083e-01,   7.51698315e-01,\n",
       "          7.51347303e-01,   7.51177311e-01,   7.51035750e-01,\n",
       "          7.50353813e-01,   7.49532282e-01,   7.45389402e-01,\n",
       "          7.35736549e-01],\n",
       "       [  1.25717570e-05,   2.67467276e-05,   3.64253247e-05,\n",
       "          1.19220559e-03,   6.50004447e-02,   5.90393245e-01,\n",
       "          7.27506518e-01,   7.43463993e-01,   7.50028908e-01,\n",
       "          7.49519885e-01,   7.50637233e-01,   7.50942171e-01,\n",
       "          7.50940681e-01,   7.50820637e-01,   7.51495361e-01,\n",
       "          7.51277268e-01,   7.51016915e-01,   7.50745356e-01,\n",
       "          7.50954747e-01,   7.50208437e-01,   7.50592411e-01,\n",
       "          7.49339879e-01,   7.49045312e-01,   7.40737200e-01,\n",
       "          7.40673840e-01],\n",
       "       [  2.00345338e-10,   1.56958504e-05,   1.00452417e-06,\n",
       "          5.22959698e-03,   1.06802069e-01,   7.21098781e-01,\n",
       "          7.40354002e-01,   7.49224126e-01,   7.50020742e-01,\n",
       "          7.50513256e-01,   7.50596166e-01,   7.50791430e-01,\n",
       "          7.50708103e-01,   7.50869095e-01,   7.50733674e-01,\n",
       "          7.50828147e-01,   7.50824511e-01,   7.50768661e-01,\n",
       "          7.50624359e-01,   7.50441372e-01,   7.49939501e-01,\n",
       "          7.49003887e-01,   7.47888267e-01,   7.43403912e-01,\n",
       "          7.36690521e-01],\n",
       "       [  1.12160743e-08,   1.58326366e-05,   6.78195938e-05,\n",
       "          4.53543216e-02,   6.01986825e-01,   7.39744842e-01,\n",
       "          7.49409020e-01,   7.49166608e-01,   7.50440419e-01,\n",
       "          7.50140548e-01,   7.50681698e-01,   7.50535548e-01,\n",
       "          7.50664353e-01,   7.50609517e-01,   7.50754833e-01,\n",
       "          7.50638306e-01,   7.50693560e-01,   7.50503182e-01,\n",
       "          7.50683486e-01,   7.49807119e-01,   7.50079811e-01,\n",
       "          7.47959733e-01,   7.48320997e-01,   7.42749155e-01,\n",
       "          7.41660357e-01],\n",
       "       [  3.49147958e-05,   5.10375367e-06,   5.78939871e-05,\n",
       "          1.75458357e-01,   6.57821655e-01,   7.45541275e-01,\n",
       "          7.49302626e-01,   7.50236452e-01,   7.50514269e-01,\n",
       "          7.50479877e-01,   7.50649214e-01,   7.50594735e-01,\n",
       "          7.50833750e-01,   7.50600338e-01,   7.50732481e-01,\n",
       "          7.50751793e-01,   7.50727296e-01,   7.50625134e-01,\n",
       "          7.50687361e-01,   7.50272870e-01,   7.49615133e-01,\n",
       "          7.49120057e-01,   7.47386515e-01,   7.42940366e-01,\n",
       "          7.35462606e-01],\n",
       "       [  6.54962165e-08,   1.28175907e-05,   2.24983855e-03,\n",
       "          4.28451002e-01,   7.39634991e-01,   7.44791508e-01,\n",
       "          7.50065804e-01,   7.49889076e-01,   7.50520706e-01,\n",
       "          7.50228047e-01,   7.50598133e-01,   7.50536799e-01,\n",
       "          7.50670433e-01,   7.50455737e-01,   7.50790775e-01,\n",
       "          7.50680745e-01,   7.50667095e-01,   7.50414073e-01,\n",
       "          7.50580311e-01,   7.49640286e-01,   7.49863148e-01,\n",
       "          7.48141050e-01,   7.46633053e-01,   7.41534770e-01,\n",
       "          7.35068858e-01],\n",
       "       [  4.63088838e-08,   6.51908749e-06,   2.04420998e-03,\n",
       "          4.97423053e-01,   7.37810969e-01,   7.49751449e-01,\n",
       "          7.50146508e-01,   7.50401735e-01,   7.50474036e-01,\n",
       "          7.50524640e-01,   7.50586689e-01,   7.50524938e-01,\n",
       "          7.50603497e-01,   7.50597239e-01,   7.50624716e-01,\n",
       "          7.50579357e-01,   7.50635266e-01,   7.50531912e-01,\n",
       "          7.50461519e-01,   7.50108540e-01,   7.49533713e-01,\n",
       "          7.48191535e-01,   7.46517003e-01,   7.40244508e-01,\n",
       "          7.21994758e-01],\n",
       "       [  2.20329866e-06,   7.49849423e-05,   2.97655482e-02,\n",
       "          6.17933750e-01,   7.45956898e-01,   7.48973191e-01,\n",
       "          7.50310481e-01,   7.50044644e-01,   7.50476956e-01,\n",
       "          7.50310004e-01,   7.50548959e-01,   7.50335693e-01,\n",
       "          7.50536859e-01,   7.50342667e-01,   7.50619352e-01,\n",
       "          7.50491261e-01,   7.50606954e-01,   7.50441015e-01,\n",
       "          7.50406742e-01,   7.49689460e-01,   7.49618769e-01,\n",
       "          7.47123957e-01,   7.45422602e-01,   7.36637115e-01,\n",
       "          7.19512999e-01],\n",
       "       [  1.35712780e-05,   3.92462651e-04,   3.23279016e-02,\n",
       "          6.86928034e-01,   7.45066643e-01,   7.48285890e-01,\n",
       "          7.50086665e-01,   7.50132143e-01,   7.50358224e-01,\n",
       "          7.50399768e-01,   7.50474215e-01,   7.50377774e-01,\n",
       "          7.50651360e-01,   7.50384748e-01,   7.50499964e-01,\n",
       "          7.50451803e-01,   7.50563085e-01,   7.50366211e-01,\n",
       "          7.50255466e-01,   7.49646485e-01,   7.48528957e-01,\n",
       "          7.47604847e-01,   7.45286286e-01,   7.36660302e-01,\n",
       "          7.14781940e-01]], dtype=float32)"
      ]
     },
     "execution_count": 118,
     "metadata": {},
     "output_type": "execute_result"
    }
   ],
   "source": [
    "test5[10, 12, :, :]"
   ]
  },
  {
   "cell_type": "code",
   "execution_count": 125,
   "metadata": {
    "collapsed": false
   },
   "outputs": [
    {
     "data": {
      "image/png": "[encoded data removed]",
      "text/plain": [
       "<matplotlib.figure.Figure at 0x10fd0b6a0>"
      ]
     },
     "metadata": {},
     "output_type": "display_data"
    }
   ],
   "source": [
    "for i in range(15):\n",
    "    plt.plot(test5[i, 12, 12, :])"
   ]
  },
  {
   "cell_type": "code",
   "execution_count": 24,
   "metadata": {
    "collapsed": true
   },
   "outputs": [],
   "source": [
    "x_new = np.random.standard_normal((64, latent_size))\n",
    "inference_set = ArrayIterator(x_new, None, nclass=2, lshape=(latent_size))\n",
    "my_generator = Model(gan.layers.generator)"
   ]
  },
  {
   "cell_type": "code",
   "execution_count": null,
   "metadata": {
    "collapsed": true
   },
   "outputs": [],
   "source": []
  },
  {
   "cell_type": "code",
   "execution_count": null,
   "metadata": {
    "collapsed": true
   },
   "outputs": [],
   "source": []
  },
  {
   "cell_type": "markdown",
   "metadata": {},
   "source": [
    "Logistic"
   ]
  },
  {
   "cell_type": "code",
   "execution_count": 25,
   "metadata": {
    "collapsed": true
   },
   "outputs": [],
   "source": [
    "test2 = my_generator.get_outputs(inference_set)\n",
    "test2 = test2 * max_elem + mean\n",
    "test2 =  test2.reshape((64, 25, 25, 25))"
   ]
  },
  {
   "cell_type": "code",
   "execution_count": 29,
   "metadata": {
    "collapsed": false
   },
   "outputs": [
    {
     "data": {
      "text/plain": [
       "<matplotlib.image.AxesImage at 0x125ca6a90>"
      ]
     },
     "execution_count": 29,
     "metadata": {},
     "output_type": "execute_result"
    },
    {
     "data": {
      "image/png": "[encoded data removed]",
      "text/plain": [
       "<matplotlib.figure.Figure at 0x11c889da0>"
      ]
     },
     "metadata": {},
     "output_type": "display_data"
    }
   ],
   "source": [
    "plt.imshow(test2[10, 12, :, :])"
   ]
  },
  {
   "cell_type": "code",
   "execution_count": 82,
   "metadata": {
    "collapsed": false
   },
   "outputs": [
    {
     "data": {
      "text/plain": [
       "<matplotlib.image.AxesImage at 0x110b364a8>"
      ]
     },
     "execution_count": 82,
     "metadata": {},
     "output_type": "execute_result"
    },
    {
     "data": {
      "image/png": "[encoded data removed]",
      "text/plain": [
       "<matplotlib.figure.Figure at 0x1109f00f0>"
      ]
     },
     "metadata": {},
     "output_type": "display_data"
    }
   ],
   "source": [
    "plt.imshow(test2[10, 17, :, :])"
   ]
  },
  {
   "cell_type": "code",
   "execution_count": 33,
   "metadata": {
    "collapsed": false
   },
   "outputs": [
    {
     "data": {
      "text/plain": [
       "<matplotlib.image.AxesImage at 0x10f1b8358>"
      ]
     },
     "execution_count": 33,
     "metadata": {},
     "output_type": "execute_result"
    },
    {
     "data": {
      "image/png": "[encoded data removed]",
      "text/plain": [
       "<matplotlib.figure.Figure at 0x10f0bb438>"
      ]
     },
     "metadata": {},
     "output_type": "display_data"
    }
   ],
   "source": [
    "plt.imshow(test2[50, 10, :, :])"
   ]
  },
  {
   "cell_type": "code",
   "execution_count": 27,
   "metadata": {
    "collapsed": false
   },
   "outputs": [
    {
     "data": {
      "text/plain": [
       "array([[  2.94916987e-01,   2.54475892e-01,   3.87106299e-01,\n",
       "          3.27655166e-01,   3.28443676e-01,   2.30097771e-01,\n",
       "          1.90178066e-01,   1.15302198e-01,   4.46003564e-02,\n",
       "          2.51692012e-02,   1.35830622e-02,   1.03740674e-02,\n",
       "          3.32024763e-03,   3.88695416e-03,   1.91329478e-03,\n",
       "          1.51231547e-03,   4.47395811e-04,   8.43887450e-04,\n",
       "          7.00300385e-04,   1.62491726e-03,   1.68370898e-03,\n",
       "          4.61846124e-03,   4.03964706e-03,   1.06798923e-02,\n",
       "          1.51458820e-02],\n",
       "       [  2.62527198e-01,   2.93538809e-01,   3.09314698e-01,\n",
       "          3.68576884e-01,   2.65686929e-01,   2.04846010e-01,\n",
       "          1.30794451e-01,   9.62916911e-02,   2.75059938e-02,\n",
       "          1.45110860e-02,   4.91840672e-03,   4.18879278e-03,\n",
       "          1.42678362e-03,   1.68587745e-03,   6.55992073e-04,\n",
       "          3.89751891e-04,   1.89493614e-04,   2.92686105e-04,\n",
       "          2.39571862e-04,   5.67483832e-04,   6.28220267e-04,\n",
       "          2.33809231e-03,   2.50252406e-03,   6.60625240e-03,\n",
       "          1.27949361e-02],\n",
       "       [  1.81185737e-01,   1.96715444e-01,   1.94789007e-01,\n",
       "          1.98886678e-01,   1.93739370e-01,   1.39284655e-01,\n",
       "          5.53711802e-02,   3.62358652e-02,   1.25130368e-02,\n",
       "          5.73439384e-03,   1.26425060e-03,   9.11257870e-04,\n",
       "          3.52041214e-04,   4.42775665e-04,   8.92256066e-05,\n",
       "          1.95332279e-04,   1.11419802e-04,   1.13497321e-04,\n",
       "          7.43604614e-05,   1.88638922e-04,   1.16470444e-04,\n",
       "          8.72434815e-04,   9.23758431e-04,   5.42311184e-03,\n",
       "          9.11771972e-03],\n",
       "       [  1.12091728e-01,   1.22043014e-01,   9.35414135e-02,\n",
       "          1.27021492e-01,   6.00119047e-02,   7.46744275e-02,\n",
       "          2.20047925e-02,   2.50101015e-02,   4.04817890e-03,\n",
       "          3.63703119e-03,   6.08279021e-04,   6.14538498e-04,\n",
       "          1.34617658e-04,   2.46542011e-04,   1.15319592e-04,\n",
       "          2.20583926e-04,   8.60013388e-05,   8.08503974e-05,\n",
       "          9.70680121e-05,   1.08065593e-04,   1.30753804e-04,\n",
       "          8.23404873e-04,   1.23479380e-03,   5.52672381e-03,\n",
       "          1.36468876e-02],\n",
       "       [  3.20753306e-02,   3.01141087e-02,   2.27683578e-02,\n",
       "          2.26089321e-02,   1.03451451e-02,   7.49269500e-03,\n",
       "          2.88955169e-03,   2.33071391e-03,   5.22754795e-04,\n",
       "          4.14796697e-04,   9.51942275e-05,   3.04216956e-04,\n",
       "          2.87094936e-05,   1.04898092e-04,   1.14877941e-04,\n",
       "          5.92326141e-05,   1.26507919e-04,   1.65225021e-04,\n",
       "          8.44707392e-05,   7.14107009e-05,   1.19540266e-04,\n",
       "          3.40466853e-04,   4.44477482e-04,   4.32586437e-03,\n",
       "          9.50920489e-03],\n",
       "       [  2.00817958e-02,   2.10376456e-02,   8.10418557e-03,\n",
       "          9.41254944e-03,   2.69142771e-03,   2.47801468e-03,\n",
       "          6.87756750e-04,   8.69250100e-04,   2.49269127e-04,\n",
       "          1.95505840e-04,   1.31581488e-04,   2.08194499e-04,\n",
       "          1.22155951e-04,   1.00543926e-04,   1.74258545e-04,\n",
       "          1.32071495e-04,   2.83623260e-04,   2.09296268e-04,\n",
       "          1.38224161e-04,   1.26780782e-04,   3.56048404e-05,\n",
       "          4.19692078e-04,   7.80832255e-04,   4.66254074e-03,\n",
       "          1.16214333e-02],\n",
       "       [  1.98377464e-02,   1.29102403e-02,   3.31279146e-03,\n",
       "          2.76877661e-03,   1.10761926e-03,   6.13451703e-04,\n",
       "          1.43118261e-04,   1.94436157e-04,   1.30680142e-04,\n",
       "          1.48499443e-04,   1.64609912e-04,   2.00201292e-04,\n",
       "          4.65372985e-04,   1.39869226e-04,   2.09292324e-04,\n",
       "          1.75212306e-04,   6.26206456e-04,   1.03392907e-04,\n",
       "          1.89444865e-04,   3.44846922e-04,   2.42130031e-04,\n",
       "          2.79063708e-04,   4.35545924e-04,   3.96104204e-03,\n",
       "          8.34296178e-03],\n",
       "       [  2.31477432e-02,   1.88372303e-02,   3.72421485e-03,\n",
       "          3.56038054e-03,   5.66178467e-04,   4.70298779e-04,\n",
       "          1.95170956e-04,   1.83893164e-04,   1.62026234e-04,\n",
       "          1.93383588e-04,   2.88710085e-04,   3.61225917e-04,\n",
       "          2.30586855e-04,   4.08503605e-04,   5.07038552e-04,\n",
       "          4.74491389e-04,   6.22454216e-04,   5.45334653e-04,\n",
       "          6.41497027e-04,   3.14360630e-04,   2.66026269e-04,\n",
       "          4.03892249e-04,   6.72625727e-04,   3.41142947e-03,\n",
       "          9.84208286e-03],\n",
       "       [  1.67153254e-02,   7.73586566e-03,   1.89124281e-03,\n",
       "          8.18258559e-04,   2.13831285e-04,   2.00502313e-04,\n",
       "          3.59234284e-04,   3.77880118e-04,   5.04366704e-04,\n",
       "          5.26882184e-04,   5.97186969e-04,   8.88305949e-04,\n",
       "          1.17844634e-03,   6.87942142e-04,   7.64639466e-04,\n",
       "          1.00902724e-03,   7.82694784e-04,   9.66238964e-04,\n",
       "          6.70879206e-04,   8.72028701e-04,   5.48983749e-04,\n",
       "          6.94042072e-04,   3.74212046e-04,   1.78431743e-03,\n",
       "          4.29584645e-03],\n",
       "       [  1.69786084e-02,   1.12172030e-02,   1.98504003e-03,\n",
       "          1.17149169e-03,   1.80760442e-04,   4.55541129e-04,\n",
       "          7.21971504e-04,   1.00981467e-03,   1.33102492e-03,\n",
       "          9.91755980e-04,   1.95979280e-03,   2.09359732e-03,\n",
       "          2.36421637e-03,   2.76261987e-03,   2.86854012e-03,\n",
       "          2.82579055e-03,   2.92921602e-03,   2.27781781e-03,\n",
       "          2.73469999e-03,   1.73891115e-03,   1.59218861e-03,\n",
       "          1.86380220e-03,   1.19267858e-03,   2.13747588e-03,\n",
       "          5.50863240e-03],\n",
       "       [  1.16476668e-02,   5.88159589e-03,   8.25679977e-04,\n",
       "          8.86852271e-04,   7.60269759e-04,   1.06722524e-03,\n",
       "          2.11109198e-03,   3.48334340e-03,   3.90787050e-03,\n",
       "          6.37087179e-03,   6.05134713e-03,   7.31123891e-03,\n",
       "          7.72373471e-03,   9.94427688e-03,   9.17137787e-03,\n",
       "          8.78583360e-03,   1.00187417e-02,   7.98171107e-03,\n",
       "          6.43767603e-03,   5.23943081e-03,   3.52535793e-03,\n",
       "          3.30125587e-03,   2.32812343e-03,   2.47910433e-03,\n",
       "          4.44838125e-03],\n",
       "       [  9.18219611e-03,   6.59530004e-03,   1.55707146e-03,\n",
       "          3.20976507e-03,   6.03088876e-03,   1.05338832e-02,\n",
       "          1.61299929e-02,   2.18547769e-02,   3.27130556e-02,\n",
       "          3.84423286e-02,   4.57600690e-02,   4.91315015e-02,\n",
       "          5.01096696e-02,   5.04423454e-02,   5.19181862e-02,\n",
       "          4.98875789e-02,   4.71549854e-02,   4.15914245e-02,\n",
       "          3.22112441e-02,   2.36042831e-02,   1.91345736e-02,\n",
       "          1.12447944e-02,   8.41250550e-03,   6.53754314e-03,\n",
       "          6.29344396e-03],\n",
       "       [  7.40192644e-03,   1.68402363e-02,   3.91013175e-02,\n",
       "          7.61959553e-02,   1.35329261e-01,   1.96115136e-01,\n",
       "          2.73726910e-01,   3.38558078e-01,   3.84400249e-01,\n",
       "          4.23049480e-01,   4.44215626e-01,   4.50781465e-01,\n",
       "          4.30938959e-01,   4.12419319e-01,   3.75260711e-01,\n",
       "          3.39015722e-01,   3.02861363e-01,   2.38087296e-01,\n",
       "          1.75107539e-01,   1.20187409e-01,   7.89202079e-02,\n",
       "          5.10335341e-02,   3.30839343e-02,   1.87401511e-02,\n",
       "          1.20051606e-02],\n",
       "       [  2.97729671e-03,   1.59988878e-03,   1.57455378e-03,\n",
       "          3.19300429e-03,   6.30408013e-03,   1.11532882e-02,\n",
       "          1.73949320e-02,   2.24939100e-02,   3.13314237e-02,\n",
       "          3.85675579e-02,   4.59953211e-02,   4.57569286e-02,\n",
       "          4.90379110e-02,   5.28749377e-02,   4.87051569e-02,\n",
       "          4.47855182e-02,   4.64962870e-02,   3.86842564e-02,\n",
       "          3.06046773e-02,   2.25190390e-02,   1.69136543e-02,\n",
       "          1.30904950e-02,   8.37815832e-03,   8.81032925e-03,\n",
       "          4.90369927e-03],\n",
       "       [  1.78737077e-03,   6.54392526e-04,   1.36516217e-04,\n",
       "          3.53016832e-04,   7.99943751e-04,   1.72331440e-03,\n",
       "          2.70131207e-03,   3.55642079e-03,   4.52584866e-03,\n",
       "          5.24987187e-03,   5.04376274e-03,   7.64909619e-03,\n",
       "          7.52652716e-03,   8.29353556e-03,   8.79470725e-03,\n",
       "          8.73831660e-03,   7.83216301e-03,   7.71468505e-03,\n",
       "          6.94911368e-03,   5.27011510e-03,   4.07949556e-03,\n",
       "          2.89105088e-03,   2.06053257e-03,   1.67371670e-03,\n",
       "          1.36521261e-03],\n",
       "       [  1.63632003e-03,   8.73721612e-04,   9.64737847e-05,\n",
       "          2.63907918e-04,   2.46599462e-04,   3.93780909e-04,\n",
       "          6.30014227e-04,   6.65441446e-04,   1.45549711e-03,\n",
       "          1.64982968e-03,   1.51472690e-03,   1.96919288e-03,\n",
       "          1.91609981e-03,   3.20345443e-03,   2.68451264e-03,\n",
       "          2.85568228e-03,   2.33050343e-03,   2.05900148e-03,\n",
       "          1.92968443e-03,   1.71712833e-03,   2.05744384e-03,\n",
       "          8.06631579e-04,   7.78345740e-04,   7.35825161e-04,\n",
       "          9.25968168e-04],\n",
       "       [  6.99623488e-04,   2.23774623e-04,   1.33002337e-04,\n",
       "          4.82393625e-05,   9.72536800e-05,   1.20177458e-04,\n",
       "          1.74597400e-04,   2.41846050e-04,   4.02315374e-04,\n",
       "          4.62601223e-04,   5.52447163e-04,   8.59428663e-04,\n",
       "          7.42557691e-04,   1.19647325e-03,   1.13650982e-03,\n",
       "          7.69050152e-04,   1.04953651e-03,   1.11198565e-03,\n",
       "          7.54682813e-04,   6.95470080e-04,   9.10984119e-04,\n",
       "          4.47706581e-04,   3.84138926e-04,   2.13573308e-04,\n",
       "          5.09774196e-04],\n",
       "       [  5.55702427e-04,   2.45771516e-04,   5.33177445e-05,\n",
       "          1.36842136e-05,   1.78951159e-04,   1.41759068e-04,\n",
       "          1.49637490e-04,   5.43674360e-05,   4.39539959e-04,\n",
       "          1.44273086e-04,   2.22198476e-04,   5.14482614e-04,\n",
       "          3.28345690e-04,   2.84395472e-04,   8.74149671e-04,\n",
       "          7.18100113e-04,   3.88766872e-04,   3.25053552e-04,\n",
       "          3.99399578e-04,   3.71945032e-04,   3.54081421e-04,\n",
       "          3.22779029e-04,   2.80720211e-04,   2.76092760e-04,\n",
       "          5.13869163e-04],\n",
       "       [  2.43719405e-04,   7.26622311e-05,   4.93554899e-06,\n",
       "          1.03267121e-05,   8.84067122e-05,   1.02843929e-04,\n",
       "          2.48748984e-05,   3.21911466e-05,   3.47441732e-04,\n",
       "          1.16437259e-04,   1.38125703e-04,   2.47794378e-04,\n",
       "          1.15052819e-04,   2.62637943e-04,   1.29885520e-04,\n",
       "          2.27131779e-04,   2.18485700e-04,   2.18726156e-04,\n",
       "          2.20824542e-04,   3.34187498e-04,   1.82478208e-04,\n",
       "          1.29586377e-04,   1.62874585e-05,   1.58185343e-04,\n",
       "          3.57315090e-04],\n",
       "       [  2.18554545e-04,   1.10911940e-04,   7.39878942e-06,\n",
       "          4.99659618e-05,   6.80935627e-05,   1.58332277e-05,\n",
       "          7.73584979e-05,   8.31262810e-07,   9.74151772e-05,\n",
       "          6.25998073e-05,   1.11183464e-04,   1.02733655e-04,\n",
       "          7.52886772e-05,   1.23301535e-04,   1.39204494e-04,\n",
       "          9.44367566e-05,   8.99165461e-05,   1.36303803e-04,\n",
       "          1.76859015e-04,   5.72924109e-05,   1.58588264e-05,\n",
       "          1.18382981e-04,   8.93445031e-05,   2.11190360e-04,\n",
       "          3.93482856e-04],\n",
       "       [  1.80328512e-04,   3.41792329e-05,   3.76734897e-06,\n",
       "          3.99899145e-05,   9.02837855e-05,   3.46990078e-07,\n",
       "          1.58616160e-07,   3.34680990e-05,   1.19579396e-04,\n",
       "          2.08247675e-05,   6.94611299e-05,   1.85797726e-05,\n",
       "          2.26796838e-04,   2.52465234e-05,   1.11559624e-04,\n",
       "          1.41847093e-04,   1.32876652e-04,   1.00904297e-04,\n",
       "          1.55087168e-04,   3.21268053e-05,   8.51226650e-05,\n",
       "          8.43466914e-05,   1.03949278e-04,   1.45824000e-04,\n",
       "          4.14779846e-04],\n",
       "       [  2.65831361e-04,   9.32921976e-05,   1.10954834e-05,\n",
       "          1.85451408e-05,   3.57993194e-05,   1.36545168e-05,\n",
       "          1.03568095e-06,   2.75950297e-05,   2.56300027e-05,\n",
       "          2.77851905e-06,   3.29990435e-05,   1.57760209e-04,\n",
       "          9.03447799e-05,   4.16161565e-05,   1.97300993e-04,\n",
       "          1.88043588e-04,   7.32902699e-05,   3.56794735e-05,\n",
       "          9.62136110e-05,   3.53841242e-05,   7.39296083e-05,\n",
       "          1.06142215e-04,   2.05576289e-04,   5.08756901e-04,\n",
       "          1.01597665e-03],\n",
       "       [  4.20058117e-04,   9.90136905e-05,   1.73998378e-05,\n",
       "          7.44451154e-06,   2.13683688e-06,   1.39831527e-05,\n",
       "          1.03418679e-04,   2.69028146e-06,   1.41823421e-06,\n",
       "          2.93624544e-06,   1.68147981e-05,   2.88407864e-06,\n",
       "          5.98765873e-05,   6.61985978e-05,   4.72951324e-05,\n",
       "          8.10768142e-06,   9.94224029e-05,   3.58004181e-05,\n",
       "          3.86190441e-05,   7.51716725e-05,   7.07807776e-05,\n",
       "          9.85435981e-05,   3.57713550e-04,   5.75131853e-04,\n",
       "          1.36041094e-03],\n",
       "       [  1.74288917e-03,   7.21113174e-04,   1.25775827e-04,\n",
       "          9.36394790e-05,   1.91558283e-05,   4.25987528e-05,\n",
       "          1.32880668e-05,   4.15742288e-05,   1.60809595e-05,\n",
       "          3.80105812e-05,   1.21803514e-05,   3.13361015e-05,\n",
       "          1.39452459e-05,   3.41277009e-05,   7.07471190e-05,\n",
       "          1.11936330e-04,   9.82360652e-05,   3.02616420e-04,\n",
       "          9.48328234e-05,   2.62555754e-04,   2.46834301e-04,\n",
       "          6.60021207e-04,   8.70437187e-04,   2.94295745e-03,\n",
       "          5.53879607e-03],\n",
       "       [  4.98321746e-03,   1.28552690e-03,   3.22207256e-04,\n",
       "          1.39575001e-04,   6.14183155e-05,   4.65599551e-05,\n",
       "          4.59929324e-05,   8.38939450e-05,   7.22041732e-05,\n",
       "          1.30378306e-04,   5.11349099e-05,   6.90578454e-05,\n",
       "          2.42235867e-04,   9.39406309e-05,   9.64990468e-05,\n",
       "          2.19624635e-04,   3.56598553e-04,   6.65359898e-04,\n",
       "          4.79587616e-04,   7.10374967e-04,   9.96289193e-04,\n",
       "          2.36569019e-03,   2.69637164e-03,   6.72763400e-03,\n",
       "          1.37011250e-02]], dtype=float32)"
      ]
     },
     "execution_count": 27,
     "metadata": {},
     "output_type": "execute_result"
    }
   ],
   "source": [
    "test2[0, 12, :, :]"
   ]
  },
  {
   "cell_type": "code",
   "execution_count": 28,
   "metadata": {
    "collapsed": false
   },
   "outputs": [
    {
     "data": {
      "image/png": "[encoded data removed]",
      "text/plain": [
       "<matplotlib.figure.Figure at 0x11d690160>"
      ]
     },
     "metadata": {},
     "output_type": "display_data"
    }
   ],
   "source": [
    "for i in range(3):\n",
    "    plt.plot(test2[i, 12, 12, :])"
   ]
  },
  {
   "cell_type": "code",
   "execution_count": null,
   "metadata": {
    "collapsed": true
   },
   "outputs": [],
   "source": []
  },
  {
   "cell_type": "markdown",
   "metadata": {},
   "source": [
    "Tanh - BAD!"
   ]
  },
  {
   "cell_type": "code",
   "execution_count": 16,
   "metadata": {
    "collapsed": false
   },
   "outputs": [],
   "source": [
    "test1 = my_generator.get_outputs(inference_set)\n",
    "test1 = test1 * max_elem +  mean\n",
    "test1 =  test1.reshape((64, 25, 25, 25))"
   ]
  },
  {
   "cell_type": "code",
   "execution_count": 20,
   "metadata": {
    "collapsed": false
   },
   "outputs": [
    {
     "data": {
      "text/plain": [
       "<matplotlib.image.AxesImage at 0x11c767e80>"
      ]
     },
     "execution_count": 20,
     "metadata": {},
     "output_type": "execute_result"
    },
    {
     "data": {
      "image/png": "[encoded data removed]",
      "text/plain": [
       "<matplotlib.figure.Figure at 0x11c6be2e8>"
      ]
     },
     "metadata": {},
     "output_type": "display_data"
    }
   ],
   "source": [
    "plt.imshow(test1[0, 12, :, :])"
   ]
  },
  {
   "cell_type": "code",
   "execution_count": 21,
   "metadata": {
    "collapsed": false
   },
   "outputs": [
    {
     "data": {
      "text/plain": [
       "array([[-0.73186255, -0.70838559, -0.73076278, -0.7378521 , -0.73563099,\n",
       "        -0.74258453, -0.74377507, -0.74169677, -0.74144864, -0.73049754,\n",
       "        -0.73786569, -0.72879845, -0.73800111, -0.7382552 , -0.73880988,\n",
       "        -0.738545  , -0.74617618, -0.74432415, -0.74064726, -0.73823851,\n",
       "        -0.72606295, -0.69946975, -0.63860804, -0.48807722, -0.5340606 ],\n",
       "       [-0.74433976, -0.74817336, -0.74950331, -0.74834585, -0.74961168,\n",
       "        -0.74996507, -0.75039876, -0.75003421, -0.75032425, -0.74907005,\n",
       "        -0.74969983, -0.7485801 , -0.74889177, -0.74848074, -0.74887705,\n",
       "        -0.74797517, -0.74953514, -0.74853373, -0.75022221, -0.74980599,\n",
       "        -0.749901  , -0.74494278, -0.74701029, -0.7446422 , -0.74641895],\n",
       "       [-0.73250878, -0.74811387, -0.74973375, -0.75015855, -0.75036556,\n",
       "        -0.75046802, -0.75059319, -0.75039876, -0.75050634, -0.75012869,\n",
       "        -0.75034648, -0.75030029, -0.75048679, -0.75027895, -0.75046378,\n",
       "        -0.75026113, -0.75014061, -0.74958056, -0.75016105, -0.74991035,\n",
       "        -0.7502296 , -0.74891555, -0.74654615, -0.74253517, -0.74281138],\n",
       "       [-0.74779558, -0.74954867, -0.75051963, -0.75049186, -0.75063074,\n",
       "        -0.75060666, -0.75063121, -0.75050414, -0.7506125 , -0.75044656,\n",
       "        -0.75060642, -0.75046569, -0.75063753, -0.75053537, -0.75054622,\n",
       "        -0.75027955, -0.75048453, -0.75029743, -0.75048447, -0.75041139,\n",
       "        -0.75059164, -0.74977797, -0.74984241, -0.74852997, -0.74835217],\n",
       "       [-0.74496663, -0.74915087, -0.75050122, -0.75062245, -0.75059509,\n",
       "        -0.7505464 , -0.7506451 , -0.75065255, -0.75065202, -0.75057226,\n",
       "        -0.75065023, -0.7503773 , -0.75062853, -0.75055707, -0.75053966,\n",
       "        -0.75059396, -0.75052088, -0.75044417, -0.7505523 , -0.75058055,\n",
       "        -0.75053155, -0.75054419, -0.74995416, -0.74617738, -0.74192506],\n",
       "       [-0.7471621 , -0.74995434, -0.75052321, -0.75054234, -0.75053334,\n",
       "        -0.75052458, -0.75061655, -0.75062788, -0.75057817, -0.75062668,\n",
       "        -0.75054157, -0.75046164, -0.75053012, -0.75055397, -0.75047976,\n",
       "        -0.75051832, -0.75036573, -0.7504276 , -0.75051004, -0.75052959,\n",
       "        -0.75063288, -0.75039786, -0.75032747, -0.74991709, -0.74934644],\n",
       "       [-0.74618155, -0.75005221, -0.75061303, -0.7506187 , -0.75064129,\n",
       "        -0.75058711, -0.75064671, -0.75065041, -0.75055277, -0.75052994,\n",
       "        -0.75049168, -0.75045592, -0.75018895, -0.75051463, -0.75044489,\n",
       "        -0.75047863, -0.75002563, -0.75054973, -0.75046384, -0.75031167,\n",
       "        -0.75041074, -0.75039041, -0.75025642, -0.75000948, -0.74932462],\n",
       "       [-0.74863392, -0.75033146, -0.75062329, -0.75060964, -0.7505939 ,\n",
       "        -0.75059193, -0.7505452 , -0.75060916, -0.75050795, -0.75048232,\n",
       "        -0.75036693, -0.75029445, -0.75042355, -0.7502445 , -0.75014645,\n",
       "        -0.75017405, -0.75002944, -0.75009936, -0.75001067, -0.75034201,\n",
       "        -0.75039113, -0.75015092, -0.75023192, -0.74957216, -0.74921423],\n",
       "       [-0.74799722, -0.7503401 , -0.75062066, -0.75060403, -0.7505672 ,\n",
       "        -0.75052303, -0.75031531, -0.75029117, -0.75015157, -0.75012839,\n",
       "        -0.75005722, -0.74976605, -0.74947584, -0.74996626, -0.74988949,\n",
       "        -0.74964505, -0.74987119, -0.74968743, -0.74998301, -0.74978048,\n",
       "        -0.75009114, -0.74997818, -0.75015128, -0.74908876, -0.74871868],\n",
       "       [-0.74394143, -0.75019127, -0.75054729, -0.75049323, -0.75056964,\n",
       "        -0.7502802 , -0.74994129, -0.74965876, -0.74932337, -0.74966341,\n",
       "        -0.74869442, -0.74856067, -0.74828988, -0.74789131, -0.74778497,\n",
       "        -0.74782723, -0.74772274, -0.74837458, -0.74791843, -0.748914  ,\n",
       "        -0.74905938, -0.74879026, -0.7495296 , -0.75014359, -0.74937463],\n",
       "       [-0.73683035, -0.74687952, -0.75050151, -0.75006014, -0.74994403,\n",
       "        -0.74960935, -0.74854511, -0.74717289, -0.74674648, -0.7442835 ,\n",
       "        -0.74460292, -0.74334306, -0.74293047, -0.74071002, -0.74148285,\n",
       "        -0.74186838, -0.7406351 , -0.74267226, -0.74421585, -0.74541438,\n",
       "        -0.74712694, -0.74735326, -0.74829888, -0.74888277, -0.74833751],\n",
       "       [-0.57995909, -0.74239391, -0.74937278, -0.7478593 , -0.74460739,\n",
       "        -0.74011421, -0.73452258, -0.7287972 , -0.71794009, -0.71221113,\n",
       "        -0.70489395, -0.70152247, -0.70054448, -0.70021152, -0.69873595,\n",
       "        -0.70076656, -0.7034992 , -0.70906162, -0.71844268, -0.72704804,\n",
       "        -0.73151964, -0.7393955 , -0.74231088, -0.74513412, -0.74687588],\n",
       "       [-0.51798922, -0.67767423, -0.70954072, -0.6739648 , -0.61531758,\n",
       "        -0.55453849, -0.47692722, -0.4120959 , -0.36625397, -0.32760468,\n",
       "        -0.3064386 , -0.29987282, -0.31971532, -0.3382349 , -0.37539351,\n",
       "        -0.41163856, -0.44779292, -0.51256698, -0.57554662, -0.63046646,\n",
       "        -0.67173219, -0.69960052, -0.71755242, -0.73199397, -0.73813504],\n",
       "       [ 0.69277573,  0.54112095,  0.63795912, -0.27189159, -0.68143123,\n",
       "        -0.73768836, -0.73116273, -0.72774303, -0.71887839, -0.71202379,\n",
       "        -0.70457166, -0.70487797, -0.70160061, -0.69777817, -0.70194906,\n",
       "        -0.70586878, -0.70415795, -0.71196991, -0.72004956, -0.72813541,\n",
       "        -0.73374051, -0.73755622, -0.74225533, -0.74205601, -0.74637324],\n",
       "       [ 0.72958368,  0.66114175,  0.45400763, -0.44258979, -0.74042416,\n",
       "        -0.74281096, -0.74760926, -0.74669534, -0.74599051, -0.74537921,\n",
       "        -0.74559522, -0.74299699, -0.74312663, -0.74236065, -0.7418595 ,\n",
       "        -0.74191594, -0.74282205, -0.74293959, -0.74370515, -0.7453841 ,\n",
       "        -0.74657345, -0.74776131, -0.74857962, -0.74895978, -0.74876392],\n",
       "       [ 0.75066394,  0.75068778,  0.75067812,  0.75082052,  0.75085217,\n",
       "         0.7508356 ,  0.74929404,  0.72872138,  0.68038189, -0.20412661,\n",
       "        -0.72289181, -0.74064523, -0.74799758, -0.74743879, -0.74796915,\n",
       "        -0.74779773, -0.74832374, -0.74859536, -0.7487244 , -0.748936  ,\n",
       "        -0.74859631, -0.74983168, -0.74986905, -0.74991405, -0.74985027],\n",
       "       [ 0.75062609,  0.75063008,  0.75072736,  0.75051993,  0.75022691,\n",
       "         0.74883252,  0.35446849,  0.25484377, -0.47006655, -0.6106596 ,\n",
       "        -0.74286056, -0.73447293, -0.74976146, -0.74936432, -0.74951375,\n",
       "        -0.74988484, -0.74960464, -0.74954182, -0.74989915, -0.7499578 ,\n",
       "        -0.74974126, -0.75020182, -0.75025278, -0.75036663, -0.74980026],\n",
       "       [ 0.75066686,  0.75068098,  0.75068915,  0.75065428,  0.75083238,\n",
       "         0.75079495,  0.75080383,  0.75070834,  0.75109369,  0.75045246,\n",
       "         0.74944443,  0.73733693, -0.08327326, -0.71449983, -0.74766743,\n",
       "        -0.74981958, -0.75025254, -0.75031078, -0.7502529 , -0.75028199,\n",
       "        -0.75029695, -0.75030243, -0.75036889, -0.75037885, -0.75009197],\n",
       "       [ 0.75061256,  0.75065905,  0.7506541 ,  0.75066209,  0.75074226,\n",
       "         0.75073713,  0.75065249,  0.74974728,  0.72177577,  0.43376765,\n",
       "         0.54502314,  0.51751703, -0.27279112, -0.71250874, -0.73696268,\n",
       "        -0.74968261, -0.75020909, -0.75042856, -0.75042838, -0.75031835,\n",
       "        -0.75045526, -0.75052321, -0.75062752, -0.75046796, -0.74944645],\n",
       "       [ 0.75065428,  0.75066966,  0.75065428,  0.75069773,  0.75072181,\n",
       "         0.75066864,  0.75073141,  0.75065428,  0.75075161,  0.75071627,\n",
       "         0.75076443,  0.75071943,  0.75058067,  0.71682179,  0.57202023,\n",
       "        -0.15501454, -0.72488832, -0.7379694 , -0.74998069, -0.75037974,\n",
       "        -0.75061542, -0.75047845, -0.75048274, -0.74711776, -0.7472865 ],\n",
       "       [ 0.75068766,  0.75065899,  0.75065428,  0.75069261,  0.75074422,\n",
       "         0.75065428,  0.75065428,  0.75068647,  0.75068206,  0.75046647,\n",
       "         0.74473065,  0.74824411,  0.64135724,  0.74322772,  0.68654191,\n",
       "         0.70574081,  0.41602775, -0.07449047, -0.73838276, -0.74918652,\n",
       "        -0.7502411 , -0.75020289, -0.74810326, -0.74769378, -0.73504931],\n",
       "       [ 0.75065428,  0.75066102,  0.75065428,  0.75066197,  0.75068861,\n",
       "         0.75066483,  0.75065428,  0.75067866,  0.75067914,  0.75065428,\n",
       "         0.75068671,  0.75080973,  0.75074363,  0.75067782,  0.75084519,\n",
       "         0.75060385,  0.7502318 ,  0.70018291,  0.28102475, -0.41320652,\n",
       "        -0.64173466, -0.70532507, -0.74406236, -0.7428174 , -0.71422541],\n",
       "       [ 0.75065124,  0.75065094,  0.75065416,  0.75065422,  0.75065428,\n",
       "         0.75066549,  0.75075656,  0.75065398,  0.75064814,  0.75063407,\n",
       "         0.75061822,  0.75037551,  0.75000942,  0.74944884,  0.75056648,\n",
       "         0.75024313,  0.75014073,  0.72544533,  0.7400744 , -0.01931289,\n",
       "         0.00545908, -0.69225889, -0.62820899, -0.73193318, -0.5793488 ],\n",
       "       [ 0.75065362,  0.75065374,  0.75068361,  0.75066727,  0.75065428,\n",
       "         0.75066906,  0.75065428,  0.75065422,  0.75065428,  0.75065202,\n",
       "         0.75065416,  0.75064921,  0.75064963,  0.75062925,  0.75069416,\n",
       "         0.75053221,  0.75047088,  0.75051475,  0.75038731,  0.75013298,\n",
       "         0.74961352,  0.73658103,  0.37928411, -0.50590575, -0.47138143],\n",
       "       [ 0.75057381,  0.75062984,  0.75063878,  0.75064647,  0.75063968,\n",
       "         0.75064814,  0.750633  ,  0.75062764,  0.75054014,  0.75061166,\n",
       "         0.75004643,  0.7499308 ,  0.74869829,  0.7485016 ,  0.75034595,\n",
       "         0.75040174,  0.7504065 ,  0.74994802,  0.75039977,  0.74518096,\n",
       "         0.74655044,  0.72662091,  0.65718073,  0.31719255,  0.25266734]], dtype=float32)"
      ]
     },
     "execution_count": 21,
     "metadata": {},
     "output_type": "execute_result"
    }
   ],
   "source": [
    "test1[0, 12, :, :]"
   ]
  },
  {
   "cell_type": "code",
   "execution_count": 22,
   "metadata": {
    "collapsed": false
   },
   "outputs": [
    {
     "data": {
      "image/png": "[encoded data removed]",
      "text/plain": [
       "<matplotlib.figure.Figure at 0x11c7976d8>"
      ]
     },
     "metadata": {},
     "output_type": "display_data"
    }
   ],
   "source": [
    "for i in range(3):\n",
    "    plt.plot(test1[i, 12, 12, :])"
   ]
  },
  {
   "cell_type": "code",
   "execution_count": null,
   "metadata": {
    "collapsed": true
   },
   "outputs": [],
   "source": []
  },
  {
   "cell_type": "markdown",
   "metadata": {},
   "source": [
    "lrelu"
   ]
  },
  {
   "cell_type": "code",
   "execution_count": 18,
   "metadata": {
    "collapsed": false
   },
   "outputs": [
    {
     "data": {
      "text/plain": [
       "<matplotlib.image.AxesImage at 0x117685940>"
      ]
     },
     "execution_count": 18,
     "metadata": {},
     "output_type": "execute_result"
    },
    {
     "data": {
      "image/png": "[encoded data removed]",
      "text/plain": [
       "<matplotlib.figure.Figure at 0x1164712b0>"
      ]
     },
     "metadata": {},
     "output_type": "display_data"
    }
   ],
   "source": [
    "plt.imshow(test[0, 12, :, :])"
   ]
  },
  {
   "cell_type": "code",
   "execution_count": 25,
   "metadata": {
    "collapsed": false
   },
   "outputs": [
    {
     "data": {
      "text/plain": [
       "<matplotlib.image.AxesImage at 0x11a0555c0>"
      ]
     },
     "execution_count": 25,
     "metadata": {},
     "output_type": "execute_result"
    },
    {
     "data": {
      "image/png": "[encoded data removed]",
      "text/plain": [
       "<matplotlib.figure.Figure at 0x119fb4240>"
      ]
     },
     "metadata": {},
     "output_type": "display_data"
    }
   ],
   "source": [
    "plt.imshow(test[12, :, 12, :])"
   ]
  },
  {
   "cell_type": "code",
   "execution_count": 23,
   "metadata": {
    "collapsed": false
   },
   "outputs": [
    {
     "data": {
      "text/plain": [
       "array([[ -3.23507726e-01,  -3.69014859e-01,  -4.29053515e-01,\n",
       "         -4.27997082e-01,  -4.87558275e-01,  -4.65426594e-01,\n",
       "         -4.81737435e-01,  -4.21977431e-01,  -4.30315495e-01,\n",
       "         -3.70258927e-01,  -3.49416375e-01,  -2.70546347e-01,\n",
       "         -2.44161233e-01,  -1.81070819e-01,  -1.32862106e-01,\n",
       "         -6.21860325e-02,  -2.15816908e-02,   2.73145050e-01,\n",
       "          7.27748513e-01,   1.34738791e+00,   1.82193816e+00,\n",
       "          2.40478039e+00,   2.97808909e+00,   3.24957108e+00,\n",
       "          3.25743604e+00],\n",
       "       [ -4.11927462e-01,  -4.42136377e-01,  -5.13085365e-01,\n",
       "         -4.91857886e-01,  -5.64724803e-01,  -5.19982696e-01,\n",
       "         -5.44743359e-01,  -4.61116463e-01,  -4.74745303e-01,\n",
       "         -3.90158951e-01,  -3.55552703e-01,  -2.46610746e-01,\n",
       "         -2.04922378e-01,  -1.22990936e-01,  -5.78272343e-02,\n",
       "          1.62317321e-01,   5.74688435e-01,   9.03398097e-01,\n",
       "          1.39684319e+00,   1.74004507e+00,   2.02748418e+00,\n",
       "          2.01466227e+00,   2.21289325e+00,   2.05370164e+00,\n",
       "          2.02479839e+00],\n",
       "       [ -4.33148921e-01,  -4.85784382e-01,  -5.52132726e-01,\n",
       "         -5.36999285e-01,  -5.98326743e-01,  -5.57434678e-01,\n",
       "         -5.55356860e-01,  -4.62444782e-01,  -4.46642786e-01,\n",
       "         -3.54450405e-01,  -2.89588153e-01,  -1.72592983e-01,\n",
       "         -1.14165269e-01,  -3.77381742e-02,   2.16874883e-01,\n",
       "          1.06035709e+00,   1.63331974e+00,   2.40656018e+00,\n",
       "          3.24248862e+00,   4.07280445e+00,   4.67742729e+00,\n",
       "          4.91879034e+00,   5.31922340e+00,   5.06327581e+00,\n",
       "          4.83999634e+00],\n",
       "       [ -4.57290232e-01,  -4.82818544e-01,  -5.47994375e-01,\n",
       "         -5.06252408e-01,  -5.67989767e-01,  -5.03283918e-01,\n",
       "         -4.95840013e-01,  -3.83076370e-01,  -3.59026700e-01,\n",
       "         -2.51119256e-01,  -1.58381283e-01,  -3.01500913e-02,\n",
       "          4.63358909e-01,   1.03605020e+00,   1.71625102e+00,\n",
       "          2.17043781e+00,   2.66447830e+00,   2.75475836e+00,\n",
       "          3.35106111e+00,   3.45858598e+00,   3.82054639e+00,\n",
       "          3.49067426e+00,   3.60030437e+00,   3.08986616e+00,\n",
       "          2.93049264e+00],\n",
       "       [ -4.83544290e-01,  -5.34371972e-01,  -5.88454545e-01,\n",
       "         -5.53031623e-01,  -5.95427811e-01,  -5.34885705e-01,\n",
       "         -4.97599542e-01,  -3.77223879e-01,  -3.21128309e-01,\n",
       "         -2.06457376e-01,  -1.07882604e-01,   9.69670266e-02,\n",
       "          6.83392644e-01,   1.51966059e+00,   2.35434151e+00,\n",
       "          3.46788287e+00,   4.16780329e+00,   4.89144087e+00,\n",
       "          5.84439754e+00,   6.42179346e+00,   6.99554873e+00,\n",
       "          6.78206253e+00,   7.00137234e+00,   6.25501871e+00,\n",
       "          5.86890984e+00],\n",
       "       [ -4.88190293e-01,  -5.10267735e-01,  -5.55768251e-01,\n",
       "         -4.95846480e-01,  -5.28318465e-01,  -4.44491148e-01,\n",
       "         -3.87948811e-01,  -2.52327263e-01,  -1.76651493e-01,\n",
       "         -6.65574595e-02,   3.76774997e-01,   1.30547917e+00,\n",
       "          2.00030494e+00,   2.39952278e+00,   3.14124918e+00,\n",
       "          3.51763129e+00,   4.08795309e+00,   4.07900190e+00,\n",
       "          4.68253613e+00,   4.60961199e+00,   4.86744308e+00,\n",
       "          4.29073811e+00,   4.22156239e+00,   3.49516511e+00,\n",
       "          3.22329187e+00],\n",
       "       [ -4.68071014e-01,  -5.06297827e-01,  -5.35165846e-01,\n",
       "         -4.75539953e-01,  -4.84298110e-01,  -4.01348948e-01,\n",
       "         -3.25150222e-01,  -1.90683991e-01,  -1.15470871e-01,\n",
       "         -8.26687459e-03,   8.75503600e-01,   2.20379043e+00,\n",
       "          3.13778901e+00,   4.23206043e+00,   5.25983191e+00,\n",
       "          6.11951923e+00,   6.83900738e+00,   7.10208654e+00,\n",
       "          7.86888409e+00,   7.84313488e+00,   8.17895412e+00,\n",
       "          7.38176489e+00,   7.35492897e+00,   6.28171492e+00,\n",
       "          5.84687614e+00],\n",
       "       [ -4.38632220e-01,  -4.43312019e-01,  -4.54465121e-01,\n",
       "         -3.67379844e-01,  -3.53498340e-01,  -2.49898657e-01,\n",
       "         -1.50722250e-01,  -1.75832044e-02,   6.83190346e-01,\n",
       "          1.34335375e+00,   2.22592854e+00,   2.84803414e+00,\n",
       "          3.59236789e+00,   3.80809331e+00,   4.57919121e+00,\n",
       "          4.69001770e+00,   5.27733040e+00,   5.01886177e+00,\n",
       "          5.46996784e+00,   5.05765486e+00,   5.11423206e+00,\n",
       "          4.27359104e+00,   3.99891949e+00,   3.12101936e+00,\n",
       "          2.79495597e+00],\n",
       "       [ -4.19185072e-01,  -4.43136662e-01,  -4.42100108e-01,\n",
       "         -3.64115298e-01,  -3.36181134e-01,  -2.39611670e-01,\n",
       "         -1.39849648e-01,  -1.54667338e-02,   4.89739090e-01,\n",
       "          1.47059619e+00,   2.58685470e+00,   4.09851170e+00,\n",
       "          5.09406948e+00,   6.03815317e+00,   7.02816629e+00,\n",
       "          7.55327988e+00,   8.27177906e+00,   8.18644810e+00,\n",
       "          8.77504921e+00,   8.22980404e+00,   8.32173920e+00,\n",
       "          7.06969452e+00,   6.82703209e+00,   5.53915548e+00,\n",
       "          5.08316803e+00],\n",
       "       [ -4.02419358e-01,  -3.96328688e-01,  -3.74449998e-01,\n",
       "         -2.73584396e-01,  -2.23757491e-01,  -1.18991278e-01,\n",
       "         -1.35076558e-02,   8.67663741e-01,   1.53777194e+00,\n",
       "          1.99460948e+00,   2.85715294e+00,   3.49484968e+00,\n",
       "          4.24236965e+00,   4.45258713e+00,   5.17652082e+00,\n",
       "          5.19425201e+00,   5.66173697e+00,   5.23291492e+00,\n",
       "          5.44874763e+00,   4.79874229e+00,   4.61956549e+00,\n",
       "          3.55954957e+00,   3.07919431e+00,   2.12977266e+00,\n",
       "          1.83221817e+00],\n",
       "       [ -3.38890463e-01,  -3.44882995e-01,  -3.12951595e-01,\n",
       "         -2.19558403e-01,  -1.67742550e-01,  -8.25020298e-02,\n",
       "         -5.06110210e-03,   9.29215968e-01,   1.66630769e+00,\n",
       "          2.86875200e+00,   4.19667244e+00,   5.60721779e+00,\n",
       "          6.61598349e+00,   7.29323721e+00,   8.19046211e+00,\n",
       "          8.34402847e+00,   8.93620396e+00,   8.39727688e+00,\n",
       "          8.71742439e+00,   7.71480465e+00,   7.56196165e+00,\n",
       "          5.96395493e+00,   5.49035597e+00,   4.10935068e+00,\n",
       "          3.72161770e+00],\n",
       "       [ -2.99741417e-01,  -2.72603482e-01,  -2.11839840e-01,\n",
       "         -9.40471888e-02,  -1.45712718e-02,   4.80887443e-01,\n",
       "          1.24259925e+00,   1.87133741e+00,   2.47804475e+00,\n",
       "          2.84326077e+00,   3.75612211e+00,   4.24687052e+00,\n",
       "          5.00310040e+00,   5.04405785e+00,   5.67690325e+00,\n",
       "          5.47821331e+00,   5.78510141e+00,   5.11329365e+00,\n",
       "          5.01209164e+00,   4.06675482e+00,   3.60591650e+00,\n",
       "          2.44610095e+00,   1.86865580e+00,   1.05491328e+00,\n",
       "          8.37474704e-01],\n",
       "       [ -2.40365520e-01,  -2.23639399e-01,  -1.45790517e-01,\n",
       "         -1.45402178e-02,   1.07712366e-01,   5.61497390e-01,\n",
       "          1.26038885e+00,   2.17767406e+00,   2.92375803e+00,\n",
       "          4.11095953e+00,   5.45537424e+00,   6.74035645e+00,\n",
       "          7.72745800e+00,   8.23450756e+00,   9.03382683e+00,\n",
       "          8.86551476e+00,   9.27206612e+00,   8.25565147e+00,\n",
       "          8.19883823e+00,   6.67530870e+00,   6.16736317e+00,\n",
       "          4.29187775e+00,   3.57477450e+00,   2.28533840e+00,\n",
       "          1.96924281e+00],\n",
       "       [ -2.28593603e-01,  -1.95908427e-01,  -1.23113245e-01,\n",
       "         -1.78367458e-02,   3.83671820e-01,   8.81458700e-01,\n",
       "          1.49012172e+00,   1.99256623e+00,   2.57498336e+00,\n",
       "          3.01029396e+00,   3.95077014e+00,   4.49263811e+00,\n",
       "          5.24340057e+00,   5.27962303e+00,   5.84320068e+00,\n",
       "          5.52042723e+00,   5.64279127e+00,   4.70476532e+00,\n",
       "          4.31684208e+00,   3.12813926e+00,   2.49345779e+00,\n",
       "          1.36417067e+00,   7.86321640e-01,   1.40226066e-01,\n",
       "         -3.76515440e-03],\n",
       "       [ -1.41096160e-01,  -1.26415163e-01,  -7.70836920e-02,\n",
       "         -4.05534869e-03,   3.74620914e-01,   1.05857706e+00,\n",
       "          1.86950743e+00,   2.89639378e+00,   3.59806228e+00,\n",
       "          4.58137560e+00,   5.81674719e+00,   6.89922094e+00,\n",
       "          7.86017370e+00,   8.21277428e+00,   9.00606155e+00,\n",
       "          8.61293697e+00,   8.88941097e+00,   7.51458931e+00,\n",
       "          7.22813511e+00,   5.40169716e+00,   4.70047426e+00,\n",
       "          2.76779747e+00,   1.84754288e+00,   7.50548780e-01,\n",
       "          4.33011621e-01],\n",
       "       [ -1.25061631e-01,  -8.68747458e-02,  -2.86431704e-02,\n",
       "          4.05665994e-01,   8.66704285e-01,   1.24797416e+00,\n",
       "          1.90484381e+00,   2.46641946e+00,   3.14924836e+00,\n",
       "          3.51269436e+00,   4.46273947e+00,   4.85207319e+00,\n",
       "          5.56937981e+00,   5.44076586e+00,   5.87057066e+00,\n",
       "          5.31430721e+00,   5.24653578e+00,   4.11307240e+00,\n",
       "          3.55067015e+00,   2.29547405e+00,   1.63433874e+00,\n",
       "          5.99663615e-01,  -6.16133679e-03,  -6.17041625e-02,\n",
       "         -8.34617019e-02],\n",
       "       [ -5.21228611e-02,  -3.65557857e-02,   2.94896420e-02,\n",
       "          5.62055051e-01,   8.63707006e-01,   1.45070708e+00,\n",
       "          2.22470140e+00,   3.28131890e+00,   4.01876926e+00,\n",
       "          5.00270319e+00,   6.22761536e+00,   7.22208357e+00,\n",
       "          8.19084740e+00,   8.40018559e+00,   9.12194443e+00,\n",
       "          8.42384624e+00,   8.48114777e+00,   6.71156073e+00,\n",
       "          6.15405512e+00,   4.10399055e+00,   3.13321042e+00,\n",
       "          1.15370178e+00,  -4.74916026e-03,  -8.67464468e-02,\n",
       "         -1.08037494e-01],\n",
       "       [ -8.52378905e-02,  -5.52330874e-02,  -1.01380087e-02,\n",
       "          4.09527868e-01,   7.85183072e-01,   1.09984922e+00,\n",
       "          1.69419348e+00,   2.25354528e+00,   2.99075198e+00,\n",
       "          3.48569322e+00,   4.49578667e+00,   4.94487810e+00,\n",
       "          5.68289709e+00,   5.50276661e+00,   5.85855436e+00,\n",
       "          5.12182093e+00,   4.89299345e+00,   3.56940174e+00,\n",
       "          2.91349149e+00,   1.66685665e+00,   9.71170723e-01,\n",
       "         -4.54449886e-03,  -8.65341052e-02,  -1.27698600e-01,\n",
       "         -1.40732467e-01],\n",
       "       [  4.64953601e-01,   6.49398625e-01,   9.80445504e-01,\n",
       "          1.39177155e+00,   1.71722257e+00,   2.19269705e+00,\n",
       "          2.91113210e+00,   3.80482960e+00,   4.55182743e+00,\n",
       "          5.42788410e+00,   6.58512211e+00,   7.41426229e+00,\n",
       "          8.34114075e+00,   8.37464523e+00,   9.03906631e+00,\n",
       "          8.09700203e+00,   7.98521900e+00,   5.95351791e+00,\n",
       "          5.23029470e+00,   3.10964561e+00,   1.86147714e+00,\n",
       "         -5.22250403e-03,  -1.33696571e-01,  -1.74425155e-01,\n",
       "         -1.86629057e-01],\n",
       "       [ -1.93861350e-02,   3.78923044e-02,   3.24289799e-01,\n",
       "          6.21882796e-01,   9.57304418e-01,   1.28410327e+00,\n",
       "          1.96027672e+00,   2.53595519e+00,   3.37480307e+00,\n",
       "          3.82011199e+00,   4.80935001e+00,   5.09322786e+00,\n",
       "          5.78260422e+00,   5.43950462e+00,   5.67214680e+00,\n",
       "          4.73497581e+00,   4.39378214e+00,   3.03501391e+00,\n",
       "          2.40717983e+00,   1.18038809e+00,   3.52308035e-01,\n",
       "         -6.69177994e-02,  -1.51998535e-01,  -1.74844369e-01,\n",
       "         -1.82718381e-01],\n",
       "       [  1.16501522e+00,   1.33592474e+00,   1.52038705e+00,\n",
       "          1.70275509e+00,   1.93906808e+00,   2.33819556e+00,\n",
       "          3.00928044e+00,   3.84750605e+00,   4.65131426e+00,\n",
       "          5.50848150e+00,   6.63146257e+00,   7.31368876e+00,\n",
       "          8.21681213e+00,   8.09330845e+00,   8.67396259e+00,\n",
       "          7.50944948e+00,   7.24054241e+00,   5.06794119e+00,\n",
       "          4.22501516e+00,   2.10285378e+00,   7.29192495e-01,\n",
       "         -9.33947563e-02,  -2.07283333e-01,  -2.14398324e-01,\n",
       "         -2.21609876e-01],\n",
       "       [ -7.67174363e-03,   9.28807184e-02,   2.98245370e-01,\n",
       "          4.93778199e-01,   7.63888061e-01,   1.03447175e+00,\n",
       "          1.64259303e+00,   2.17797470e+00,   3.00210762e+00,\n",
       "          3.46094799e+00,   4.38883686e+00,   4.61548519e+00,\n",
       "          5.23418522e+00,   4.84162712e+00,   5.00369978e+00,\n",
       "          4.03269768e+00,   3.65522504e+00,   2.37257886e+00,\n",
       "          1.80132246e+00,   6.93544984e-01,  -1.02345385e-02,\n",
       "         -9.70704928e-02,  -1.72347680e-01,  -1.81045458e-01,\n",
       "         -1.85263783e-01],\n",
       "       [  1.70944452e+00,   1.92673910e+00,   2.17297959e+00,\n",
       "          2.29299903e+00,   2.62264705e+00,   2.93339133e+00,\n",
       "          3.56686878e+00,   4.19034195e+00,   4.95755672e+00,\n",
       "          5.55970955e+00,   6.47953320e+00,   6.82343912e+00,\n",
       "          7.57208347e+00,   7.24376059e+00,   7.68235874e+00,\n",
       "          6.44413710e+00,   6.09722757e+00,   4.07557249e+00,\n",
       "          3.20233107e+00,   1.23219883e+00,  -1.10440003e-02,\n",
       "         -1.42876089e-01,  -2.32022971e-01,  -2.19763190e-01,\n",
       "         -2.17652828e-01],\n",
       "       [  8.49639550e-02,   2.10090637e-01,   3.86617064e-01,\n",
       "          5.49323797e-01,   8.41960609e-01,   1.10701442e+00,\n",
       "          1.71345472e+00,   2.18348408e+00,   2.96737742e+00,\n",
       "          3.28345394e+00,   4.02411699e+00,   4.03061533e+00,\n",
       "          4.49467468e+00,   4.00697994e+00,   4.04892969e+00,\n",
       "          3.08790421e+00,   2.71080685e+00,   1.61126697e+00,\n",
       "          1.09008729e+00,   1.07747309e-01,  -6.64113089e-02,\n",
       "         -1.34284720e-01,  -1.93866447e-01,  -1.89873278e-01,\n",
       "         -1.85451061e-01],\n",
       "       [  1.74618554e+00,   1.94132102e+00,   2.17755723e+00,\n",
       "          2.25018048e+00,   2.57983708e+00,   2.82193828e+00,\n",
       "          3.38247442e+00,   3.85306621e+00,   4.54429102e+00,\n",
       "          4.95694494e+00,   5.67823601e+00,   5.78220510e+00,\n",
       "          6.36381006e+00,   5.95266438e+00,   6.24151468e+00,\n",
       "          5.11874104e+00,   4.79899597e+00,   3.16577911e+00,\n",
       "          2.40606737e+00,   7.72065997e-01,  -3.47180925e-02,\n",
       "         -1.29766926e-01,  -1.89514548e-01,  -1.70448571e-01,\n",
       "         -1.62102014e-01]], dtype=float32)"
      ]
     },
     "execution_count": 23,
     "metadata": {},
     "output_type": "execute_result"
    }
   ],
   "source": [
    "test[0, :, 12, :]"
   ]
  },
  {
   "cell_type": "code",
   "execution_count": 21,
   "metadata": {
    "collapsed": false
   },
   "outputs": [
    {
     "data": {
      "image/png": "[encoded data removed]",
      "text/plain": [
       "<matplotlib.figure.Figure at 0x119d5a080>"
      ]
     },
     "metadata": {},
     "output_type": "display_data"
    }
   ],
   "source": [
    "for i in range(3):\n",
    "    plt.plot(test[i, 12, 12, :])"
   ]
  },
  {
   "cell_type": "code",
   "execution_count": 22,
   "metadata": {
    "collapsed": false
   },
   "outputs": [
    {
     "data": {
      "image/png": "[encoded data removed]",
      "text/plain": [
       "<matplotlib.figure.Figure at 0x119d504e0>"
      ]
     },
     "metadata": {},
     "output_type": "display_data"
    }
   ],
   "source": [
    "for i in range(20):\n",
    "    plt.plot(arr[i].reshape((25, 25, 25))[:, 12, 12])"
   ]
  },
  {
   "cell_type": "code",
   "execution_count": null,
   "metadata": {
    "collapsed": true
   },
   "outputs": [],
   "source": []
  },
  {
   "cell_type": "markdown",
   "metadata": {},
   "source": [
    "#### "
   ]
  },
  {
   "cell_type": "code",
   "execution_count": 126,
   "metadata": {
    "collapsed": false
   },
   "outputs": [
    {
     "name": "stdout",
     "output_type": "stream",
     "text": [
      "Epoch 0   [Train |████████████████████|    9/9    batches, 1.98 cost, 138.55s]\n",
      "Epoch 1   [Train |████████████████████|    9/9    batches, 1.41 cost, 150.99s]\n",
      "Epoch 2   [Train |████████████████████|    9/9    batches, 1.46 cost, 146.70s]\n",
      "Epoch 3   [Train |████████████████████|    9/9    batches, 1.44 cost, 131.60s]\n",
      "Epoch 4   [Train |████████████████████|    9/9    batches, 1.44 cost, 130.86s]\n",
      "Epoch 5   [Train |████████████████████|    9/9    batches, 1.43 cost, 122.69s]\n",
      "Epoch 6   [Train |████████████████████|    9/9    batches, 1.43 cost, 140.25s]\n",
      "Epoch 7   [Train |████████████████████|    9/9    batches, 1.44 cost, 147.38s]\n",
      "Epoch 8   [Train |████████████████████|    9/9    batches, 1.42 cost, 147.91s]\n",
      "Epoch 9   [Train |████████████████████|    9/9    batches, 1.42 cost, 138.45s]\n",
      "Epoch 10  [Train |████████████████████|    9/9    batches, 1.43 cost, 139.10s]\n",
      "Epoch 11  [Train |████████████████████|    9/9    batches, 1.44 cost, 133.15s]\n",
      "Epoch 12  [Train |████████████████████|    9/9    batches, 1.42 cost, 132.24s]\n",
      "Epoch 13  [Train |████████████████████|    9/9    batches, 1.42 cost, 131.23s]\n",
      "Epoch 14  [Train |████████████████████|    9/9    batches, 1.44 cost, 129.96s]\n",
      "Epoch 15  [Train |████████████████████|    9/9    batches, 1.41 cost, 147.76s]\n",
      "Epoch 16  [Train |████████████████████|    9/9    batches, 1.42 cost, 141.08s]\n",
      "Epoch 17  [Train |████████████████████|    9/9    batches, 1.41 cost, 132.88s]\n",
      "Epoch 18  [Train |████████████████████|    9/9    batches, 1.42 cost, 136.21s]\n",
      "Epoch 19  [Train |████████████████████|    9/9    batches, 1.40 cost, 128.41s]\n",
      "Epoch 20  [Train |████████████████████|    9/9    batches, 1.41 cost, 144.20s]\n",
      "Epoch 21  [Train |████████████████████|    9/9    batches, 1.44 cost, 141.52s]\n",
      "Epoch 22  [Train |████████████████████|    9/9    batches, 1.41 cost, 140.12s]\n",
      "Epoch 23  [Train |████████████████████|    9/9    batches, 1.41 cost, 143.22s]\n",
      "Epoch 24  [Train |████████████████████|    9/9    batches, 1.40 cost, 121.48s]\n",
      "Epoch 25  [Train |████████████████████|    9/9    batches, 1.43 cost, 126.17s]\n",
      "Epoch 26  [Train |████████████████████|    9/9    batches, 1.40 cost, 124.18s]\n"
     ]
    }
   ],
   "source": [
    "gen_backend(backend='cpu', batch_size=10)\n",
    "# setup weight initialization function\n",
    "init = Gaussian(scale=0.01)\n",
    "\n",
    "# discriminiator using convolution layers\n",
    "lrelu = Rectlin(slope=0.1)  # leaky relu for discriminator\n",
    "# sigmoid = Logistic() # sigmoid activation function\n",
    "conv1 = dict(init=init, batch_norm=False, activation=lrelu, bias=init) # what's about BatchNorm Layer and batch_norm parameter?\n",
    "conv2 = dict(init=init, batch_norm=False, activation=lrelu, padding=2, bias=init)\n",
    "conv3 = dict(init=init, batch_norm=False, activation=lrelu, padding=1, bias=init)\n",
    "D_layers = [\n",
    "            Conv((5, 5, 5, 32), **conv1),\n",
    "            Dropout(keep = 0.8),\n",
    "            Conv((5, 5, 5, 8), **conv2),\n",
    "            BatchNorm(),\n",
    "            Dropout(keep = 0.8),\n",
    "            Conv((5, 5, 5, 8), **conv2),\n",
    "            BatchNorm(),\n",
    "            Dropout(keep = 0.8),\n",
    "            Conv((5, 5, 5, 8), **conv3),\n",
    "            BatchNorm(),\n",
    "            Dropout(keep = 0.8),\n",
    "            Pooling((2, 2, 2)),\n",
    "            Affine(1024, init=init, activation=lrelu),\n",
    "            BatchNorm(),\n",
    "            Affine(1024, init=init, activation=lrelu),\n",
    "            BatchNorm(),\n",
    "            Affine(1, init=init, activation=Logistic())\n",
    "            ]\n",
    "\n",
    "# generator using convolution layers\n",
    "init_gen = Gaussian(scale=0.01)\n",
    "relu = Rectlin(slope=0)  # relu for generator\n",
    "pad1 = dict(pad_h=2, pad_w=2, pad_d=2)\n",
    "str1 = dict(str_h=2, str_w=2, str_d=2)\n",
    "conv1 = dict(init=init_gen, batch_norm=False, activation=lrelu, padding=pad1, strides=str1, bias=init_gen)\n",
    "pad2 = dict(pad_h=2, pad_w=2, pad_d=2)\n",
    "str2 = dict(str_h=2, str_w=2, str_d=2)\n",
    "conv2 = dict(init=init_gen, batch_norm=False, activation=lrelu, padding=pad2, strides=str2, bias=init_gen)\n",
    "pad3 = dict(pad_h=0, pad_w=0, pad_d=0)\n",
    "str3 = dict(str_h=1, str_w=1, str_d=1)\n",
    "conv3 = dict(init=init_gen, batch_norm=False, activation=Tanh(), padding=pad3, strides=str3, bias=init_gen)\n",
    "G_layers = [\n",
    "            Affine(1024, init=init_gen, bias=init_gen, activation=relu),\n",
    "            BatchNorm(),\n",
    "            Affine(8 * 7 * 7 * 7, init=init_gen, bias=init_gen),\n",
    "            Reshape((8, 7, 7, 7)),\n",
    "            Deconv((6, 6, 6, 6), **conv1), #14x14x14\n",
    "            BatchNorm(),\n",
    "            Deconv((5, 5, 5, 64), **conv2), #27x27x27\n",
    "            BatchNorm(),\n",
    "            Conv((3, 3, 3, 1), **conv3)\n",
    "            ]\n",
    "\n",
    "layers = GenerativeAdversarial(generator=Sequential(G_layers, name=\"Generator\"),\n",
    "                               discriminator=Sequential(D_layers, name=\"Discriminator\"))\n",
    "\n",
    "# setup optimizer\n",
    "optimizer = RMSProp(learning_rate=1e-3, decay_rate=0.9, epsilon=1e-8)\n",
    "# optimizer = GradientDescentMomentum(learning_rate=1e-3, momentum_coef = 0.9)\n",
    "\n",
    "# setup cost function as Binary CrossEntropy\n",
    "cost = GeneralizedGANCost(costfunc=GANCost(func=\"modified\"))\n",
    "\n",
    "nb_epochs = 27\n",
    "latent_size = 200\n",
    "inb_classes = 2\n",
    "nb_test = 100\n",
    "\n",
    "# initialize model\n",
    "noise_dim = (latent_size)\n",
    "gan = GAN(layers=layers, noise_dim=noise_dim, k=5)\n",
    "\n",
    "# configure callbacks\n",
    "callbacks = Callbacks(gan, eval_set=valid_set)\n",
    "callbacks.add_callback(GANCostCallback())\n",
    "#callbacks.add_save_best_state_callback(\"./best_state.pkl\")\n",
    "\n",
    "# run fit\n",
    "gan.fit(train_set, num_epochs=nb_epochs, optimizer=optimizer,\n",
    "        cost=cost, callbacks=callbacks)"
   ]
  },
  {
   "cell_type": "code",
   "execution_count": 127,
   "metadata": {
    "collapsed": true
   },
   "outputs": [],
   "source": [
    "x_new = np.random.standard_normal((64, latent_size))\n",
    "inference_set = ArrayIterator(x_new, None, nclass=2, lshape=(latent_size))\n",
    "my_generator = Model(gan.layers.generator)"
   ]
  },
  {
   "cell_type": "code",
   "execution_count": 128,
   "metadata": {
    "collapsed": true
   },
   "outputs": [],
   "source": [
    "test6 = my_generator.get_outputs(inference_set)\n",
    "test6 = test6 * max_elem +  mean\n",
    "test6 =  test6.reshape((64, 25, 25, 25))"
   ]
  },
  {
   "cell_type": "code",
   "execution_count": 133,
   "metadata": {
    "collapsed": false
   },
   "outputs": [
    {
     "data": {
      "text/plain": [
       "<matplotlib.colorbar.Colorbar at 0x11bc8c0b8>"
      ]
     },
     "execution_count": 133,
     "metadata": {},
     "output_type": "execute_result"
    },
    {
     "data": {
      "image/png": "[encoded data removed]",
      "text/plain": [
       "<matplotlib.figure.Figure at 0x11aaa7208>"
      ]
     },
     "metadata": {},
     "output_type": "display_data"
    }
   ],
   "source": [
    "plt.imshow(test6[20, 20, :, :])\n",
    "plt.colorbar()"
   ]
  },
  {
   "cell_type": "code",
   "execution_count": null,
   "metadata": {
    "collapsed": true
   },
   "outputs": [],
   "source": []
  },
  {
   "cell_type": "code",
   "execution_count": 62,
   "metadata": {
    "collapsed": true
   },
   "outputs": [],
   "source": [
    "x_new = np.random.standard_normal((64, latent_size))\n",
    "inference_set = ArrayIterator(x_new, None, nclass=2, lshape=(latent_size))\n",
    "my_generator = Model(gan.layers.generator)"
   ]
  },
  {
   "cell_type": "code",
   "execution_count": null,
   "metadata": {
    "collapsed": true
   },
   "outputs": [],
   "source": [
    "Tanh - modified"
   ]
  },
  {
   "cell_type": "code",
   "execution_count": 63,
   "metadata": {
    "collapsed": true
   },
   "outputs": [],
   "source": [
    "test4 = my_generator.get_outputs(inference_set)\n",
    "test4 = test4 * max_elem +  mean\n",
    "test4 =  test4.reshape((64, 25, 25, 25))"
   ]
  },
  {
   "cell_type": "code",
   "execution_count": 80,
   "metadata": {
    "collapsed": false
   },
   "outputs": [
    {
     "data": {
      "text/plain": [
       "<matplotlib.image.AxesImage at 0x11091a780>"
      ]
     },
     "execution_count": 80,
     "metadata": {},
     "output_type": "execute_result"
    },
    {
     "data": {
      "image/png": "[encoded data removed]",
      "text/plain": [
       "<matplotlib.figure.Figure at 0x1050b4748>"
      ]
     },
     "metadata": {},
     "output_type": "display_data"
    }
   ],
   "source": [
    "plt.imshow(test4[10, 12, :, :])"
   ]
  },
  {
   "cell_type": "code",
   "execution_count": 83,
   "metadata": {
    "collapsed": false
   },
   "outputs": [
    {
     "data": {
      "image/png": "[encoded data removed]",
      "text/plain": [
       "<matplotlib.figure.Figure at 0x110a99b38>"
      ]
     },
     "metadata": {},
     "output_type": "display_data"
    }
   ],
   "source": [
    "for i in range(3):\n",
    "    plt.plot(test4[i, 12, 12, :])"
   ]
  },
  {
   "cell_type": "code",
   "execution_count": null,
   "metadata": {
    "collapsed": true
   },
   "outputs": [],
   "source": []
  },
  {
   "cell_type": "code",
   "execution_count": null,
   "metadata": {
    "collapsed": true
   },
   "outputs": [],
   "source": []
  },
  {
   "cell_type": "code",
   "execution_count": 52,
   "metadata": {
    "collapsed": true
   },
   "outputs": [],
   "source": [
    "test3 = my_generator.get_outputs(inference_set)\n",
    "test3 = test3 * max_elem +  mean\n",
    "test3 =  test3.reshape((64, 25, 25, 25))"
   ]
  },
  {
   "cell_type": "code",
   "execution_count": 58,
   "metadata": {
    "collapsed": false
   },
   "outputs": [
    {
     "data": {
      "text/plain": [
       "<matplotlib.image.AxesImage at 0x1159dc898>"
      ]
     },
     "execution_count": 58,
     "metadata": {},
     "output_type": "execute_result"
    },
    {
     "data": {
      "image/png": "[encoded data removed]",
      "text/plain": [
       "<matplotlib.figure.Figure at 0x12993de48>"
      ]
     },
     "metadata": {},
     "output_type": "display_data"
    }
   ],
   "source": [
    "plt.imshow(test3[0, 12, :, :])"
   ]
  },
  {
   "cell_type": "code",
   "execution_count": 57,
   "metadata": {
    "collapsed": false
   },
   "outputs": [
    {
     "data": {
      "text/plain": [
       "array([[ 0.46928039,  0.53032559,  0.62184447,  0.65278566,  0.63975871,\n",
       "         0.58877474,  0.70148343,  0.72083676,  0.74020362,  0.73519844,\n",
       "         0.72475958,  0.7130813 ,  0.71702796,  0.72802502,  0.73544824,\n",
       "         0.72019041,  0.69729513,  0.69893557,  0.70337617,  0.65563941,\n",
       "         0.68684614,  0.65892041,  0.65059441,  0.42228428,  0.29226133],\n",
       "       [ 0.54599124,  0.67028689,  0.72405934,  0.71098429,  0.71205014,\n",
       "         0.71805561,  0.71853131,  0.71168077,  0.73276561,  0.72885436,\n",
       "         0.73765796,  0.71906245,  0.7271542 ,  0.70999771,  0.73095012,\n",
       "         0.71156949,  0.70077705,  0.66976744,  0.68031245,  0.69400215,\n",
       "         0.72593206,  0.71683371,  0.64053428,  0.58173531,  0.4547326 ],\n",
       "       [ 0.71622103,  0.72840101,  0.74926448,  0.74731171,  0.74938852,\n",
       "         0.74741954,  0.74497712,  0.74790549,  0.74782568,  0.74547261,\n",
       "         0.74846828,  0.74677485,  0.74793148,  0.74762899,  0.74396646,\n",
       "         0.73480469,  0.73706061,  0.72051054,  0.7301932 ,  0.73925191,\n",
       "         0.74517763,  0.72739846,  0.72624791,  0.62907189,  0.4841685 ],\n",
       "       [ 0.72659963,  0.74328268,  0.74938303,  0.7484926 ,  0.74987471,\n",
       "         0.74912739,  0.74915534,  0.74812031,  0.74915475,  0.74440551,\n",
       "         0.74726033,  0.74700087,  0.74691314,  0.74385661,  0.74721193,\n",
       "         0.72783583,  0.73945856,  0.72994566,  0.7330634 ,  0.73002392,\n",
       "         0.74427617,  0.72920281,  0.70759332,  0.56590474,  0.51158404],\n",
       "       [ 0.74498391,  0.74909353,  0.75040436,  0.75032812,  0.75060302,\n",
       "         0.75065434,  0.75057852,  0.7502721 ,  0.75043041,  0.75018728,\n",
       "         0.74954659,  0.74847788,  0.75019681,  0.74857378,  0.74970126,\n",
       "         0.74810266,  0.74745935,  0.74574333,  0.74898064,  0.74632275,\n",
       "         0.74738735,  0.7389679 ,  0.72291982,  0.57839459,  0.56867737],\n",
       "       [ 0.73469305,  0.7468465 ,  0.75043821,  0.75001824,  0.75071776,\n",
       "         0.75049037,  0.75060654,  0.75035262,  0.75017571,  0.74803656,\n",
       "         0.74698019,  0.748308  ,  0.74744815,  0.74848694,  0.74697703,\n",
       "         0.74588495,  0.74409002,  0.74082291,  0.74307352,  0.74234575,\n",
       "         0.74392563,  0.73222178,  0.6998989 ,  0.55654031,  0.45946822],\n",
       "       [ 0.74317092,  0.74780613,  0.75060642,  0.75063312,  0.75065631,\n",
       "         0.75070161,  0.75065833,  0.75052774,  0.75071979,  0.75054789,\n",
       "         0.75059116,  0.75053632,  0.75103742,  0.74924541,  0.75054872,\n",
       "         0.7483505 ,  0.74727547,  0.74625295,  0.74862844,  0.74695492,\n",
       "         0.7470836 ,  0.71562177,  0.70506978,  0.4782632 ,  0.43808779],\n",
       "       [ 0.71058571,  0.73714465,  0.75021744,  0.75053781,  0.75069755,\n",
       "         0.75068671,  0.7507295 ,  0.75059891,  0.75057435,  0.74954951,\n",
       "         0.7502448 ,  0.75012124,  0.74987757,  0.74650276,  0.75019413,\n",
       "         0.74651009,  0.74789137,  0.73795223,  0.74248838,  0.73731905,\n",
       "         0.72619474,  0.69867605,  0.67989856,  0.50226706,  0.4302094 ],\n",
       "       [ 0.72308117,  0.74612385,  0.75063819,  0.75068206,  0.75073695,\n",
       "         0.75078082,  0.75099146,  0.75100708,  0.7511484 ,  0.75096977,\n",
       "         0.75120687,  0.75088161,  0.75167269,  0.75095052,  0.75100297,\n",
       "         0.74996001,  0.7510516 ,  0.74897546,  0.75042295,  0.74743652,\n",
       "         0.74606979,  0.72185218,  0.69521391,  0.58186549,  0.4073903 ],\n",
       "       [ 0.6380403 ,  0.74033403,  0.74978435,  0.75060999,  0.75072098,\n",
       "         0.7510072 ,  0.75134498,  0.75153393,  0.75184625,  0.74941987,\n",
       "         0.75108796,  0.75023484,  0.75145602,  0.75066364,  0.75210106,\n",
       "         0.75200683,  0.75168079,  0.75021499,  0.75045824,  0.74813682,\n",
       "         0.73293507,  0.67945713,  0.62058473,  0.34851348,  0.38757575],\n",
       "       [ 0.67168343,  0.74333733,  0.75049222,  0.75114578,  0.75135422,\n",
       "         0.75169015,  0.75275904,  0.75410557,  0.7544812 ,  0.7561059 ,\n",
       "         0.75503778,  0.75452417,  0.75777698,  0.75944912,  0.75965863,\n",
       "         0.75852233,  0.76059145,  0.75812161,  0.75691545,  0.75550795,\n",
       "         0.75231016,  0.73905516,  0.68526965,  0.59239036,  0.53130341],\n",
       "       [ 0.65656716,  0.71461654,  0.75045413,  0.75233346,  0.75655311,\n",
       "         0.76099241,  0.7667172 ,  0.77206177,  0.78025568,  0.76947069,\n",
       "         0.77066123,  0.71824121,  0.79332042,  0.79184407,  0.80053526,\n",
       "         0.79878646,  0.79730099,  0.79159266,  0.78224492,  0.77220958,\n",
       "         0.76701719,  0.75195915,  0.71295601,  0.54020482,  0.48342234],\n",
       "       [ 0.72461474,  0.75801092,  0.78926879,  0.82612193,  0.88595128,\n",
       "         0.94667029,  1.02433324,  1.08901834,  1.13476861,  1.16894054,\n",
       "         1.16755641,  1.13472748,  1.17377973,  1.15979099,  1.12567973,\n",
       "         1.08928549,  1.05348563,  0.98860365,  0.92562014,  0.87007767,\n",
       "         0.82936573,  0.79909831,  0.77235115,  0.70075649,  0.58179891],\n",
       "       [ 0.64862418,  0.73331404,  0.74935514,  0.75268424,  0.75585234,\n",
       "         0.76073366,  0.76768208,  0.77166152,  0.77760029,  0.77619487,\n",
       "         0.77359813,  0.7180804 ,  0.78426975,  0.7888658 ,  0.7979092 ,\n",
       "         0.79454422,  0.79627264,  0.78877002,  0.78105319,  0.77194047,\n",
       "         0.76538843,  0.75921434,  0.74555439,  0.71273685,  0.56740743],\n",
       "       [ 0.73422134,  0.73819196,  0.74973434,  0.75017107,  0.75134629,\n",
       "         0.75210547,  0.75328767,  0.75372016,  0.75491393,  0.75271297,\n",
       "         0.74955696,  0.73625988,  0.75496697,  0.75550765,  0.75926197,\n",
       "         0.75931072,  0.7584731 ,  0.75825298,  0.75755882,  0.75534278,\n",
       "         0.75392759,  0.75161165,  0.74746257,  0.71160918,  0.55252445],\n",
       "       [ 0.62273592,  0.70467877,  0.74804723,  0.74751765,  0.74987853,\n",
       "         0.74959385,  0.75090116,  0.75058013,  0.75087869,  0.74392819,\n",
       "         0.74640298,  0.73712945,  0.74201244,  0.74903136,  0.75282651,\n",
       "         0.75330335,  0.75284326,  0.75218451,  0.75239909,  0.75067198,\n",
       "         0.74978721,  0.71427238,  0.73570132,  0.69129407,  0.62701106],\n",
       "       [ 0.58357024,  0.71557367,  0.74746543,  0.74859542,  0.75047338,\n",
       "         0.75032997,  0.75050509,  0.75067818,  0.75074178,  0.75007707,\n",
       "         0.75020111,  0.74988109,  0.75118506,  0.75107902,  0.75171387,\n",
       "         0.75136435,  0.75168186,  0.75155383,  0.75133163,  0.75100893,\n",
       "         0.75089389,  0.74443978,  0.73140091,  0.6085732 ,  0.63889271],\n",
       "       [ 0.41835755,  0.6096608 ,  0.7281484 ,  0.73953664,  0.74797344,\n",
       "         0.74750566,  0.7497071 ,  0.74703366,  0.74949473,  0.74517792,\n",
       "         0.74966955,  0.7459529 ,  0.74935359,  0.74807662,  0.75112659,\n",
       "         0.75085777,  0.7507906 ,  0.75003958,  0.75070149,  0.74960798,\n",
       "         0.74442142,  0.7305218 ,  0.70617741,  0.57499033,  0.52604091],\n",
       "       [ 0.40463749,  0.52688742,  0.71606922,  0.73782951,  0.74912268,\n",
       "         0.74826854,  0.74932176,  0.74693805,  0.75015587,  0.74785542,\n",
       "         0.75017875,  0.74912047,  0.75029975,  0.74941278,  0.75052983,\n",
       "         0.75057071,  0.75079226,  0.75050473,  0.75069731,  0.75050741,\n",
       "         0.74910265,  0.72304177,  0.71191025,  0.64539331,  0.49157399],\n",
       "       [ 0.25660089,  0.41277331,  0.64540291,  0.65844321,  0.73743188,\n",
       "         0.71364051,  0.74298865,  0.73539174,  0.74708885,  0.74326044,\n",
       "         0.7451874 ,  0.74345088,  0.74395621,  0.74140251,  0.74775702,\n",
       "         0.74822617,  0.74924117,  0.74818838,  0.74849308,  0.74795675,\n",
       "         0.73803371,  0.64896023,  0.65680993,  0.53819549,  0.42307553],\n",
       "       [ 0.17628472,  0.2658318 ,  0.46794239,  0.68460089,  0.7269606 ,\n",
       "         0.72109747,  0.74446982,  0.73159438,  0.74687552,  0.74865592,\n",
       "         0.74715161,  0.74333078,  0.74610096,  0.7476939 ,  0.7484259 ,\n",
       "         0.74843937,  0.75032943,  0.7484957 ,  0.74921131,  0.74541986,\n",
       "         0.74029046,  0.67945224,  0.64576572,  0.55414462,  0.45512867],\n",
       "       [ 0.12125092,  0.13992506,  0.39714724,  0.51831079,  0.66003454,\n",
       "         0.68561196,  0.73158628,  0.72431582,  0.73463833,  0.72431105,\n",
       "         0.74515527,  0.71856838,  0.72030085,  0.71965468,  0.73601407,\n",
       "         0.73206437,  0.73999655,  0.72974008,  0.74383128,  0.70297831,\n",
       "         0.67472661,  0.43268803,  0.44890139,  0.35294124,  0.3678669 ],\n",
       "       [ 0.12083921,  0.15626466,  0.46156842,  0.45018646,  0.70438212,\n",
       "         0.66087419,  0.72084087,  0.7007463 ,  0.7268272 ,  0.72207612,\n",
       "         0.72551626,  0.72677702,  0.74003726,  0.69905668,  0.71582669,\n",
       "         0.71904641,  0.73624563,  0.73019624,  0.73068166,  0.72304112,\n",
       "         0.68464291,  0.51503998,  0.49959329,  0.32468474,  0.26112852],\n",
       "       [ 0.10033853,  0.14404017,  0.38356429,  0.42683709,  0.5589422 ,\n",
       "         0.55608082,  0.66538477,  0.64160371,  0.69740444,  0.54797059,\n",
       "         0.70566612,  0.63673437,  0.61357081,  0.62855977,  0.6577608 ,\n",
       "         0.64523089,  0.64251685,  0.6067543 ,  0.6653949 ,  0.60958093,\n",
       "         0.49622369,  0.44391978,  0.38552472,  0.26385352,  0.2815074 ],\n",
       "       [ 0.1220111 ,  0.17635629,  0.35792622,  0.45779729,  0.66134363,\n",
       "         0.55498719,  0.64866614,  0.615955  ,  0.69109118,  0.60930824,\n",
       "         0.63714153,  0.60831922,  0.6268186 ,  0.50949574,  0.62062877,\n",
       "         0.63150072,  0.66667038,  0.57189375,  0.56890279,  0.58026379,\n",
       "         0.55009431,  0.45166701,  0.30355018,  0.3206543 ,  0.17299385]], dtype=float32)"
      ]
     },
     "execution_count": 57,
     "metadata": {},
     "output_type": "execute_result"
    }
   ],
   "source": [
    "test3[10, 12, :, :]"
   ]
  },
  {
   "cell_type": "code",
   "execution_count": 60,
   "metadata": {
    "collapsed": false
   },
   "outputs": [
    {
     "data": {
      "image/png": "[encoded data removed]",
      "text/plain": [
       "<matplotlib.figure.Figure at 0x115adf160>"
      ]
     },
     "metadata": {},
     "output_type": "display_data"
    }
   ],
   "source": [
    "for i in range(3):\n",
    "    plt.plot(test3[i, 12, 12, :])"
   ]
  },
  {
   "cell_type": "markdown",
   "metadata": {},
   "source": [
    "Tanh() - modified"
   ]
  },
  {
   "cell_type": "code",
   "execution_count": null,
   "metadata": {
    "collapsed": true
   },
   "outputs": [],
   "source": []
  },
  {
   "cell_type": "code",
   "execution_count": null,
   "metadata": {
    "collapsed": true
   },
   "outputs": [],
   "source": []
  },
  {
   "cell_type": "code",
   "execution_count": null,
   "metadata": {
    "collapsed": true
   },
   "outputs": [],
   "source": []
  },
  {
   "cell_type": "code",
   "execution_count": null,
   "metadata": {
    "collapsed": true
   },
   "outputs": [],
   "source": []
  },
  {
   "cell_type": "markdown",
   "metadata": {},
   "source": [
    "lrelu - wasserstain"
   ]
  },
  {
   "cell_type": "code",
   "execution_count": 42,
   "metadata": {
    "collapsed": true
   },
   "outputs": [],
   "source": [
    "x_new = np.random.standard_normal((64, latent_size))\n",
    "inference_set = ArrayIterator(x_new, None, nclass=2, lshape=(latent_size))\n",
    "my_generator = Model(gan.layers.generator)"
   ]
  },
  {
   "cell_type": "code",
   "execution_count": 43,
   "metadata": {
    "collapsed": true
   },
   "outputs": [],
   "source": [
    "test2 = my_generator.get_outputs(inference_set)\n",
    "test2 = test2 * max_elem +  mean\n",
    "test2 =  test2.reshape((64, 25, 25, 25))"
   ]
  },
  {
   "cell_type": "code",
   "execution_count": 48,
   "metadata": {
    "collapsed": false
   },
   "outputs": [
    {
     "data": {
      "text/plain": [
       "<matplotlib.image.AxesImage at 0x13b8addd8>"
      ]
     },
     "execution_count": 48,
     "metadata": {},
     "output_type": "execute_result"
    },
    {
     "data": {
      "image/png": "[encoded data removed]",
      "text/plain": [
       "<matplotlib.figure.Figure at 0x1299aaa20>"
      ]
     },
     "metadata": {},
     "output_type": "display_data"
    }
   ],
   "source": [
    "plt.imshow(test2[10, 12, :, :])"
   ]
  },
  {
   "cell_type": "code",
   "execution_count": 45,
   "metadata": {
    "collapsed": false
   },
   "outputs": [
    {
     "data": {
      "image/png": "[encoded data removed]",
      "text/plain": [
       "<matplotlib.figure.Figure at 0x11d531400>"
      ]
     },
     "metadata": {},
     "output_type": "display_data"
    }
   ],
   "source": [
    "for i in range(3):\n",
    "    plt.plot(test2[i, 12, 12, :])"
   ]
  },
  {
   "cell_type": "code",
   "execution_count": 55,
   "metadata": {
    "collapsed": false
   },
   "outputs": [
    {
     "data": {
      "text/plain": [
       "array([[ 0.39387944,  0.4174394 ,  0.4529663 ,  0.40683782,  0.46367899,\n",
       "         0.35278118,  0.39859015,  0.3097173 ,  0.29202551,  0.32109767,\n",
       "         0.35192862,  0.45910251,  0.38609758,  0.44729459,  0.41681683,\n",
       "         0.31529155,  0.36582935,  0.39771789,  0.31522304,  0.40234879,\n",
       "         0.33231145,  0.42207986,  0.37133545,  0.36224511,  0.35846663],\n",
       "       [ 0.41275615,  0.45624769,  0.37253827,  0.40807387,  0.35359237,\n",
       "         0.44156817,  0.34210983,  0.30491057,  0.34082106,  0.46276465,\n",
       "         0.38707474,  0.48893172,  0.46567094,  0.41853386,  0.43801901,\n",
       "         0.44738185,  0.43709633,  0.29796657,  0.36534318,  0.38023207,\n",
       "         0.38427058,  0.33961305,  0.43445045,  0.28448188,  0.36280653],\n",
       "       [ 0.38720897,  0.25161383,  0.37113699,  0.33956498,  0.34004799,\n",
       "         0.39492658,  0.43842557,  0.37908676,  0.33428615,  0.37720221,\n",
       "         0.33912048,  0.37076312,  0.33213612,  0.36724123,  0.23987003,\n",
       "         0.31948617,  0.36057785,  0.40270689,  0.36658016,  0.44721934,\n",
       "         0.44412696,  0.41767144,  0.33756313,  0.3395856 ,  0.39181551],\n",
       "       [ 0.38973376,  0.33901942,  0.46225092,  0.40023026,  0.43137014,\n",
       "         0.42159328,  0.36199939,  0.35131517,  0.46894848,  0.35966036,\n",
       "         0.49486232,  0.47834185,  0.37329096,  0.34110379,  0.39156064,\n",
       "         0.21644534,  0.52226317,  0.43292677,  0.33439982,  0.47149965,\n",
       "         0.38685068,  0.42254514,  0.38208008,  0.41113773,  0.416318  ],\n",
       "       [ 0.38179851,  0.24747176,  0.44453454,  0.45770741,  0.32736552,\n",
       "         0.37565547,  0.38950387,  0.47027284,  0.37914935,  0.36397827,\n",
       "         0.3519201 ,  0.48546779,  0.36385521,  0.35285974,  0.4442454 ,\n",
       "         0.3322736 ,  0.37523785,  0.32021487,  0.38125652,  0.38390172,\n",
       "         0.33877176,  0.31605744,  0.4297955 ,  0.33941281,  0.34322658],\n",
       "       [ 0.38248959,  0.29756445,  0.33936095,  0.37659726,  0.44430384,\n",
       "         0.31910312,  0.3969734 ,  0.33997795,  0.39944971,  0.42035186,\n",
       "         0.41999501,  0.26813611,  0.47095996,  0.28301498,  0.38924319,\n",
       "         0.35239184,  0.41916305,  0.27960512,  0.354467  ,  0.43735898,\n",
       "         0.34864566,  0.29990211,  0.46710652,  0.32878667,  0.34415853],\n",
       "       [ 0.42278621,  0.28655118,  0.49605432,  0.36662272,  0.29922614,\n",
       "         0.3832705 ,  0.47924531,  0.34184617,  0.50391209,  0.30188432,\n",
       "         0.42351308,  0.31519327,  0.4283509 ,  0.2393758 ,  0.44242352,\n",
       "         0.36177742,  0.35876152,  0.31464103,  0.44999853,  0.46399757,\n",
       "         0.38688216,  0.33055434,  0.46801808,  0.32705444,  0.48578283],\n",
       "       [ 0.30126426,  0.40543094,  0.32549772,  0.37517929,  0.28861895,\n",
       "         0.3192623 ,  0.47872725,  0.39747623,  0.51742023,  0.35852993,\n",
       "         0.28848276,  0.38780567,  0.46769348,  0.46106386,  0.45860603,\n",
       "         0.32349721,  0.48364732,  0.45164642,  0.40535969,  0.39925933,\n",
       "         0.41799363,  0.48062244,  0.36775818,  0.29326338,  0.31077752],\n",
       "       [ 0.38966849,  0.47371876,  0.33134547,  0.27011251,  0.35993597,\n",
       "         0.42655605,  0.46148914,  0.38085446,  0.38454077,  0.37142938,\n",
       "         0.30549699,  0.36271366,  0.24507758,  0.37559298,  0.30941829,\n",
       "         0.2331664 ,  0.2560617 ,  0.33301082,  0.52154577,  0.41480184,\n",
       "         0.46508098,  0.35622492,  0.37620643,  0.40072602,  0.35225254],\n",
       "       [ 0.36758909,  0.32534564,  0.41807655,  0.24401042,  0.43110171,\n",
       "         0.34399244,  0.44974819,  0.43454242,  0.2469335 ,  0.18369748,\n",
       "         0.36074734,  0.34223676,  0.39612722,  0.41058254,  0.20010087,\n",
       "         0.37695926,  0.37418631,  0.43209377,  0.48007178,  0.27964461,\n",
       "         0.43757445,  0.41378364,  0.44896278,  0.47489068,  0.36873454],\n",
       "       [ 0.39821142,  0.36470169,  0.3357304 ,  0.47172272,  0.44659486,\n",
       "         0.25493866,  0.44119239,  0.38981992,  0.55458844,  0.25695184,\n",
       "         0.36821538,  0.38855493,  0.41559142,  0.37055582,  0.42155972,\n",
       "         0.39326581,  0.30990893,  0.30496687,  0.40844935,  0.33295044,\n",
       "         0.37925473,  0.21783821,  0.37667251,  0.45822129,  0.34666601],\n",
       "       [ 0.36285287,  0.43340927,  0.33625752,  0.39605522,  0.40462542,\n",
       "         0.29164293,  0.43449309,  0.52254742,  0.4086242 ,  0.53127354,\n",
       "         0.55259621,  0.43211532,  0.41412294,  0.44316894,  0.44595599,\n",
       "         0.4011552 ,  0.31522891,  0.32813594,  0.46073836,  0.44059637,\n",
       "         0.40914819,  0.42052016,  0.46919256,  0.41842523,  0.37266654],\n",
       "       [ 0.33176333,  0.42895845,  0.3930423 ,  0.46316862,  0.57903075,\n",
       "         0.47302747,  0.78665441,  0.76856172,  0.63018334,  0.7504226 ,\n",
       "         0.85466146,  0.93303597,  0.66223454,  0.71975571,  0.72583324,\n",
       "         0.67983913,  0.8321377 ,  0.55374235,  0.57568097,  0.44931418,\n",
       "         0.56766051,  0.4228515 ,  0.47684327,  0.33765179,  0.39310405],\n",
       "       [ 0.34264231,  0.34788135,  0.41965339,  0.43917453,  0.43899131,\n",
       "         0.45767522,  0.46834862,  0.43298426,  0.56085241,  0.36539885,\n",
       "         0.44908997,  0.37376863,  0.41599703,  0.34994248,  0.39420542,\n",
       "         0.4584024 ,  0.24816433,  0.55752444,  0.3848193 ,  0.42813846,\n",
       "         0.41710317,  0.23485112,  0.48340857,  0.3886317 ,  0.31905431],\n",
       "       [ 0.51066846,  0.32487559,  0.43567267,  0.44497508,  0.32588169,\n",
       "         0.27934432,  0.3523356 ,  0.39137658,  0.35475448,  0.52468699,\n",
       "         0.62419879,  0.33345553,  0.42536724,  0.35147104,  0.54179525,\n",
       "         0.31315342,  0.3527669 ,  0.37509051,  0.44202396,  0.36742708,\n",
       "         0.40704021,  0.34688702,  0.31456488,  0.3338345 ,  0.51177174],\n",
       "       [ 0.41582501,  0.47261024,  0.47163385,  0.4343164 ,  0.34502137,\n",
       "         0.4250477 ,  0.33307508,  0.2262404 ,  0.34113249,  0.36760825,\n",
       "         0.4832719 ,  0.3244144 ,  0.36483333,  0.25781766,  0.55439723,\n",
       "         0.35895222,  0.34728137,  0.46187106,  0.43277913,  0.49582127,\n",
       "         0.40391842,  0.36024895,  0.42893666,  0.37513605,  0.40280601],\n",
       "       [ 0.41867554,  0.37906134,  0.47010413,  0.31833306,  0.35104439,\n",
       "         0.38839138,  0.39673126,  0.31940752,  0.34189612,  0.41174483,\n",
       "         0.42751151,  0.40341881,  0.38838056,  0.24439593,  0.44196969,\n",
       "         0.38692346,  0.50540346,  0.37496337,  0.38987508,  0.37201703,\n",
       "         0.21764463,  0.30874559,  0.40584007,  0.42885703,  0.36413378],\n",
       "       [ 0.3540155 ,  0.35513857,  0.33652908,  0.36008695,  0.45950571,\n",
       "         0.37568763,  0.47480008,  0.43112653,  0.34926569,  0.45123202,\n",
       "         0.37102753,  0.35899019,  0.3509171 ,  0.36211464,  0.3167128 ,\n",
       "         0.43131551,  0.44104025,  0.47547552,  0.43533713,  0.33793184,\n",
       "         0.45917311,  0.35893103,  0.30017501,  0.26646566,  0.41521668],\n",
       "       [ 0.30899888,  0.35159627,  0.2888051 ,  0.39318839,  0.38558322,\n",
       "         0.35649148,  0.39887151,  0.37621415,  0.37801528,  0.39965671,\n",
       "         0.41219863,  0.36407453,  0.36789903,  0.38831797,  0.56388772,\n",
       "         0.30347034,  0.26274014,  0.49543968,  0.38691872,  0.37181732,\n",
       "         0.39679077,  0.38072795,  0.49649248,  0.40267673,  0.30493903],\n",
       "       [ 0.30494681,  0.44081786,  0.36937156,  0.34027281,  0.35897687,\n",
       "         0.417447  ,  0.34017783,  0.38881025,  0.45115113,  0.34408167,\n",
       "         0.54034489,  0.55071193,  0.41640034,  0.39854679,  0.38489226,\n",
       "         0.33134413,  0.52501142,  0.30228847,  0.35703713,  0.28141922,\n",
       "         0.32915926,  0.35363716,  0.35026166,  0.36828285,  0.43541372],\n",
       "       [ 0.37328458,  0.38021156,  0.40240163,  0.31255344,  0.50109261,\n",
       "         0.30825207,  0.35406163,  0.26418555,  0.53262764,  0.30173168,\n",
       "         0.33853054,  0.35366473,  0.42731398,  0.22601253,  0.47690225,\n",
       "         0.40968418,  0.46434289,  0.36865333,  0.51111472,  0.45970225,\n",
       "         0.42763644,  0.38121504,  0.39540541,  0.33945903,  0.33633247],\n",
       "       [ 0.39652649,  0.37497592,  0.31332985,  0.3814787 ,  0.39275122,\n",
       "         0.40853342,  0.27429706,  0.49974358,  0.3276118 ,  0.35137904,\n",
       "         0.40124935,  0.26047325,  0.44018891,  0.51290929,  0.45650253,\n",
       "         0.23950084,  0.41343361,  0.33094218,  0.3806093 ,  0.42073378,\n",
       "         0.25200337,  0.37429491,  0.31198934,  0.39737672,  0.41908216],\n",
       "       [ 0.38441366,  0.39426193,  0.27939001,  0.33248493,  0.37570876,\n",
       "         0.40531257,  0.40775165,  0.45862177,  0.36235306,  0.37865397,\n",
       "         0.26318151,  0.33471707,  0.4258931 ,  0.35626689,  0.4703542 ,\n",
       "         0.35236347,  0.5473184 ,  0.37608695,  0.39753252,  0.31777379,\n",
       "         0.39468613,  0.39593595,  0.43466586,  0.36222714,  0.44983128],\n",
       "       [ 0.38390785,  0.40702447,  0.4042137 ,  0.34144798,  0.4333593 ,\n",
       "         0.38543853,  0.30184415,  0.39422226,  0.42531943,  0.34444535,\n",
       "         0.35490346,  0.38067493,  0.43156138,  0.41773331,  0.41287374,\n",
       "         0.32317239,  0.38361922,  0.3641074 ,  0.43489474,  0.42985752,\n",
       "         0.37901109,  0.40598375,  0.44171116,  0.48022032,  0.35163602],\n",
       "       [ 0.35741547,  0.39408544,  0.30791238,  0.48269352,  0.43033257,\n",
       "         0.38586888,  0.31614417,  0.40006167,  0.43122879,  0.47340259,\n",
       "         0.35549253,  0.37524185,  0.4401691 ,  0.45463789,  0.3713887 ,\n",
       "         0.39334387,  0.38551742,  0.46676168,  0.32713622,  0.36777124,\n",
       "         0.43745562,  0.36162335,  0.34921053,  0.4077397 ,  0.33117914]], dtype=float32)"
      ]
     },
     "execution_count": 55,
     "metadata": {},
     "output_type": "execute_result"
    }
   ],
   "source": [
    "test2[10, 12, :, :]"
   ]
  },
  {
   "cell_type": "code",
   "execution_count": null,
   "metadata": {
    "collapsed": true
   },
   "outputs": [],
   "source": []
  }
 ],
 "metadata": {
  "anaconda-cloud": {},
  "kernelspec": {
   "display_name": "Python [conda env:neon]",
   "language": "python",
   "name": "conda-env-neon-py"
  },
  "language_info": {
   "codemirror_mode": {
    "name": "ipython",
    "version": 3
   },
   "file_extension": ".py",
   "mimetype": "text/x-python",
   "name": "python",
   "nbconvert_exporter": "python",
   "pygments_lexer": "ipython3",
   "version": "3.6.1"
  }
 },
 "nbformat": 4,
 "nbformat_minor": 1
}
