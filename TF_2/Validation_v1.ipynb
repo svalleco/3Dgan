{
 "cells": [
  {
   "cell_type": "markdown",
   "metadata": {},
   "source": [
    "# Make the validation plots and save them"
   ]
  },
  {
   "cell_type": "markdown",
   "metadata": {},
   "source": [
    "### Set the folder where the results of the run are saved. The validation results will be also saved there"
   ]
  },
  {
   "cell_type": "code",
   "execution_count": 5,
   "metadata": {},
   "outputs": [
    {
     "name": "stdout",
     "output_type": "stream",
     "text": [
      "Directory  /eos/home-f/frehm/TF2/Skripts/F02-03/pure tf/PTF_runs/PTF_8/PTF_1//validation  Created \n"
     ]
    }
   ],
   "source": [
    "path= \"/eos/home-f/frehm/TF2/Skripts/F02-03/Runs/run13/run13_4/run13_4/\"    #path to the run folder\n",
    "path= \"/eos/home-f/frehm/TF2/Skripts/F02-03/pure tf/PTF_runs/PTF_8/PTF_1/\"    #path to the run folder\n",
    "#path= \"/eos/home-f/frehm/TF2/Skripts/F02-03/Runs/Improving_Keras_Model/Imp_1/Imp_1/\"\n",
    "#path = os.getcwd() + \"/run13_4/    #or place this file into the run folder\n",
    "#path= \"/eos/home-f/frehm/TF2/Skripts/F02-03/Runs/Run-up-to-date/run-test/\"\n",
    "\n",
    "run_name = \"PTF_6\"\n",
    "\n",
    "from Functions_v1 import *\n",
    "create_folder(path+ \"/validation\")"
   ]
  },
  {
   "cell_type": "markdown",
   "metadata": {},
   "source": [
    "## Create a .gif of the output images of the generator of each epoch"
   ]
  },
  {
   "cell_type": "code",
   "execution_count": 6,
   "metadata": {},
   "outputs": [
    {
     "name": "stdout",
     "output_type": "stream",
     "text": [
      "gif successfull created\n"
     ]
    }
   ],
   "source": [
    "#create Gif\n",
    "from PIL import Image, ImageDraw\n",
    "import os\n",
    "\n",
    "path_img= path + \"Save_Images\"\n",
    "save_name = '/gif_' + run_name + '.gif'\n",
    "images = []\n",
    "listing = os.listdir(path_img)\n",
    "#listing=listing[1:]\n",
    "\n",
    "for i in listing:\n",
    "    img = Image.open(path_img+ \"/\" + i)\n",
    "    images.append(img)\n",
    "\n",
    "images[0].save(path + \"/validation\" + save_name, save_all=True, append_images=images[1:], optimize=False, duration=500, loop=0)\n",
    "print(\"gif successfull created\")"
   ]
  },
  {
   "cell_type": "markdown",
   "metadata": {},
   "source": [
    "## Make the loss plots of the training and save them all in one PDF document"
   ]
  },
  {
   "cell_type": "code",
   "execution_count": 7,
   "metadata": {},
   "outputs": [
    {
     "name": "stdout",
     "output_type": "stream",
     "text": [
      "Directory  /eos/home-f/frehm/TF2/Skripts/F02-03/pure tf/PTF_runs/PTF_8/PTF_1/validation/loss_plots/  Created \n",
      "The plots are saved in /eos/home-f/frehm/TF2/Skripts/F02-03/pure tf/PTF_runs/PTF_8/PTF_1/validation/loss_plots/\n",
      "\n",
      "Saving loss plots successful\n"
     ]
    }
   ],
   "source": [
    "#Analysis loss plots\n",
    "import os\n",
    "import numpy as np\n",
    "import matplotlib.pyplot as plt\n",
    "plt.switch_backend('Agg')\n",
    "try:\n",
    "    import cPickle as pickle\n",
    "except ImportError:\n",
    "    import pickle\n",
    "from matplotlib.backends.backend_pdf import PdfPages  #saving all img to one pdf\n",
    "\n",
    "lossfile = path + '/Pickle/3dgan-history_dict.pkl'\n",
    "x = pickle.load( open( lossfile, \"rb\" ) )\n",
    "weights = [6, 0.2, 0.1]\n",
    "#defining limits for different plots. Varies with result\n",
    "ymax = [10, 3, 2, 40, 0.75, 1.] #[weighted loss for all, BCE_test loss, BCE_train_loss, Aux unweighted, BCE-train for generator only]\n",
    "\n",
    "outdir = path + 'validation/loss_plots/'\n",
    "validation_dir = path + \"validation/\"\n",
    "create_folder(outdir)\n",
    "print('The plots are saved in {}'.format(outdir))\n",
    "\n",
    "fig = 1\n",
    "gen_test =   np.asarray(x['test']['generator'])\n",
    "gen_train =  np.asarray(x['train']['generator'])\n",
    "disc_test =  np.asarray(x['test']['discriminator'])\n",
    "disc_train = np.asarray(x['train']['discriminator'])\n",
    "\n",
    "pp = PdfPages(validation_dir + 'validation_loss.pdf')   #saving all img to one pdf\n",
    "#Plots for Testing and Training Losses\n",
    "plt.figure(fig)\n",
    "plt.subplot(221)\n",
    "plt.title('Disc. Weighted Train loss')\n",
    "plt.plot(disc_train[:,0], label='tot')\n",
    "plt.plot(weights[0] * disc_train[:,1], label='gen')\n",
    "plt.plot(weights[1] * disc_train[:,2], label='aux')\n",
    "plt.plot(weights[2] * disc_train[:,3], label='ecal')\n",
    "plt.legend()                                                                   \n",
    "plt.ylim(0, ymax[0])                                                                                                                           \n",
    "\n",
    "plt.subplot(222)\n",
    "plt.title('Gen. Weighted Train loss')\n",
    "plt.plot(gen_train[:,0], label='tot')\n",
    "plt.plot(weights[0] * gen_train[:,1], label='gen')\n",
    "plt.plot(weights[1] * gen_train[:,2], label='aux')\n",
    "plt.plot(weights[2] * gen_train[:,3], label='ecal')\n",
    "plt.legend()                                                                   \n",
    "plt.ylim(0, ymax[0])                                                                                              \n",
    "\n",
    "plt.subplot(223)\n",
    "plt.title('Testing loss for Discriminator')\n",
    "plt.plot(disc_test[:,0], label='tot')\n",
    "plt.plot(weights[0] * disc_test[:,1], label='gen')\n",
    "plt.plot(weights[1] * disc_test[:,2], label='aux')\n",
    "plt.plot(weights[2] * disc_test[:,3], label='ecal')\n",
    "plt.legend()\n",
    "plt.ylim(0, ymax[0])  \n",
    "\n",
    "plt.subplot(224)\n",
    "plt.title('\\nTesting loss for Generator')\n",
    "plt.plot(gen_test[:,0], label='tot')\n",
    "plt.plot(weights[0] * gen_test[:,1], label='gen')\n",
    "plt.plot(weights[1] * gen_test[:,2], label='aux')\n",
    "plt.plot(weights[2] *disc_test[:,3], label='ecal')\n",
    "plt.legend()\n",
    "plt.ylim(0, ymax[0])  \n",
    "plt.savefig(os.path.join(outdir,'losses.png')) \n",
    "plt.savefig(pp, format='pdf')   #saving all img to one pdf\n",
    "\n",
    "#Training losses\n",
    "fig = fig + 1\n",
    "plt.figure(fig)\n",
    "plt.title('Weighted Training losses for GAN: Loss weights = (%0.2f, %.2f, %.2f)'%(weights[0], weights[1], weights[2]))\n",
    "plt.plot(disc_train[:,0], label='Disc tot', color='red')\n",
    "plt.plot(weights[0] * disc_train[:,1], label='Disc gen (Binary Cross Entropy)', color='green')\n",
    "plt.plot(weights[1] * disc_train[:,2], label='Disc aux (Mean Absolute Percentage Error)', color='blue')\n",
    "plt.plot(weights[2] * disc_train[:,3], label='Disc ecal(Mean Absolute Percentage Error)', color='magenta')\n",
    "plt.plot(gen_train[:,0], label='Gen tot', color='red', linestyle='--')\n",
    "plt.plot(weights[0] * gen_train[:,1], label='Gen gen (Binary Cross Entropy)', color='green', linestyle='--')\n",
    "plt.plot(weights[1] * gen_train[:,2], label='Gen aux (Mean Absolute Percentage Error)', color='blue', linestyle='--')\n",
    "plt.plot(weights[2] * gen_train[:,3], label='Gen ecal(Mean Absolute Percentage Error)', color='magenta', linestyle='--')\n",
    "plt.legend()\n",
    "plt.xlabel('Epochs')  \n",
    "plt.ylabel('Loss')                            \n",
    "plt.ylim(0, ymax[0])  \n",
    "plt.savefig(os.path.join(outdir, 'Combined_losses.png'))\n",
    "plt.savefig(pp, format='pdf')\n",
    "\n",
    "#training losses for Real/fake\n",
    "fig = fig + 1\n",
    "plt.figure(fig)\n",
    "plt.title('Binary Training losses for GAN')\n",
    "plt.plot(disc_train[:,1], label='Disc gen (Binary Cross Entropy)', color='green')\n",
    "plt.plot(gen_train[:,1], label='Gen gen (Binary Cross Entropy)', color='blue')\n",
    "plt.legend()\n",
    "plt.xlabel('Epochs')  \n",
    "plt.ylabel('Loss')                            \n",
    "plt.ylim(0, ymax[1])  \n",
    "plt.savefig(os.path.join(outdir, 'BCE_train_losses.png'))\n",
    "plt.savefig(pp, format='pdf')\n",
    "\n",
    "#training losses for Real/fake Magnified\n",
    "fig = fig + 1\n",
    "start_epoch = 10\n",
    "plt.figure(fig)\n",
    "plt.title('Binary Training losses for Generator')\n",
    "#plt.plot(disc_train[:,1], label='Disc gen (Binary Cross Entropy)', color='green')\n",
    "plt.plot(gen_train[start_epoch:,1], label='Gen gen (Binary Cross Entropy)', color='blue')\n",
    "plt.legend()\n",
    "plt.xlabel('Epochs starting from epoch' + str(start_epoch))  \n",
    "plt.ylabel('Loss')                            \n",
    "plt.ylim(ymax[4], ymax[5])  \n",
    "plt.savefig(os.path.join(outdir, 'BCE_train_gen_losses.png'))\n",
    "plt.savefig(pp, format='pdf')\n",
    "\n",
    "#testing losses for Real/fake\n",
    "fig = fig + 1\n",
    "plt.figure(fig)\n",
    "plt.title('Binary Testing losses for GAN')\n",
    "plt.plot(disc_test[:,1], label='Disc gen (Binary Cross Entropy)', color='green')\n",
    "plt.plot(gen_test[:,1], label='Gen gen (Binary Cross Entropy)', color='blue')\n",
    "plt.legend()\n",
    "plt.xlabel('Epochs')  \n",
    "plt.ylabel('Loss')                            \n",
    "plt.ylim(0, ymax[2])  \n",
    "plt.savefig(os.path.join(outdir, 'BCE_test_losses.png'))\n",
    "plt.savefig(pp, format='pdf')\n",
    "\n",
    "#Training losses for auxlilliary losses\n",
    "fig = fig + 1\n",
    "plt.figure(fig)\n",
    "plt.title('Training losses for Auxilliary outputs')\n",
    "plt.plot(disc_train[:,2], label='Disc aux (Mean Absolute Percentage Error)', color='blue')\n",
    "plt.plot(disc_train[:,3], label='Disc ecal(Mean Absolute Percentage Error)', color='magenta')\n",
    "plt.plot(gen_train[:,2], label='Gen aux (Mean Absolute Percentage Error)', color='blue', linestyle='--')\n",
    "plt.plot(gen_train[:,3], label='Gen ecal(Mean Absolute Percentage Error)', color='magenta', linestyle='--')\n",
    "plt.legend()\n",
    "plt.xlabel('Epochs')  \n",
    "plt.ylabel('Loss')                            \n",
    "plt.ylim(0, ymax[3])  \n",
    "plt.savefig(os.path.join(outdir, 'aux_training_losses.png'))\n",
    "plt.savefig(pp, format='pdf')\n",
    "\n",
    "#Diff. for training losses Real/fake\n",
    "fig = fig + 1\n",
    "plt.figure(fig)\n",
    "plt.title('Binary Training losses for GAN')\n",
    "plt.plot(gen_train[:,1] - disc_train[:,1], label='Gen loss - Disc loss (Binary Cross Entropy)')\n",
    "plt.legend()\n",
    "plt.xlabel('Epochs')  \n",
    "plt.ylabel('Loss')                            \n",
    "plt.ylim(0, ymax[1])  \n",
    "plt.savefig(os.path.join(outdir, 'BCE_train_losses_diff.png'))\n",
    "plt.savefig(pp, format='pdf')\n",
    "\n",
    "pp.close()    #saving all img to one pdf\n",
    "print(\"\\nSaving loss plots successful\")"
   ]
  },
  {
   "cell_type": "code",
   "execution_count": null,
   "metadata": {},
   "outputs": [],
   "source": []
  }
 ],
 "metadata": {
  "kernelspec": {
   "display_name": "Python 3",
   "language": "python",
   "name": "python3"
  },
  "language_info": {
   "codemirror_mode": {
    "name": "ipython",
    "version": 3
   },
   "file_extension": ".py",
   "mimetype": "text/x-python",
   "name": "python",
   "nbconvert_exporter": "python",
   "pygments_lexer": "ipython3",
   "version": "3.6.8"
  }
 },
 "nbformat": 4,
 "nbformat_minor": 4
}
